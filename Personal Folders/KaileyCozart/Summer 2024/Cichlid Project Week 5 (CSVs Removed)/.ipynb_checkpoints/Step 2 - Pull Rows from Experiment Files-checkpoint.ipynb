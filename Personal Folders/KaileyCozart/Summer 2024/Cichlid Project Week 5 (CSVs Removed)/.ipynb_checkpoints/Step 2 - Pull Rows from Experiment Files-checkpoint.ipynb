{
 "cells": [
  {
   "cell_type": "markdown",
   "id": "18a2e380",
   "metadata": {},
   "source": [
    "# Step 2 - Pull Rows from Experiment Files"
   ]
  },
  {
   "cell_type": "markdown",
   "id": "b9476b0e",
   "metadata": {},
   "source": [
    "Sources: The following was written using generative ai."
   ]
  },
  {
   "cell_type": "code",
   "execution_count": 1,
   "id": "d6069d51",
   "metadata": {},
   "outputs": [
    {
     "name": "stdout",
     "output_type": "stream",
     "text": [
      "Processing complete. Data has been saved to file_list_male_parsed_count_updated_short.csv\n"
     ]
    }
   ],
   "source": [
    "# Imports\n",
    "import csv\n",
    "import pandas as pd\n",
    "\n",
    "# Set Input and Output Files\n",
    "input_file_list = 'file_list_male_parsed_short.csv'\n",
    "output_file_path = 'file_list_male_parsed_count_updated_short.csv'\n",
    "\n",
    "# Dict for Caching Experiment DFs\n",
    "experiment_data_cache = {}\n",
    "\n",
    "# Open Input File\n",
    "with open(input_file_list, 'r', encoding='utf-8') as input_csv:\n",
    "    csv_reader = csv.DictReader(input_csv)\n",
    "    \n",
    "    # Prepare Output File\n",
    "    with open(output_file_path, 'w', newline='', encoding='utf-8') as output_csv:\n",
    "        fieldnames = ['experiment_name', 'video_base_name', 'track_id', 'count_uncalibrated', \n",
    "                      'new_count_uncalibrated', 'xc', 'yc', 'u_dot', 'v_dot', 's_dot', \n",
    "                      'class_id', 'p_value', 'track_length', 'w', 'h', 'frame']\n",
    "        csv_writer = csv.DictWriter(output_csv, fieldnames=fieldnames)\n",
    "        csv_writer.writeheader()\n",
    "        \n",
    "        # Process each Line from Input File\n",
    "        for row in csv_reader:\n",
    "            \n",
    "            # Grab Cells for Filtering\n",
    "            experiment_name = row['experiment_name']\n",
    "            video_base_name = row['video_base_name']\n",
    "            track_id = row['track_id']\n",
    "            count_uncalibrated = int(row['count_uncalibrated'])\n",
    "            \n",
    "            # Create the File to be Read\n",
    "            experiment_file = f\"AllTrackedFish_new_{experiment_name}.csv\"\n",
    "            \n",
    "            # Load the File if Not Already Loaded\n",
    "            if experiment_name not in experiment_data_cache:\n",
    "                try:\n",
    "                    experiment_data_cache[experiment_name] = pd.read_csv(experiment_file)\n",
    "                except FileNotFoundError:\n",
    "                    print(f\"File {experiment_file} not found.\")\n",
    "                    continue\n",
    "                except Exception as e:\n",
    "                    print(f\"Error processing file {experiment_file}: {e}\")\n",
    "                    continue\n",
    "\n",
    "            # Get DF for Current Experiment\n",
    "            experiment_df = experiment_data_cache[experiment_name]\n",
    "            \n",
    "            # Filter Data by video_base_name and track_id\n",
    "            filtered_data = experiment_df[\n",
    "                (experiment_df['base_name'] == video_base_name) & \n",
    "                (experiment_df['track_id'] == int(track_id))\n",
    "            ]\n",
    "            \n",
    "            if not filtered_data.empty:\n",
    "                \n",
    "                # Calculate the New Count\n",
    "                frame_value = filtered_data.iloc[0]['frame']\n",
    "                new_count_uncalibrated = count_uncalibrated + frame_value\n",
    "                \n",
    "                # Filter by New Count aka Frame\n",
    "                filtered_by_count = filtered_data[filtered_data['frame'] == new_count_uncalibrated]\n",
    "                \n",
    "                if not filtered_by_count.empty:\n",
    "                    \n",
    "                    # Extract First Row (Or Any Specific Row if Needed)\n",
    "                    # There Should Only Be One Row with a Particular Frame\n",
    "                    row_data = filtered_by_count.iloc[0]\n",
    "                    \n",
    "                    # Write to Output File\n",
    "                    csv_writer.writerow({\n",
    "                        'experiment_name': experiment_name,\n",
    "                        'video_base_name': video_base_name,\n",
    "                        'track_id': track_id,\n",
    "                        'count_uncalibrated': count_uncalibrated,\n",
    "                        'new_count_uncalibrated': new_count_uncalibrated,\n",
    "                        'xc': row_data['xc'],\n",
    "                        'yc': row_data['yc'],\n",
    "                        'u_dot': row_data['u_dot'],\n",
    "                        'v_dot': row_data['v_dot'],\n",
    "                        's_dot': row_data['s_dot'],\n",
    "                        'class_id': row_data['class_id'],\n",
    "                        'p_value': row_data['p_value'],\n",
    "                        'track_length': row_data['track_length'],\n",
    "                        'w': row_data['w'],\n",
    "                        'h': row_data['h'],\n",
    "                        'frame': row_data['frame']\n",
    "                    })\n",
    "                else:\n",
    "                    print(f\"No matching frame {new_count_uncalibrated} in file {experiment_file} for video_base_name {video_base_name}\")\n",
    "            else:\n",
    "                print(f\"No matching track_id {track_id} in file {experiment_file} for video_base_name {video_base_name}\")\n",
    "\n",
    "print('Processing complete. Data has been saved to', output_file_path)"
   ]
  }
 ],
 "metadata": {
  "kernelspec": {
   "display_name": "Python 3 (ipykernel)",
   "language": "python",
   "name": "python3"
  },
  "language_info": {
   "codemirror_mode": {
    "name": "ipython",
    "version": 3
   },
   "file_extension": ".py",
   "mimetype": "text/x-python",
   "name": "python",
   "nbconvert_exporter": "python",
   "pygments_lexer": "ipython3",
   "version": "3.11.5"
  }
 },
 "nbformat": 4,
 "nbformat_minor": 5
}
