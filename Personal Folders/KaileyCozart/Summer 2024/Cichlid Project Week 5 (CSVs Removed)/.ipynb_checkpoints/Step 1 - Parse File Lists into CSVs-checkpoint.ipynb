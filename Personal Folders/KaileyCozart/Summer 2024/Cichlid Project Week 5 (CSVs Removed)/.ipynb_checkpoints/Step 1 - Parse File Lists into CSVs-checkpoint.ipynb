{
 "cells": [
  {
   "cell_type": "markdown",
   "id": "0698d1f3",
   "metadata": {},
   "source": [
    "# Step 1 - Parse File Lists into CSVs"
   ]
  },
  {
   "cell_type": "markdown",
   "id": "ff9d8d5c",
   "metadata": {},
   "source": [
    "Sources: The following was written using generative ai."
   ]
  },
  {
   "cell_type": "code",
   "execution_count": 1,
   "id": "4ca8cde3",
   "metadata": {},
   "outputs": [],
   "source": [
    "# Uncomment to Install\n",
    "# !pip install chardet"
   ]
  },
  {
   "cell_type": "code",
   "execution_count": 2,
   "id": "fd14d7c0",
   "metadata": {},
   "outputs": [
    {
     "name": "stdout",
     "output_type": "stream",
     "text": [
      "Processing complete. Data has been saved to file_list_male_parsed.csv\n"
     ]
    }
   ],
   "source": [
    "# Imports\n",
    "import csv\n",
    "import chardet\n",
    "\n",
    "# Input and Output Files\n",
    "input_file_path = 'file_list_male.txt'\n",
    "output_file_path = 'file_list_male_parsed.csv'\n",
    "\n",
    "# Detect the Input File Encoding\n",
    "with open(input_file_path, 'rb') as raw_file:\n",
    "    raw_data = raw_file.read()\n",
    "    result = chardet.detect(raw_data)\n",
    "    encoding = result['encoding']\n",
    "\n",
    "# Open the Input File for Reading\n",
    "with open(input_file_path, 'r', encoding=encoding) as input_file:\n",
    "    lines = input_file.readlines()\n",
    "\n",
    "# Create Output File\n",
    "with open(output_file_path, 'w', newline='', encoding='utf-8') as output_file:\n",
    "    \n",
    "    # Set up CSV\n",
    "    csv_writer = csv.writer(output_file)\n",
    "    csv_writer.writerow(['experiment_name', 'video_base_name', 'track_id', 'count_uncalibrated'])\n",
    "    \n",
    "    # Write to CSV\n",
    "    for line in lines:\n",
    "        clean_line = line.strip().replace('.jpg', '')\n",
    "        parts = clean_line.split('__')\n",
    "        csv_writer.writerow(parts)\n",
    "\n",
    "# Confirm Completion\n",
    "print('Processing complete. Data has been saved to', output_file_path)"
   ]
  }
 ],
 "metadata": {
  "kernelspec": {
   "display_name": "Python 3 (ipykernel)",
   "language": "python",
   "name": "python3"
  },
  "language_info": {
   "codemirror_mode": {
    "name": "ipython",
    "version": 3
   },
   "file_extension": ".py",
   "mimetype": "text/x-python",
   "name": "python",
   "nbconvert_exporter": "python",
   "pygments_lexer": "ipython3",
   "version": "3.11.5"
  }
 },
 "nbformat": 4,
 "nbformat_minor": 5
}
