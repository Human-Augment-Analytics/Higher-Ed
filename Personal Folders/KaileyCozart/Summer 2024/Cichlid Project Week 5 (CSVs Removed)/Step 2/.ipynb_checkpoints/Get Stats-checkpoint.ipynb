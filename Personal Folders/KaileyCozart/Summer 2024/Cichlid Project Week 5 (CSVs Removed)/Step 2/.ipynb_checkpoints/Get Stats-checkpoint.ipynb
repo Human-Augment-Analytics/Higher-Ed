{
 "cells": [
  {
   "cell_type": "markdown",
   "id": "b47becdf",
   "metadata": {},
   "source": [
    "# Get Stats"
   ]
  },
  {
   "cell_type": "markdown",
   "id": "ba7fdc76",
   "metadata": {},
   "source": [
    "Sources: The following was written using generative ai."
   ]
  },
  {
   "cell_type": "markdown",
   "id": "ec327538",
   "metadata": {},
   "source": [
    "Find the Number of Rows in Each File (Number of Samples of Each Fish Sex)"
   ]
  },
  {
   "cell_type": "code",
   "execution_count": 1,
   "id": "a810f9e2",
   "metadata": {},
   "outputs": [
    {
     "name": "stdout",
     "output_type": "stream",
     "text": [
      "File: file_list_female_parsed.csv, Number of Rows: 626696\n",
      "File: file_list_male_parsed.csv, Number of Rows: 379027\n"
     ]
    }
   ],
   "source": [
    "# Import\n",
    "import pandas as pd\n",
    "\n",
    "# Function for Counting Rows\n",
    "def count_rows_in_csv(csv_files):\n",
    "    for csv_file in csv_files:\n",
    "        try:\n",
    "            df = pd.read_csv(csv_file)\n",
    "            num_rows = len(df)\n",
    "            print(f\"File: {csv_file}, Number of Rows: {num_rows}\")\n",
    "        except Exception as e:\n",
    "            print(f\"Error reading file {csv_file}: {e}\")\n",
    "\n",
    "# Count Both Files\n",
    "csv_files = ['file_list_female_parsed.csv', 'file_list_male_parsed.csv']\n",
    "count_rows_in_csv(csv_files)"
   ]
  }
 ],
 "metadata": {
  "kernelspec": {
   "display_name": "Python 3 (ipykernel)",
   "language": "python",
   "name": "python3"
  },
  "language_info": {
   "codemirror_mode": {
    "name": "ipython",
    "version": 3
   },
   "file_extension": ".py",
   "mimetype": "text/x-python",
   "name": "python",
   "nbconvert_exporter": "python",
   "pygments_lexer": "ipython3",
   "version": "3.11.5"
  }
 },
 "nbformat": 4,
 "nbformat_minor": 5
}
