{
 "cells": [
  {
   "cell_type": "markdown",
   "id": "a7d320ee",
   "metadata": {},
   "source": [
    "# Dimensionality Reduction"
   ]
  },
  {
   "cell_type": "markdown",
   "id": "43ce6763",
   "metadata": {},
   "source": [
    "### 1. Read in Data"
   ]
  },
  {
   "cell_type": "code",
   "execution_count": 1,
   "id": "75c6d842",
   "metadata": {},
   "outputs": [
    {
     "name": "stdout",
     "output_type": "stream",
     "text": [
      "        gender  track_id\n",
      "0            0      1330\n",
      "1            0      1330\n",
      "2            0      1330\n",
      "3            0      1330\n",
      "4            0      1330\n",
      "...        ...       ...\n",
      "752822       1      9350\n",
      "752823       1      9350\n",
      "752824       1      9350\n",
      "752825       1      9350\n",
      "752826       1      9350\n",
      "\n",
      "[752827 rows x 2 columns]\n",
      "        speed  mean_turning_angle  outreach_ratio  square_displacement\n",
      "0    0.017104           -0.763880       -0.095906            -0.526893\n",
      "1    0.903157           -0.088360        2.758743            -0.734142\n",
      "2   -0.388369           -0.258712       -0.429537            -0.012855\n",
      "3   -1.228999            1.646708       -0.778964             0.981006\n",
      "4    0.202749           -0.332778       -0.597380             0.264041\n",
      "..        ...                 ...             ...                  ...\n",
      "486 -0.515828            0.039455       -0.714644             1.373780\n",
      "487 -0.862663            0.605837       -0.320117            -0.136145\n",
      "488 -1.297681            1.538483        0.073018            -0.159257\n",
      "489  0.018962            0.183140       -0.799390             0.595369\n",
      "490 -0.915997            0.268656       -0.498486            -0.281150\n",
      "\n",
      "[491 rows x 4 columns]\n"
     ]
    }
   ],
   "source": [
    "# Imports\n",
    "import numpy as np\n",
    "import pandas as pd\n",
    "\n",
    "# Read Data\n",
    "class_id_array = pd.read_csv('class_id_array.csv')\n",
    "data = pd.read_csv('data.csv')\n",
    "data = data.drop(columns=['track_id'])\n",
    "print(class_id_array)\n",
    "print(data)"
   ]
  },
  {
   "cell_type": "markdown",
   "id": "2d6b7ce6",
   "metadata": {},
   "source": [
    "### 2. ICA"
   ]
  },
  {
   "cell_type": "code",
   "execution_count": 4,
   "id": "79cc1bfe",
   "metadata": {},
   "outputs": [],
   "source": [
    "# Imports\n",
    "import matplotlib.pyplot as plt\n",
    "from sklearn.decomposition import FastICA\n",
    "\n",
    "# Perform ICA\n",
    "ica = FastICA(n_components = 3, random_state=42)\n",
    "ica.fit(data)\n",
    "data_ica = ica.transform(data)\n",
    "np.savetxt('ica_transformed_data.csv', data_ica, delimiter=',')\n",
    "\n",
    "# Save Test Data if NN"
   ]
  }
 ],
 "metadata": {
  "kernelspec": {
   "display_name": "Python 3 (ipykernel)",
   "language": "python",
   "name": "python3"
  },
  "language_info": {
   "codemirror_mode": {
    "name": "ipython",
    "version": 3
   },
   "file_extension": ".py",
   "mimetype": "text/x-python",
   "name": "python",
   "nbconvert_exporter": "python",
   "pygments_lexer": "ipython3",
   "version": "3.11.5"
  }
 },
 "nbformat": 4,
 "nbformat_minor": 5
}
