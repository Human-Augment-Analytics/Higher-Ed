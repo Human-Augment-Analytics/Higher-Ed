{
 "cells": [
  {
   "cell_type": "markdown",
   "id": "33f29442",
   "metadata": {},
   "source": [
    "# Functions for Calculating Features"
   ]
  },
  {
   "cell_type": "markdown",
   "id": "5a0122cf",
   "metadata": {},
   "source": [
    "Example Data"
   ]
  },
  {
   "cell_type": "code",
   "execution_count": 1,
   "id": "afe1e24d",
   "metadata": {},
   "outputs": [],
   "source": [
    "# Imports\n",
    "import numpy as np\n",
    "import pandas as pd"
   ]
  },
  {
   "cell_type": "code",
   "execution_count": 2,
   "id": "6e1e71b1",
   "metadata": {},
   "outputs": [
    {
     "name": "stdout",
     "output_type": "stream",
     "text": [
      "      track_id          xc          yc     u_dot      v_dot        s_dot  \\\n",
      "0         1330  117.405639  104.372970  6.973857  22.796302  4094.324244   \n",
      "1         1330  123.302195  123.913192  6.585702  21.623125  4154.148577   \n",
      "2         1330  111.683189  400.633206 -0.382109  28.731078  1993.790100   \n",
      "3         1330  821.635502  527.801237  5.468046  -3.778739    82.335724   \n",
      "4         1330  883.833486  309.388663  2.265553   0.529649    -4.429363   \n",
      "...        ...         ...         ...       ...        ...          ...   \n",
      "3779      1330  864.092844  310.008467  1.328953   1.012996    28.693940   \n",
      "3780      1330  866.778571  306.436494  1.451355   0.599358    28.197714   \n",
      "3781      1330  872.650345  311.583098  1.850148   1.009592    13.827257   \n",
      "3782      1330  879.723669  314.490788  2.321362   1.180831     5.170951   \n",
      "3783      1330  882.995121  312.947496  2.407075   0.935072    -2.986053   \n",
      "\n",
      "       frame  \n",
      "0     382058  \n",
      "1     382059  \n",
      "2     382068  \n",
      "3     382158  \n",
      "4     383058  \n",
      "...      ...  \n",
      "3779  383053  \n",
      "3780  383054  \n",
      "3781  383055  \n",
      "3782  383056  \n",
      "3783  383057  \n",
      "\n",
      "[3784 rows x 7 columns]\n"
     ]
    }
   ],
   "source": [
    "# Sample Data for a Track\n",
    "sample_data = pd.read_csv('data_for_sample.csv')\n",
    "data = pd.DataFrame(sample_data)\n",
    "print(data)"
   ]
  },
  {
   "cell_type": "markdown",
   "id": "27e62160",
   "metadata": {},
   "source": [
    "Create Simple Features"
   ]
  },
  {
   "cell_type": "code",
   "execution_count": 3,
   "id": "dd6eaf64",
   "metadata": {},
   "outputs": [],
   "source": [
    "def calculate_speed(df):\n",
    "    df['speed'] = np.sqrt(df['u_dot']**2 + df['v_dot']**2)\n",
    "    return df\n",
    "\n",
    "def calculate_outreach_ratio(df):\n",
    "    start_x, start_y = df.iloc[0][['xc', 'yc']]\n",
    "    end_x, end_y = df.iloc[-1][['xc', 'yc']]\n",
    "    displacement = np.sqrt((end_x - start_x)**2 + (end_y - start_y)**2)\n",
    "    path_length = df['speed'].sum()\n",
    "    outreach_ratio = displacement / path_length if path_length != 0 else 0\n",
    "    return outreach_ratio\n",
    "\n",
    "def calculate_acceleration(u_dot, v_dot, time_intervals):\n",
    "    u_dot = np.array(u_dot)\n",
    "    v_dot = np.array(v_dot)\n",
    "    time_intervals = np.array(time_intervals)\n",
    "    ax = np.diff(u_dot) / time_intervals[:-1]\n",
    "    ay = np.diff(v_dot) / time_intervals[:-1]\n",
    "    acceleration = np.sqrt(ax**2 + ay**2)\n",
    "    return ax, ay, acceleration\n",
    "\n",
    "def calculate_distance_traveled(xc, yc):\n",
    "    xc = np.array(xc)\n",
    "    yc = np.array(yc)\n",
    "    dx = np.diff(xc)\n",
    "    dy = np.diff(yc)\n",
    "    distances = np.sqrt(dx**2 + dy**2)\n",
    "    distance_traveled = np.sum(distances)\n",
    "    return distance_traveled"
   ]
  },
  {
   "cell_type": "code",
   "execution_count": 4,
   "id": "634cda31",
   "metadata": {},
   "outputs": [
    {
     "name": "stdout",
     "output_type": "stream",
     "text": [
      "   track_id     speed  outreach_ratio  mean_acceleration  distance_traveled\n",
      "0      1330  2.669734        0.086335           0.281946        15439.79521\n"
     ]
    }
   ],
   "source": [
    "features = []\n",
    "grouped = data.groupby('track_id')\n",
    "\n",
    "for track_id, group in grouped:\n",
    "    group = group.sort_values(by='frame')\n",
    "    speed = calculate_speed(group)['speed'].mean()\n",
    "    outreach_ratio = calculate_outreach_ratio(group)\n",
    "    time_intervals = group['frame'].diff().fillna(1).values  # Assume frame difference as time interval\n",
    "    ax, ay, acceleration = calculate_acceleration(group['u_dot'], group['v_dot'], time_intervals)\n",
    "    mean_acceleration = np.mean(acceleration)\n",
    "    distance_traveled = calculate_distance_traveled(group['xc'], group['yc'])\n",
    "    features.append({\n",
    "        'track_id': track_id,\n",
    "        'speed': speed,\n",
    "        'outreach_ratio': outreach_ratio,\n",
    "        'mean_acceleration': mean_acceleration,\n",
    "        'distance_traveled': distance_traveled\n",
    "    })\n",
    "\n",
    "features_df = pd.DataFrame(features)\n",
    "print(features_df.head())"
   ]
  },
  {
   "cell_type": "markdown",
   "id": "c2d2b75b",
   "metadata": {},
   "source": [
    "Create Clustering Feature"
   ]
  },
  {
   "cell_type": "code",
   "execution_count": 5,
   "id": "21d5bc30",
   "metadata": {},
   "outputs": [],
   "source": [
    "# Imports\n",
    "import joblib\n",
    "\n",
    "# Load Object\n",
    "gm = joblib.load('gaussian_mixture_model.pkl')\n",
    "with open('labels.pkl', 'rb') as f:\n",
    "    labels = joblib.load(f)"
   ]
  },
  {
   "cell_type": "code",
   "execution_count": 6,
   "id": "d18bea52",
   "metadata": {
    "scrolled": true
   },
   "outputs": [
    {
     "name": "stdout",
     "output_type": "stream",
     "text": [
      "[1]\n"
     ]
    },
    {
     "name": "stderr",
     "output_type": "stream",
     "text": [
      "C:\\Users\\kaiwi\\anaconda3\\Lib\\site-packages\\sklearn\\base.py:486: UserWarning: X has feature names, but GaussianMixture was fitted without feature names\n",
      "  warnings.warn(\n"
     ]
    }
   ],
   "source": [
    "# Remove Track ID and Cluster\n",
    "features_df_no_track_id = features_df.drop('track_id', axis=1)\n",
    "predicted_clusters = gm.predict(features_df_no_track_id)\n",
    "print(predicted_clusters)"
   ]
  },
  {
   "cell_type": "code",
   "execution_count": 7,
   "id": "0fb849c0",
   "metadata": {},
   "outputs": [
    {
     "name": "stdout",
     "output_type": "stream",
     "text": [
      "   track_id     speed  outreach_ratio  mean_acceleration  distance_traveled  \\\n",
      "0      1330  2.669734        0.086335           0.281946        15439.79521   \n",
      "\n",
      "   predicted_clusters  \n",
      "0                   1  \n"
     ]
    }
   ],
   "source": [
    "# Add to DF\n",
    "features_df = features_df.assign(predicted_clusters=predicted_clusters)\n",
    "print(features_df)"
   ]
  },
  {
   "cell_type": "markdown",
   "id": "53970814",
   "metadata": {},
   "source": [
    "Now use cutoffs to classify. In this example, there are no cutoffs that help."
   ]
  }
 ],
 "metadata": {
  "kernelspec": {
   "display_name": "Python 3 (ipykernel)",
   "language": "python",
   "name": "python3"
  },
  "language_info": {
   "codemirror_mode": {
    "name": "ipython",
    "version": 3
   },
   "file_extension": ".py",
   "mimetype": "text/x-python",
   "name": "python",
   "nbconvert_exporter": "python",
   "pygments_lexer": "ipython3",
   "version": "3.11.5"
  }
 },
 "nbformat": 4,
 "nbformat_minor": 5
}
