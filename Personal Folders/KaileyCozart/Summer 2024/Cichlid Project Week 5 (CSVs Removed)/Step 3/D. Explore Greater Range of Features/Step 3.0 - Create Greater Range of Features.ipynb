{
 "cells": [
  {
   "cell_type": "markdown",
   "id": "0eafc243",
   "metadata": {},
   "source": [
    "# Step 3 - Create Dataset with More Features"
   ]
  },
  {
   "cell_type": "markdown",
   "id": "ed02f0ee",
   "metadata": {},
   "source": [
    "Sources: \n",
    "Previous Weeks Code, Generative AI, \n",
    "https://cran.r-project.org/web/packages/celltrackR/vignettes/clustering.html"
   ]
  },
  {
   "cell_type": "markdown",
   "id": "096d1255",
   "metadata": {},
   "source": [
    "### 1. Read Data"
   ]
  },
  {
   "cell_type": "code",
   "execution_count": 10,
   "id": "b59438e3",
   "metadata": {},
   "outputs": [
    {
     "name": "stdout",
     "output_type": "stream",
     "text": [
      "(752827, 17)\n",
      "                experiment_name video_base_name  track_id  count_uncalibrated  \\\n",
      "0  MC_singlenuc23_1_Tk33_021220        0001_vid      1330                   0   \n",
      "1  MC_singlenuc23_1_Tk33_021220        0001_vid      1330                   1   \n",
      "2  MC_singlenuc23_1_Tk33_021220        0001_vid      1330                  10   \n",
      "3  MC_singlenuc23_1_Tk33_021220        0001_vid      1330                 100   \n",
      "4  MC_singlenuc23_1_Tk33_021220        0001_vid      1330                1000   \n",
      "\n",
      "   new_count_uncalibrated          xc          yc     u_dot      v_dot  \\\n",
      "0                  382058  117.405639  104.372970  6.973857  22.796302   \n",
      "1                  382059  123.302195  123.913192  6.585702  21.623125   \n",
      "2                  382068  111.683189  400.633206 -0.382109  28.731078   \n",
      "3                  382158  821.635502  527.801237  5.468046  -3.778739   \n",
      "4                  383058  883.833486  309.388663  2.265553   0.529649   \n",
      "\n",
      "         s_dot  class_id   p_value  track_length           w           h  \\\n",
      "0  4094.324244       0.0  0.951274          4209   90.968022  178.890712   \n",
      "1  4154.148577       0.0  0.948788          4209   97.082408  211.697543   \n",
      "2  1993.790100       0.0  0.971033          4209  116.128018  283.932432   \n",
      "3    82.335724       0.0  0.975735          4209  170.506534  138.563970   \n",
      "4    -4.429363       0.0  0.958767          4209   99.582545  202.605340   \n",
      "\n",
      "    frame  gender  \n",
      "0  382058       0  \n",
      "1  382059       0  \n",
      "2  382068       0  \n",
      "3  382158       0  \n",
      "4  383058       0  \n"
     ]
    }
   ],
   "source": [
    "# Imports\n",
    "import pandas as pd\n",
    "\n",
    "# Read in 2 Data Files and Combine, Mark as M/F\n",
    "female_data = pd.read_csv('file_list_female_parsed_with_data_failed.csv')\n",
    "male_data = pd.read_csv('file_list_male_parsed_with_data.csv')\n",
    "female_data['gender'] = 0  # Female data is 0\n",
    "male_data['gender'] = 1    # Male data is 1\n",
    "combined_data = pd.concat([female_data, male_data], ignore_index=True)\n",
    "# combined_data.to_csv('combined_dataset.csv', index=False)\n",
    "print(combined_data.shape)\n",
    "print(combined_data.head())"
   ]
  },
  {
   "cell_type": "code",
   "execution_count": 11,
   "id": "12ce7672",
   "metadata": {},
   "outputs": [
    {
     "name": "stdout",
     "output_type": "stream",
     "text": [
      "Modified CSV Data: \n",
      "\n",
      "        track_id          xc          yc     u_dot      v_dot        s_dot  \\\n",
      "0           1330  117.405639  104.372970  6.973857  22.796302  4094.324244   \n",
      "1           1330  123.302195  123.913192  6.585702  21.623125  4154.148577   \n",
      "2           1330  111.683189  400.633206 -0.382109  28.731078  1993.790100   \n",
      "3           1330  821.635502  527.801237  5.468046  -3.778739    82.335724   \n",
      "4           1330  883.833486  309.388663  2.265553   0.529649    -4.429363   \n",
      "...          ...         ...         ...       ...        ...          ...   \n",
      "752822      9350  156.276651  671.360475  4.437002   6.482767    23.792231   \n",
      "752823      9350  162.206921  672.395285  4.571728   5.991240    25.240829   \n",
      "752824      9350  170.841343  672.257588  4.938269   5.438280    26.805397   \n",
      "752825      9350  178.862178  673.323482  5.216379   5.043803    29.915899   \n",
      "752826      9350  187.945173  674.862680  5.565223   4.727619    30.420474   \n",
      "\n",
      "         frame  \n",
      "0       382058  \n",
      "1       382059  \n",
      "2       382068  \n",
      "3       382158  \n",
      "4       383058  \n",
      "...        ...  \n",
      "752822  537123  \n",
      "752823  537124  \n",
      "752824  537125  \n",
      "752825  537126  \n",
      "752826  537127  \n",
      "\n",
      "[752827 rows x 7 columns]\n"
     ]
    }
   ],
   "source": [
    "# Rename Data\n",
    "data = combined_data\n",
    "\n",
    "# Save Class ID for Later Comparison\n",
    "class_id_array = data[['gender', 'track_id']].copy()\n",
    "\n",
    "# Drop Potential Labels\n",
    "data.drop('gender', inplace=True, axis=1) \n",
    "\n",
    "# Drop Un-needed Columns\n",
    "data.drop('video_base_name', inplace=True, axis=1) \n",
    "\n",
    "# Drop Cols that We Might Need\n",
    "data.drop('w', inplace=True, axis=1) \n",
    "data.drop('h', inplace=True, axis=1) \n",
    "data.drop('p_value', inplace=True, axis=1) \n",
    "data.drop('class_id', inplace=True, axis=1)\n",
    "data.drop('track_length', inplace=True, axis=1) \n",
    "data.drop('experiment_name', inplace=True, axis=1) \n",
    "data.drop('count_uncalibrated', inplace=True, axis=1) \n",
    "data.drop('new_count_uncalibrated', inplace=True, axis=1) \n",
    "\n",
    "# Check Modified Data\n",
    "print(\"Modified CSV Data: \\n\") \n",
    "print(data)\n",
    "data.to_csv('data_for_sample.csv', index=False)\n",
    "\n",
    "# Rename DF\n",
    "df = data"
   ]
  },
  {
   "cell_type": "markdown",
   "id": "237474c0",
   "metadata": {},
   "source": [
    "### 2. Combine Frames by Track & Create Features"
   ]
  },
  {
   "cell_type": "code",
   "execution_count": 3,
   "id": "30cdd5ba",
   "metadata": {},
   "outputs": [],
   "source": [
    "# Imports\n",
    "import numpy as np"
   ]
  },
  {
   "cell_type": "code",
   "execution_count": 4,
   "id": "a4b95d3b",
   "metadata": {},
   "outputs": [],
   "source": [
    "# Create Features\n",
    "def calculate_speed(df):\n",
    "    df['speed'] = np.sqrt(df['u_dot']**2 + df['v_dot']**2)\n",
    "    return df\n",
    "\n",
    "def calculate_mean_turning_angle(df):\n",
    "    df['angle'] = np.arctan2(df['v_dot'], df['u_dot'])\n",
    "    df['turning_angle'] = df['angle'].diff().abs()\n",
    "    mean_turning_angle = df['turning_angle'].mean()\n",
    "    return mean_turning_angle\n",
    "\n",
    "def calculate_outreach_ratio(df):\n",
    "    start_x, start_y = df.iloc[0][['xc', 'yc']]\n",
    "    end_x, end_y = df.iloc[-1][['xc', 'yc']]\n",
    "    displacement = np.sqrt((end_x - start_x)**2 + (end_y - start_y)**2)\n",
    "    path_length = df['speed'].sum()\n",
    "    outreach_ratio = displacement / path_length if path_length != 0 else 0\n",
    "    return outreach_ratio\n",
    "\n",
    "def calculate_square_displacement(df):\n",
    "    start_x, start_y = df.iloc[0][['xc', 'yc']]\n",
    "    displacements = np.sqrt((df['xc'] - start_x)**2 + (df['yc'] - start_y)**2)\n",
    "    square_displacement = np.sum(displacements**2)\n",
    "    return square_displacement\n",
    "\n",
    "def calculate_acceleration(u_dot, v_dot, time_intervals):\n",
    "    \"\"\"\n",
    "    Calculate the acceleration components and magnitude.\n",
    "\n",
    "    Parameters:\n",
    "    u_dot (list or np.array): Velocity in the x direction.\n",
    "    v_dot (list or np.array): Velocity in the y direction.\n",
    "    time_intervals (list or np.array): Time intervals between frames.\n",
    "\n",
    "    Returns:\n",
    "    ax (np.array): Acceleration in the x direction.\n",
    "    ay (np.array): Acceleration in the y direction.\n",
    "    acceleration (np.array): Magnitude of the acceleration.\n",
    "    \"\"\"\n",
    "    # Ensure inputs are numpy arrays for element-wise operations\n",
    "    u_dot = np.array(u_dot)\n",
    "    v_dot = np.array(v_dot)\n",
    "    time_intervals = np.array(time_intervals)\n",
    "\n",
    "    # Calculate acceleration components\n",
    "    ax = np.diff(u_dot) / time_intervals[:-1]\n",
    "    ay = np.diff(v_dot) / time_intervals[:-1]\n",
    "\n",
    "    # Calculate the magnitude of the acceleration\n",
    "    acceleration = np.sqrt(ax**2 + ay**2)\n",
    "\n",
    "    return ax, ay, acceleration\n",
    "\n",
    "def calculate_distance_traveled(xc, yc):\n",
    "    \"\"\"\n",
    "    Calculate the total distance traveled based on coordinates.\n",
    "\n",
    "    Parameters:\n",
    "    xc (list or np.array): x coordinates.\n",
    "    yc (list or np.array): y coordinates.\n",
    "\n",
    "    Returns:\n",
    "    distance_traveled (float): Total distance traveled.\n",
    "    \"\"\"\n",
    "    # Ensure inputs are numpy arrays for element-wise operations\n",
    "    xc = np.array(xc)\n",
    "    yc = np.array(yc)\n",
    "\n",
    "    # Calculate the differences between consecutive coordinates\n",
    "    dx = np.diff(xc)\n",
    "    dy = np.diff(yc)\n",
    "\n",
    "    # Calculate the distance between consecutive points\n",
    "    distances = np.sqrt(dx**2 + dy**2)\n",
    "\n",
    "    # Sum up the distances to get the total distance traveled\n",
    "    distance_traveled = np.sum(distances)\n",
    "\n",
    "    return distance_traveled"
   ]
  },
  {
   "cell_type": "code",
   "execution_count": 5,
   "id": "70389548",
   "metadata": {},
   "outputs": [
    {
     "name": "stdout",
     "output_type": "stream",
     "text": [
      "   track_id     speed  speed_max  mean_turning_angle  outreach_ratio  \\\n",
      "0         6  3.827775  15.422913            0.103121        0.136342   \n",
      "1        14  5.366490  16.410934            0.159354        0.592727   \n",
      "2        17  3.123633  28.774327            0.145173        0.083003   \n",
      "3        18  1.663800  15.225459            0.303789        0.027139   \n",
      "4        31  4.150165  17.482277            0.139008        0.056169   \n",
      "\n",
      "   mean_acceleration  min_acceleration  distance_traveled  \n",
      "0           0.294142          0.002012        3133.948689  \n",
      "1           0.395413          0.040245        1364.319554  \n",
      "2           0.253220          0.000746       13529.000365  \n",
      "3           0.179134          0.000613       21258.660167  \n",
      "4           0.337333          0.003294       10019.624026  \n"
     ]
    }
   ],
   "source": [
    "# Combine Frames by Track and Calculate Feature Values\n",
    "features = []\n",
    "\n",
    "# Group by track_id\n",
    "grouped = df.groupby('track_id')\n",
    "\n",
    "for track_id, group in grouped:\n",
    "    group = group.sort_values(by='frame')\n",
    "    speed = calculate_speed(group)['speed'].mean()\n",
    "    speed_var = calculate_speed(group)['speed'].var()\n",
    "    speed_max = calculate_speed(group)['speed'].max()\n",
    "    speed_min = calculate_speed(group)['speed'].min()\n",
    "    mean_turning_angle = calculate_mean_turning_angle(group)\n",
    "    outreach_ratio = calculate_outreach_ratio(group)\n",
    "    square_displacement = calculate_square_displacement(group)\n",
    "    \n",
    "    # Calculate acceleration\n",
    "    time_intervals = group['frame'].diff().fillna(1).values  # Assume frame difference as time interval\n",
    "    ax, ay, acceleration = calculate_acceleration(group['u_dot'], group['v_dot'], time_intervals)\n",
    "    mean_acceleration = np.mean(acceleration)\n",
    "    max_acceleration = np.max(acceleration)\n",
    "    min_acceleration = np.min(acceleration)\n",
    "    \n",
    "    # Calculate distance traveled\n",
    "    distance_traveled = calculate_distance_traveled(group['xc'], group['yc'])\n",
    "    features.append({\n",
    "        'track_id': track_id,\n",
    "        'speed': speed,\n",
    "        # 'speed_var': speed_var, # Less difference than speed.\n",
    "        'speed_max': speed_max,\n",
    "        # 'speed_min': speed_min, # No significant difference.\n",
    "        'mean_turning_angle': mean_turning_angle,\n",
    "        'outreach_ratio': outreach_ratio,\n",
    "        # 'square_displacement': square_displacement # Nearly identical.\n",
    "        'mean_acceleration': mean_acceleration,\n",
    "        'min_acceleration': min_acceleration,\n",
    "        # 'max_acceleration': max_acceleration, # Nearly identical.\n",
    "        'distance_traveled': distance_traveled\n",
    "    })\n",
    "\n",
    "# Convert to DF\n",
    "features_df = pd.DataFrame(features)\n",
    "\n",
    "# Check New Features\n",
    "print(features_df.head())"
   ]
  },
  {
   "cell_type": "code",
   "execution_count": 6,
   "id": "9fb24f57",
   "metadata": {},
   "outputs": [],
   "source": [
    "class_id_array.to_csv('class_id_array.csv', index=False)\n",
    "features_df.to_csv('data.csv', index=False)"
   ]
  },
  {
   "cell_type": "markdown",
   "id": "ae547196",
   "metadata": {},
   "source": [
    "### 3. Standardize Data"
   ]
  },
  {
   "cell_type": "code",
   "execution_count": 7,
   "id": "26befc69",
   "metadata": {},
   "outputs": [],
   "source": [
    "# Imports\n",
    "from sklearn.preprocessing import StandardScaler"
   ]
  },
  {
   "cell_type": "code",
   "execution_count": 8,
   "id": "54c43b4f",
   "metadata": {},
   "outputs": [
    {
     "name": "stdout",
     "output_type": "stream",
     "text": [
      "      speed  speed_max  mean_acceleration  distance_traveled  \\\n",
      "0  0.017104  -0.229202          -0.144125          -0.738726   \n",
      "1  0.903157  -0.100692           0.615237          -1.116520   \n",
      "2 -0.388369   1.507394          -0.450970           1.480491   \n",
      "3 -1.228999  -0.254885          -1.006485           3.130679   \n",
      "4  0.202749   0.038656           0.179734           0.731282   \n",
      "\n",
      "   mean_turning_angle  outreach_ratio  track_id  \n",
      "0           -0.763880       -0.095906         6  \n",
      "1           -0.088360        2.758743        14  \n",
      "2           -0.258712       -0.429537        17  \n",
      "3            1.646708       -0.778964        18  \n",
      "4           -0.332778       -0.597380        31  \n"
     ]
    }
   ],
   "source": [
    "# Standardize Data\n",
    "scaler = StandardScaler()\n",
    "normalized_features = scaler.fit_transform(features_df[['speed', 'speed_max', 'mean_acceleration', 'distance_traveled', 'mean_turning_angle', 'outreach_ratio']])\n",
    "normalized_features_df = pd.DataFrame(normalized_features, columns=['speed', 'speed_max', 'mean_acceleration', 'distance_traveled', 'mean_turning_angle', 'outreach_ratio'])\n",
    "\n",
    "# Add track_id Back\n",
    "normalized_features_df['track_id'] = features_df['track_id']\n",
    "\n",
    "# Check Data\n",
    "data = normalized_features_df\n",
    "print(data.head())"
   ]
  },
  {
   "cell_type": "code",
   "execution_count": 9,
   "id": "cf551f08",
   "metadata": {},
   "outputs": [],
   "source": [
    "class_id_array.to_csv('class_id_array_standardized.csv', index=False)\n",
    "data.to_csv('data_standardized.csv', index=False)"
   ]
  }
 ],
 "metadata": {
  "kernelspec": {
   "display_name": "Python 3 (ipykernel)",
   "language": "python",
   "name": "python3"
  },
  "language_info": {
   "codemirror_mode": {
    "name": "ipython",
    "version": 3
   },
   "file_extension": ".py",
   "mimetype": "text/x-python",
   "name": "python",
   "nbconvert_exporter": "python",
   "pygments_lexer": "ipython3",
   "version": "3.11.5"
  }
 },
 "nbformat": 4,
 "nbformat_minor": 5
}
