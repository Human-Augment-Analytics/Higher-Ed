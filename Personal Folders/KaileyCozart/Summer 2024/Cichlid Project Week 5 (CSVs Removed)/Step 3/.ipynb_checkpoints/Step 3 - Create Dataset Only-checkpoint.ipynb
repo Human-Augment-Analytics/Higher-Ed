{
 "cells": [
  {
   "cell_type": "markdown",
   "id": "0eafc243",
   "metadata": {},
   "source": [
    "# Step 3 - Create Dataset Only"
   ]
  },
  {
   "cell_type": "markdown",
   "id": "ed02f0ee",
   "metadata": {},
   "source": [
    "Sources: \n",
    "Previous Weeks Code, Generative AI, \n",
    "https://cran.r-project.org/web/packages/celltrackR/vignettes/clustering.html"
   ]
  },
  {
   "cell_type": "markdown",
   "id": "096d1255",
   "metadata": {},
   "source": [
    "### 1. Read Data"
   ]
  },
  {
   "cell_type": "code",
   "execution_count": 1,
   "id": "b59438e3",
   "metadata": {},
   "outputs": [
    {
     "name": "stdout",
     "output_type": "stream",
     "text": [
      "(752827, 17)\n",
      "                experiment_name video_base_name  track_id  count_uncalibrated  \\\n",
      "0  MC_singlenuc23_1_Tk33_021220        0001_vid      1330                   0   \n",
      "1  MC_singlenuc23_1_Tk33_021220        0001_vid      1330                   1   \n",
      "2  MC_singlenuc23_1_Tk33_021220        0001_vid      1330                  10   \n",
      "3  MC_singlenuc23_1_Tk33_021220        0001_vid      1330                 100   \n",
      "4  MC_singlenuc23_1_Tk33_021220        0001_vid      1330                1000   \n",
      "\n",
      "   new_count_uncalibrated          xc          yc     u_dot      v_dot  \\\n",
      "0                  382058  117.405639  104.372970  6.973857  22.796302   \n",
      "1                  382059  123.302195  123.913192  6.585702  21.623125   \n",
      "2                  382068  111.683189  400.633206 -0.382109  28.731078   \n",
      "3                  382158  821.635502  527.801237  5.468046  -3.778739   \n",
      "4                  383058  883.833486  309.388663  2.265553   0.529649   \n",
      "\n",
      "         s_dot  class_id   p_value  track_length           w           h  \\\n",
      "0  4094.324244       0.0  0.951274          4209   90.968022  178.890712   \n",
      "1  4154.148577       0.0  0.948788          4209   97.082408  211.697543   \n",
      "2  1993.790100       0.0  0.971033          4209  116.128018  283.932432   \n",
      "3    82.335724       0.0  0.975735          4209  170.506534  138.563970   \n",
      "4    -4.429363       0.0  0.958767          4209   99.582545  202.605340   \n",
      "\n",
      "    frame  gender  \n",
      "0  382058       0  \n",
      "1  382059       0  \n",
      "2  382068       0  \n",
      "3  382158       0  \n",
      "4  383058       0  \n"
     ]
    }
   ],
   "source": [
    "# Imports\n",
    "import pandas as pd\n",
    "\n",
    "# Read in 2 Data Files and Combine, Mark as M/F\n",
    "female_data = pd.read_csv('file_list_female_parsed_with_data_failed.csv')\n",
    "male_data = pd.read_csv('file_list_male_parsed_with_data.csv')\n",
    "female_data['gender'] = 0  # Female data is 0\n",
    "male_data['gender'] = 1    # Male data is 1\n",
    "combined_data = pd.concat([female_data, male_data], ignore_index=True)\n",
    "combined_data.to_csv('combined_dataset.csv', index=False)\n",
    "print(combined_data.shape)\n",
    "print(combined_data.head())"
   ]
  },
  {
   "cell_type": "code",
   "execution_count": 2,
   "id": "12ce7672",
   "metadata": {},
   "outputs": [
    {
     "name": "stdout",
     "output_type": "stream",
     "text": [
      "Modified CSV Data: \n",
      "\n",
      "        track_id          xc          yc     u_dot      v_dot        s_dot  \\\n",
      "0           1330  117.405639  104.372970  6.973857  22.796302  4094.324244   \n",
      "1           1330  123.302195  123.913192  6.585702  21.623125  4154.148577   \n",
      "2           1330  111.683189  400.633206 -0.382109  28.731078  1993.790100   \n",
      "3           1330  821.635502  527.801237  5.468046  -3.778739    82.335724   \n",
      "4           1330  883.833486  309.388663  2.265553   0.529649    -4.429363   \n",
      "...          ...         ...         ...       ...        ...          ...   \n",
      "752822      9350  156.276651  671.360475  4.437002   6.482767    23.792231   \n",
      "752823      9350  162.206921  672.395285  4.571728   5.991240    25.240829   \n",
      "752824      9350  170.841343  672.257588  4.938269   5.438280    26.805397   \n",
      "752825      9350  178.862178  673.323482  5.216379   5.043803    29.915899   \n",
      "752826      9350  187.945173  674.862680  5.565223   4.727619    30.420474   \n",
      "\n",
      "         frame  \n",
      "0       382058  \n",
      "1       382059  \n",
      "2       382068  \n",
      "3       382158  \n",
      "4       383058  \n",
      "...        ...  \n",
      "752822  537123  \n",
      "752823  537124  \n",
      "752824  537125  \n",
      "752825  537126  \n",
      "752826  537127  \n",
      "\n",
      "[752827 rows x 7 columns]\n"
     ]
    }
   ],
   "source": [
    "# Rename Data\n",
    "data = combined_data\n",
    "\n",
    "# Save Class ID for Later Comparison\n",
    "class_id_array = data[['gender', 'track_id']].copy()\n",
    "\n",
    "# Drop Potential Labels\n",
    "data.drop('gender', inplace=True, axis=1) \n",
    "\n",
    "# Drop Un-needed Columns\n",
    "data.drop('video_base_name', inplace=True, axis=1) \n",
    "\n",
    "# Drop Cols that We Might Need\n",
    "data.drop('w', inplace=True, axis=1) \n",
    "data.drop('h', inplace=True, axis=1) \n",
    "data.drop('p_value', inplace=True, axis=1) \n",
    "data.drop('class_id', inplace=True, axis=1)\n",
    "data.drop('track_length', inplace=True, axis=1) \n",
    "data.drop('experiment_name', inplace=True, axis=1) \n",
    "data.drop('count_uncalibrated', inplace=True, axis=1) \n",
    "data.drop('new_count_uncalibrated', inplace=True, axis=1) \n",
    "\n",
    "# Check Modified Data\n",
    "print(\"Modified CSV Data: \\n\") \n",
    "print(data)\n",
    "\n",
    "# Rename DF\n",
    "df = data"
   ]
  },
  {
   "cell_type": "markdown",
   "id": "237474c0",
   "metadata": {},
   "source": [
    "### 2. Combine Frames by Track & Create Features"
   ]
  },
  {
   "cell_type": "code",
   "execution_count": 3,
   "id": "30cdd5ba",
   "metadata": {},
   "outputs": [],
   "source": [
    "# Imports\n",
    "import numpy as np"
   ]
  },
  {
   "cell_type": "code",
   "execution_count": 4,
   "id": "a4b95d3b",
   "metadata": {},
   "outputs": [],
   "source": [
    "# Create Features\n",
    "def calculate_speed(df):\n",
    "    df['speed'] = np.sqrt(df['u_dot']**2 + df['v_dot']**2)\n",
    "    return df\n",
    "\n",
    "def calculate_mean_turning_angle(df):\n",
    "    df['angle'] = np.arctan2(df['v_dot'], df['u_dot'])\n",
    "    df['turning_angle'] = df['angle'].diff().abs()\n",
    "    mean_turning_angle = df['turning_angle'].mean()\n",
    "    return mean_turning_angle\n",
    "\n",
    "def calculate_outreach_ratio(df):\n",
    "    start_x, start_y = df.iloc[0][['xc', 'yc']]\n",
    "    end_x, end_y = df.iloc[-1][['xc', 'yc']]\n",
    "    displacement = np.sqrt((end_x - start_x)**2 + (end_y - start_y)**2)\n",
    "    path_length = df['speed'].sum()\n",
    "    outreach_ratio = displacement / path_length if path_length != 0 else 0\n",
    "    return outreach_ratio\n",
    "\n",
    "def calculate_square_displacement(df):\n",
    "    start_x, start_y = df.iloc[0][['xc', 'yc']]\n",
    "    displacements = np.sqrt((df['xc'] - start_x)**2 + (df['yc'] - start_y)**2)\n",
    "    square_displacement = np.sum(displacements**2)\n",
    "    return square_displacement"
   ]
  },
  {
   "cell_type": "code",
   "execution_count": 5,
   "id": "70389548",
   "metadata": {},
   "outputs": [
    {
     "name": "stdout",
     "output_type": "stream",
     "text": [
      "   track_id     speed  mean_turning_angle  outreach_ratio  square_displacement\n",
      "0         6  3.827775            0.103121        0.136342         1.127503e+08\n",
      "1        14  5.366490            0.159354        0.592727         1.697657e+07\n",
      "2        17  3.123633            0.145173        0.083003         3.502969e+08\n",
      "3        18  1.663800            0.303789        0.027139         8.095789e+08\n",
      "4        31  4.150165            0.139008        0.056169         4.782558e+08\n"
     ]
    }
   ],
   "source": [
    "# Combine Frames by Track and Calculate Feature Values\n",
    "features = []\n",
    "\n",
    "# Group by track_id\n",
    "grouped = df.groupby('track_id')\n",
    "\n",
    "for track_id, group in grouped:\n",
    "    group = group.sort_values(by='frame')\n",
    "    speed = calculate_speed(group)['speed'].mean()\n",
    "    mean_turning_angle = calculate_mean_turning_angle(group)\n",
    "    outreach_ratio = calculate_outreach_ratio(group)\n",
    "    square_displacement = calculate_square_displacement(group)\n",
    "    \n",
    "    features.append({\n",
    "        'track_id': track_id,\n",
    "        'speed': speed,\n",
    "        'mean_turning_angle': mean_turning_angle,\n",
    "        'outreach_ratio': outreach_ratio,\n",
    "        'square_displacement': square_displacement\n",
    "    })\n",
    "\n",
    "# Convert to DF\n",
    "features_df = pd.DataFrame(features)\n",
    "\n",
    "# Check New Features\n",
    "print(features_df.head())"
   ]
  },
  {
   "cell_type": "markdown",
   "id": "ae547196",
   "metadata": {},
   "source": [
    "### 3. Prepare Data"
   ]
  },
  {
   "cell_type": "code",
   "execution_count": 6,
   "id": "26befc69",
   "metadata": {},
   "outputs": [],
   "source": [
    "# Imports\n",
    "from sklearn.preprocessing import StandardScaler"
   ]
  },
  {
   "cell_type": "code",
   "execution_count": 7,
   "id": "54c43b4f",
   "metadata": {},
   "outputs": [
    {
     "name": "stdout",
     "output_type": "stream",
     "text": [
      "      speed  mean_turning_angle  outreach_ratio  square_displacement  track_id\n",
      "0  0.017104           -0.763880       -0.095906            -0.526893         6\n",
      "1  0.903157           -0.088360        2.758743            -0.734142        14\n",
      "2 -0.388369           -0.258712       -0.429537            -0.012855        17\n",
      "3 -1.228999            1.646708       -0.778964             0.981006        18\n",
      "4  0.202749           -0.332778       -0.597380             0.264041        31\n"
     ]
    }
   ],
   "source": [
    "# Standardize Data\n",
    "scaler = StandardScaler()\n",
    "normalized_features = scaler.fit_transform(features_df[['speed', 'mean_turning_angle', 'outreach_ratio', 'square_displacement']])\n",
    "normalized_features_df = pd.DataFrame(normalized_features, columns=['speed', 'mean_turning_angle', 'outreach_ratio', 'square_displacement'])\n",
    "\n",
    "# Add track_id Back\n",
    "normalized_features_df['track_id'] = features_df['track_id']\n",
    "\n",
    "# Check Data\n",
    "data = normalized_features_df\n",
    "print(data.head())"
   ]
  },
  {
   "cell_type": "code",
   "execution_count": 8,
   "id": "cf551f08",
   "metadata": {},
   "outputs": [],
   "source": [
    "class_id_array.to_csv('class_id_array.csv', index=False)\n",
    "data.to_csv('data.csv', index=False)"
   ]
  }
 ],
 "metadata": {
  "kernelspec": {
   "display_name": "Python 3 (ipykernel)",
   "language": "python",
   "name": "python3"
  },
  "language_info": {
   "codemirror_mode": {
    "name": "ipython",
    "version": 3
   },
   "file_extension": ".py",
   "mimetype": "text/x-python",
   "name": "python",
   "nbconvert_exporter": "python",
   "pygments_lexer": "ipython3",
   "version": "3.11.5"
  }
 },
 "nbformat": 4,
 "nbformat_minor": 5
}
