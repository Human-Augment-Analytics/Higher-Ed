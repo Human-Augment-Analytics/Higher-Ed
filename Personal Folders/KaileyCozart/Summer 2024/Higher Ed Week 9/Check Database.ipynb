{
 "cells": [
  {
   "cell_type": "code",
   "execution_count": 4,
   "id": "76775c20",
   "metadata": {},
   "outputs": [],
   "source": [
    "# Uncomment if Dependencies Needed\n",
    "# !pip install jupyter ipython\n",
    "# !pip install django"
   ]
  },
  {
   "cell_type": "code",
   "execution_count": null,
   "id": "b2d59c1e",
   "metadata": {},
   "outputs": [],
   "source": [
    "# Imports\n",
    "import os\n",
    "import sys\n",
    "import django"
   ]
  },
  {
   "cell_type": "code",
   "execution_count": null,
   "id": "cd7b634f",
   "metadata": {},
   "outputs": [],
   "source": [
    "# Set up Django\n",
    "sys.path.append('/mysite') \n",
    "os.environ['DJANGO_SETTINGS_MODULE'] = 'mysite.settings'  \n",
    "django.setup()"
   ]
  },
  {
   "cell_type": "code",
   "execution_count": null,
   "id": "c595ee3f",
   "metadata": {},
   "outputs": [],
   "source": [
    "# Import Django Models\n",
    "from myapp.models import MyModel"
   ]
  },
  {
   "cell_type": "code",
   "execution_count": null,
   "id": "74bfe06e",
   "metadata": {},
   "outputs": [],
   "source": [
    "# Use Models\n",
    "new_instance = MyModel(name=\"Test Name\", description=\"Test Description\")\n",
    "new_instance.save()\n",
    "\n",
    "all_instances = MyModel.objects.all()\n",
    "for instance in all_instances:\n",
    "    print(instance.name, instance.description)"
   ]
  }
 ],
 "metadata": {
  "kernelspec": {
   "display_name": "Python 3 (ipykernel)",
   "language": "python",
   "name": "python3"
  },
  "language_info": {
   "codemirror_mode": {
    "name": "ipython",
    "version": 3
   },
   "file_extension": ".py",
   "mimetype": "text/x-python",
   "name": "python",
   "nbconvert_exporter": "python",
   "pygments_lexer": "ipython3",
   "version": "3.11.5"
  }
 },
 "nbformat": 4,
 "nbformat_minor": 5
}
