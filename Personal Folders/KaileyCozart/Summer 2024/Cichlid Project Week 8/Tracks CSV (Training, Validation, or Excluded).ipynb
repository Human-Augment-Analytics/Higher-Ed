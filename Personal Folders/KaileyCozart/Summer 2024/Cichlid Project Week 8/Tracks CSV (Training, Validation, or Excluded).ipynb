{
 "cells": [
  {
   "cell_type": "markdown",
   "id": "20e4eabb",
   "metadata": {},
   "source": [
    "### Read in Data"
   ]
  },
  {
   "cell_type": "code",
   "execution_count": 1,
   "id": "84cd2dba",
   "metadata": {},
   "outputs": [],
   "source": [
    "import pandas as pd\n",
    "import numpy as np"
   ]
  },
  {
   "cell_type": "code",
   "execution_count": 2,
   "id": "de99c8e7",
   "metadata": {},
   "outputs": [],
   "source": [
    "df_with_ids_train = pd.read_csv('5_Features_with_ID_90_Percent_Disinclude_IDs.csv')\n",
    "df_with_ids_test = pd.read_csv('5_Features_with_ID_90_Percent_Disinclude_IDs_TEST.csv')\n",
    "df_with_test_or_train = pd.read_csv('GMM_DT_5_Features_DisincludeIDs.csv')\n",
    "df_exclude = [\n",
    "    'MC_singlenuc23_8_Tk33_031720__0001_vid__2488',\n",
    "    'MC_singlenuc24_4_Tk47_030320__0002_vid__3426',\n",
    "    'MC_singlenuc35_11_Tk61_051220__0002_vid__1635',\n",
    "    'MC_singlenuc35_11_Tk61_051220__0002_vid__3257',\n",
    "    'MC_singlenuc35_11_Tk61_051220__0002_vid__45',\n",
    "    'MC_singlenuc35_11_Tk61_051220__0002_vid__622',\n",
    "    'MC_singlenuc41_2_Tk9_030920__0001_vid__5076',\n",
    "    'MC_singlenuc43_11_Tk41_060220__0001_vid__296',\n",
    "    'MC_singlenuc45_7_Tk47_050720__0002_vid__2524',\n",
    "    'MC_singlenuc55_2_Tk47_051220__0001_vid__1093',\n",
    "    'MC_singlenuc59_4_Tk61_060220__0001_vid__3510',\n",
    "    'MC_singlenuc59_4_Tk61_060220__0001_vid__5827',\n",
    "    'MC_singlenuc76_3_Tk47_072920__0001_vid__1007',\n",
    "    'MC_singlenuc96_b1_Tk41_081120__0001_vid__6696',\n",
    "    'MC_singlenuc96_b1_Tk41_081120__0001_vid__8437',\n",
    "    'MC_singlenuc96_b1_Tk41_081120__0001_vid__8641',\n",
    "    'MC_singlenuc96_b1_Tk41_081120__0001_vid__8792',\n",
    "    'MC_singlenuc96_b1_Tk41_081120__0001_vid__8893'\n",
    "]\n",
    "df_exclude = pd.DataFrame(df_exclude, columns=['ID'])"
   ]
  },
  {
   "cell_type": "code",
   "execution_count": 3,
   "id": "96df61a5",
   "metadata": {},
   "outputs": [
    {
     "name": "stdout",
     "output_type": "stream",
     "text": [
      "        speed  outreach_ratio  mean_acceleration  distance_traveled  cluster  \\\n",
      "582  4.469454        0.203392           0.302483        2615.042270        5   \n",
      "583  6.848159        0.132124           0.575422        9637.132413        1   \n",
      "584  3.656903        0.747736           0.223323        1204.035349        5   \n",
      "585  5.095371        0.219034           0.498550        5763.261859        8   \n",
      "586  3.889388        0.408020           0.327125        2084.076719        5   \n",
      "\n",
      "     is_male                                             id  \n",
      "582        0     MC_singlenuc24_4_Tk47_030320__0002_vid__97  \n",
      "583        1   MC_singlenuc34_3_Tk43_030320__0001_vid__3921  \n",
      "584        0   MC_singlenuc45_7_Tk47_050720__0002_vid__2593  \n",
      "585        1    MC_singlenuc65_4_Tk9_072920__0002_vid__2299  \n",
      "586        0  MC_singlenuc34_3_Tk43_030320__0001_vid__14814  \n"
     ]
    }
   ],
   "source": [
    "print(df_with_ids_train.tail())"
   ]
  },
  {
   "cell_type": "code",
   "execution_count": 4,
   "id": "bea68937",
   "metadata": {},
   "outputs": [
    {
     "name": "stdout",
     "output_type": "stream",
     "text": [
      "                                              id     speed  outreach_ratio  \\\n",
      "61   MC_singlenuc56_2_Tk65_051220__0003_vid__416  2.592307        0.232560   \n",
      "62  MC_singlenuc55_2_Tk47_051220__0001_vid__2620  2.101094        0.073558   \n",
      "63   MC_singlenuc41_2_Tk9_030920__0001_vid__4852  1.670250        0.182483   \n",
      "64   MC_singlenuc23_8_Tk33_031720__0001_vid__494  3.275614        0.232256   \n",
      "65  MC_singlenuc28_1_Tk3_022520__0003_vid__23531  1.713950        0.082322   \n",
      "\n",
      "    mean_acceleration  distance_traveled  is_male  cluster  \n",
      "61           0.218279        5159.751257        0        4  \n",
      "62           0.230155        6403.468278        1        4  \n",
      "63           0.151172        5081.713539        0        4  \n",
      "64           0.340647        2869.981473        0        0  \n",
      "65           0.182981        4707.349631        0        4  \n"
     ]
    }
   ],
   "source": [
    "df_with_ids_test.rename(columns={'predicted_clusters': 'cluster'}, inplace=True)\n",
    "print(df_with_ids_test.tail())"
   ]
  },
  {
   "cell_type": "code",
   "execution_count": 5,
   "id": "a432a0bf",
   "metadata": {},
   "outputs": [
    {
     "name": "stdout",
     "output_type": "stream",
     "text": [
      "     is_male                                            id  is_test\n",
      "648        0   MC_singlenuc56_2_Tk65_051220__0003_vid__416        1\n",
      "649        1  MC_singlenuc55_2_Tk47_051220__0001_vid__2620        1\n",
      "650        0   MC_singlenuc41_2_Tk9_030920__0001_vid__4852        1\n",
      "651        0   MC_singlenuc23_8_Tk33_031720__0001_vid__494        1\n",
      "652        0  MC_singlenuc28_1_Tk3_022520__0003_vid__23531        1\n"
     ]
    }
   ],
   "source": [
    "df_with_ids_train['is_test'] = 0\n",
    "df_with_ids_test['is_test'] = 1\n",
    "combined_df = pd.concat([df_with_ids_train, df_with_ids_test], ignore_index=True)\n",
    "combined_df = combined_df[['is_male', 'id', 'is_test']]\n",
    "print(combined_df.tail())"
   ]
  },
  {
   "cell_type": "code",
   "execution_count": 8,
   "id": "0db9dac1",
   "metadata": {},
   "outputs": [
    {
     "name": "stdout",
     "output_type": "stream",
     "text": [
      "     actual  is_test_2\n",
      "648       0        1.0\n",
      "649       1        1.0\n",
      "650       0        1.0\n",
      "651       0        1.0\n",
      "652       0        1.0\n"
     ]
    },
    {
     "name": "stderr",
     "output_type": "stream",
     "text": [
      "C:\\Users\\kaiwi\\AppData\\Local\\Temp\\ipykernel_29676\\344735842.py:1: SettingWithCopyWarning: \n",
      "A value is trying to be set on a copy of a slice from a DataFrame\n",
      "\n",
      "See the caveats in the documentation: https://pandas.pydata.org/pandas-docs/stable/user_guide/indexing.html#returning-a-view-versus-a-copy\n",
      "  df_with_test_or_train.rename(columns={'is_test': 'is_test_2'}, inplace=True)\n"
     ]
    }
   ],
   "source": [
    "df_with_test_or_train.rename(columns={'is_test': 'is_test_2'}, inplace=True)\n",
    "df_with_test_or_train = df_with_test_or_train[['actual', 'is_test_2']]\n",
    "print(df_with_test_or_train.tail())"
   ]
  },
  {
   "cell_type": "markdown",
   "id": "c26738a1",
   "metadata": {},
   "source": [
    "### Combine"
   ]
  },
  {
   "cell_type": "code",
   "execution_count": 9,
   "id": "08c795c1",
   "metadata": {},
   "outputs": [
    {
     "name": "stdout",
     "output_type": "stream",
     "text": [
      "     is_male                                              id  is_test  actual  \\\n",
      "0          0    MC_singlenuc91_b1_Tk9_081120__0001_vid__2594        0       0   \n",
      "1          0   MC_singlenuc96_b1_Tk41_081120__0001_vid__1490        0       0   \n",
      "2          1    MC_singlenuc59_4_Tk61_060220__0001_vid__6081        0       1   \n",
      "3          1     MC_singlenuc36_2_Tk3_030320__0001_vid__6367        0       1   \n",
      "4          0  MC_singlenuc94_b1_Tk31_081120__0001_vid__13436        0       0   \n",
      "..       ...                                             ...      ...     ...   \n",
      "648        0     MC_singlenuc56_2_Tk65_051220__0003_vid__416        1       0   \n",
      "649        1    MC_singlenuc55_2_Tk47_051220__0001_vid__2620        1       1   \n",
      "650        0     MC_singlenuc41_2_Tk9_030920__0001_vid__4852        1       0   \n",
      "651        0     MC_singlenuc23_8_Tk33_031720__0001_vid__494        1       0   \n",
      "652        0    MC_singlenuc28_1_Tk3_022520__0003_vid__23531        1       0   \n",
      "\n",
      "     is_test_2  \n",
      "0          0.0  \n",
      "1          0.0  \n",
      "2          0.0  \n",
      "3          0.0  \n",
      "4          0.0  \n",
      "..         ...  \n",
      "648        1.0  \n",
      "649        1.0  \n",
      "650        1.0  \n",
      "651        1.0  \n",
      "652        1.0  \n",
      "\n",
      "[653 rows x 5 columns]\n"
     ]
    }
   ],
   "source": [
    "final_combined_df = pd.concat([combined_df, df_with_test_or_train], axis=1)\n",
    "print(final_combined_df)"
   ]
  },
  {
   "cell_type": "code",
   "execution_count": 10,
   "id": "bf3bf35e",
   "metadata": {},
   "outputs": [
    {
     "name": "stdout",
     "output_type": "stream",
     "text": [
      "All rows have the same value for 'is_male' and 'actual': True\n"
     ]
    }
   ],
   "source": [
    "consistent_rows = final_combined_df.apply(lambda row: row['is_male'] == row['actual'], axis=1)\n",
    "all_rows_consistent = consistent_rows.all()\n",
    "print(f\"All rows have the same value for 'is_male' and 'actual': {all_rows_consistent}\")"
   ]
  },
  {
   "cell_type": "code",
   "execution_count": 11,
   "id": "a725fbf1",
   "metadata": {},
   "outputs": [
    {
     "name": "stdout",
     "output_type": "stream",
     "text": [
      "All rows have the same value for 'is_test' and 'is_test_2': True\n"
     ]
    }
   ],
   "source": [
    "consistent_rows = final_combined_df.apply(lambda row: row['is_test'] == row['is_test_2'], axis=1)\n",
    "all_rows_consistent = consistent_rows.all()\n",
    "print(f\"All rows have the same value for 'is_test' and 'is_test_2': {all_rows_consistent}\")"
   ]
  },
  {
   "cell_type": "code",
   "execution_count": 14,
   "id": "473105e4",
   "metadata": {},
   "outputs": [
    {
     "name": "stdout",
     "output_type": "stream",
     "text": [
      "                                                 id  is_test\n",
      "0      MC_singlenuc91_b1_Tk9_081120__0001_vid__2594        0\n",
      "1     MC_singlenuc96_b1_Tk41_081120__0001_vid__1490        0\n",
      "2      MC_singlenuc59_4_Tk61_060220__0001_vid__6081        0\n",
      "3       MC_singlenuc36_2_Tk3_030320__0001_vid__6367        0\n",
      "4    MC_singlenuc94_b1_Tk31_081120__0001_vid__13436        0\n",
      "..                                              ...      ...\n",
      "648     MC_singlenuc56_2_Tk65_051220__0003_vid__416        1\n",
      "649    MC_singlenuc55_2_Tk47_051220__0001_vid__2620        1\n",
      "650     MC_singlenuc41_2_Tk9_030920__0001_vid__4852        1\n",
      "651     MC_singlenuc23_8_Tk33_031720__0001_vid__494        1\n",
      "652    MC_singlenuc28_1_Tk3_022520__0003_vid__23531        1\n",
      "\n",
      "[653 rows x 2 columns]\n"
     ]
    }
   ],
   "source": [
    "final_combined_df = final_combined_df[['id', 'is_test']]\n",
    "print(final_combined_df)"
   ]
  },
  {
   "cell_type": "code",
   "execution_count": 16,
   "id": "0439cbf6",
   "metadata": {},
   "outputs": [
    {
     "name": "stdout",
     "output_type": "stream",
     "text": [
      "                                                 id        type\n",
      "0      MC_singlenuc91_b1_Tk9_081120__0001_vid__2594       train\n",
      "1     MC_singlenuc96_b1_Tk41_081120__0001_vid__1490       train\n",
      "2      MC_singlenuc59_4_Tk61_060220__0001_vid__6081       train\n",
      "3       MC_singlenuc36_2_Tk3_030320__0001_vid__6367       train\n",
      "4    MC_singlenuc94_b1_Tk31_081120__0001_vid__13436       train\n",
      "..                                              ...         ...\n",
      "648     MC_singlenuc56_2_Tk65_051220__0003_vid__416  validation\n",
      "649    MC_singlenuc55_2_Tk47_051220__0001_vid__2620  validation\n",
      "650     MC_singlenuc41_2_Tk9_030920__0001_vid__4852  validation\n",
      "651     MC_singlenuc23_8_Tk33_031720__0001_vid__494  validation\n",
      "652    MC_singlenuc28_1_Tk3_022520__0003_vid__23531  validation\n",
      "\n",
      "[653 rows x 2 columns]\n"
     ]
    }
   ],
   "source": [
    "final_combined_df['type'] = final_combined_df['is_test'].map({0: 'train', 1: 'validation'})\n",
    "final_combined_df = final_combined_df[['id', 'type']]\n",
    "print(final_combined_df)"
   ]
  },
  {
   "cell_type": "code",
   "execution_count": 17,
   "id": "c2268ff1",
   "metadata": {},
   "outputs": [
    {
     "name": "stdout",
     "output_type": "stream",
     "text": [
      "                                               id      type\n",
      "13  MC_singlenuc96_b1_Tk41_081120__0001_vid__6696  excluded\n",
      "14  MC_singlenuc96_b1_Tk41_081120__0001_vid__8437  excluded\n",
      "15  MC_singlenuc96_b1_Tk41_081120__0001_vid__8641  excluded\n",
      "16  MC_singlenuc96_b1_Tk41_081120__0001_vid__8792  excluded\n",
      "17  MC_singlenuc96_b1_Tk41_081120__0001_vid__8893  excluded\n"
     ]
    }
   ],
   "source": [
    "df_exclude.rename(columns={'ID': 'id'}, inplace=True)\n",
    "df_exclude['type'] = 'excluded'\n",
    "print(df_exclude.tail())"
   ]
  },
  {
   "cell_type": "code",
   "execution_count": 21,
   "id": "5e431b7f",
   "metadata": {},
   "outputs": [
    {
     "name": "stdout",
     "output_type": "stream",
     "text": [
      "                                                 id      type\n",
      "0      MC_singlenuc91_b1_Tk9_081120__0001_vid__2594     train\n",
      "1     MC_singlenuc96_b1_Tk41_081120__0001_vid__1490     train\n",
      "2      MC_singlenuc59_4_Tk61_060220__0001_vid__6081     train\n",
      "3       MC_singlenuc36_2_Tk3_030320__0001_vid__6367     train\n",
      "4    MC_singlenuc94_b1_Tk31_081120__0001_vid__13436     train\n",
      "..                                              ...       ...\n",
      "666   MC_singlenuc96_b1_Tk41_081120__0001_vid__6696  excluded\n",
      "667   MC_singlenuc96_b1_Tk41_081120__0001_vid__8437  excluded\n",
      "668   MC_singlenuc96_b1_Tk41_081120__0001_vid__8641  excluded\n",
      "669   MC_singlenuc96_b1_Tk41_081120__0001_vid__8792  excluded\n",
      "670   MC_singlenuc96_b1_Tk41_081120__0001_vid__8893  excluded\n",
      "\n",
      "[671 rows x 2 columns]\n"
     ]
    }
   ],
   "source": [
    "final_df = pd.concat([final_combined_df, df_exclude], ignore_index=True)\n",
    "print(final_df)"
   ]
  },
  {
   "cell_type": "code",
   "execution_count": 22,
   "id": "97c61f04",
   "metadata": {},
   "outputs": [
    {
     "name": "stdout",
     "output_type": "stream",
     "text": [
      "All IDs in the 'id' column are unique.\n"
     ]
    }
   ],
   "source": [
    "unique_ids = final_combined_df['id'].is_unique\n",
    "if unique_ids:\n",
    "    print(\"All IDs in the 'id' column are unique.\")\n",
    "else:\n",
    "    print(\"There are duplicate IDs in the 'id' column.\")"
   ]
  },
  {
   "cell_type": "code",
   "execution_count": 23,
   "id": "8f20b64d",
   "metadata": {},
   "outputs": [],
   "source": [
    "final_df.to_csv('track_types.csv', index=False)"
   ]
  }
 ],
 "metadata": {
  "kernelspec": {
   "display_name": "Python 3 (ipykernel)",
   "language": "python",
   "name": "python3"
  },
  "language_info": {
   "codemirror_mode": {
    "name": "ipython",
    "version": 3
   },
   "file_extension": ".py",
   "mimetype": "text/x-python",
   "name": "python",
   "nbconvert_exporter": "python",
   "pygments_lexer": "ipython3",
   "version": "3.11.5"
  }
 },
 "nbformat": 4,
 "nbformat_minor": 5
}
