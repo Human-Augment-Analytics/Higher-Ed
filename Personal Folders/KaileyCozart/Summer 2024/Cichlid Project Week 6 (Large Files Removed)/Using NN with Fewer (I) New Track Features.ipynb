{
 "cells": [
  {
   "cell_type": "markdown",
   "id": "bfa0d618",
   "metadata": {},
   "source": [
    "### 1. Prepare Training Data"
   ]
  },
  {
   "cell_type": "code",
   "execution_count": 1,
   "id": "2baaa16a",
   "metadata": {},
   "outputs": [],
   "source": [
    "# Imports\n",
    "import numpy as np\n",
    "import pandas as pd"
   ]
  },
  {
   "cell_type": "code",
   "execution_count": 2,
   "id": "798644e7",
   "metadata": {},
   "outputs": [
    {
     "name": "stdout",
     "output_type": "stream",
     "text": [
      "(1001966, 17)\n",
      "                experiment_name video_base_name  track_id  count_uncalibrated  \\\n",
      "0  MC_singlenuc23_1_Tk33_021220        0001_vid      1330                   0   \n",
      "1  MC_singlenuc23_1_Tk33_021220        0001_vid      1330                   1   \n",
      "2  MC_singlenuc23_1_Tk33_021220        0001_vid      1330                  10   \n",
      "3  MC_singlenuc23_1_Tk33_021220        0001_vid      1330                 100   \n",
      "4  MC_singlenuc23_1_Tk33_021220        0001_vid      1330                1000   \n",
      "\n",
      "   new_count_uncalibrated          xc          yc     u_dot      v_dot  \\\n",
      "0                  382058  117.405639  104.372970  6.973857  22.796302   \n",
      "1                  382059  123.302195  123.913192  6.585702  21.623125   \n",
      "2                  382068  111.683189  400.633206 -0.382109  28.731078   \n",
      "3                  382158  821.635502  527.801237  5.468046  -3.778739   \n",
      "4                  383058  883.833486  309.388663  2.265553   0.529649   \n",
      "\n",
      "         s_dot  class_id   p_value  track_length           w           h  \\\n",
      "0  4094.324244       0.0  0.951274          4209   90.968022  178.890712   \n",
      "1  4154.148577       0.0  0.948788          4209   97.082408  211.697543   \n",
      "2  1993.790100       0.0  0.971033          4209  116.128018  283.932432   \n",
      "3    82.335724       0.0  0.975735          4209  170.506534  138.563970   \n",
      "4    -4.429363       0.0  0.958767          4209   99.582545  202.605340   \n",
      "\n",
      "    frame  is_male  \n",
      "0  382058        0  \n",
      "1  382059        0  \n",
      "2  382068        0  \n",
      "3  382158        0  \n",
      "4  383058        0  \n"
     ]
    }
   ],
   "source": [
    "# Read Files\n",
    "training_data_female = pd.read_csv('../Data/file_list_female_parsed_with_data.csv')\n",
    "training_data_male = pd.read_csv('../Data/file_list_male_parsed_with_data.csv')\n",
    "\n",
    "# Make Sex Column\n",
    "training_data_female['is_male'] = 0\n",
    "training_data_male['is_male'] = 1\n",
    "\n",
    "# Combine into One\n",
    "training_data = pd.concat([training_data_female, training_data_male], ignore_index=True)\n",
    "print(training_data.shape)\n",
    "print(training_data.head())"
   ]
  },
  {
   "cell_type": "code",
   "execution_count": 3,
   "id": "a896400d",
   "metadata": {},
   "outputs": [
    {
     "name": "stdout",
     "output_type": "stream",
     "text": [
      "Modified CSV Data: \n",
      "\n",
      "            u_dot      v_dot        s_dot   frame  \\\n",
      "0        6.973857  22.796302  4094.324244  382058   \n",
      "1        6.585702  21.623125  4154.148577  382059   \n",
      "2       -0.382109  28.731078  1993.790100  382068   \n",
      "3        5.468046  -3.778739    82.335724  382158   \n",
      "4        2.265553   0.529649    -4.429363  383058   \n",
      "...           ...        ...          ...     ...   \n",
      "1001961  4.437002   6.482767    23.792231  537123   \n",
      "1001962  4.571728   5.991240    25.240829  537124   \n",
      "1001963  4.938269   5.438280    26.805397  537125   \n",
      "1001964  5.216379   5.043803    29.915899  537126   \n",
      "1001965  5.565223   4.727619    30.420474  537127   \n",
      "\n",
      "                                                    id  \n",
      "0         MC_singlenuc23_1_Tk33_021220__0001_vid__1330  \n",
      "1         MC_singlenuc23_1_Tk33_021220__0001_vid__1330  \n",
      "2         MC_singlenuc23_1_Tk33_021220__0001_vid__1330  \n",
      "3         MC_singlenuc23_1_Tk33_021220__0001_vid__1330  \n",
      "4         MC_singlenuc23_1_Tk33_021220__0001_vid__1330  \n",
      "...                                                ...  \n",
      "1001961  MC_singlenuc96_b1_Tk41_081120__0001_vid__9350  \n",
      "1001962  MC_singlenuc96_b1_Tk41_081120__0001_vid__9350  \n",
      "1001963  MC_singlenuc96_b1_Tk41_081120__0001_vid__9350  \n",
      "1001964  MC_singlenuc96_b1_Tk41_081120__0001_vid__9350  \n",
      "1001965  MC_singlenuc96_b1_Tk41_081120__0001_vid__9350  \n",
      "\n",
      "[1001966 rows x 5 columns]\n"
     ]
    }
   ],
   "source": [
    "# Create Unique Identifier for Track\n",
    "training_data['id'] = training_data['experiment_name'] + '__' + training_data['video_base_name'] + '__' + training_data['track_id'].astype(str)\n",
    "\n",
    "# Save Class ID for Later\n",
    "training_data_ids_and_labels = training_data[['is_male', 'id']].copy()\n",
    "\n",
    "# Drop Potential Labels\n",
    "training_data.drop('is_male', inplace=True, axis=1) \n",
    "\n",
    "# Drop Cols that We Don't Need\n",
    "training_data.drop('w', inplace=True, axis=1) \n",
    "training_data.drop('h', inplace=True, axis=1) \n",
    "training_data.drop('xc', inplace=True, axis=1) \n",
    "training_data.drop('yc', inplace=True, axis=1) \n",
    "training_data.drop('p_value', inplace=True, axis=1) \n",
    "training_data.drop('track_id', inplace=True, axis=1) \n",
    "training_data.drop('class_id', inplace=True, axis=1)\n",
    "training_data.drop('track_length', inplace=True, axis=1) \n",
    "training_data.drop('experiment_name', inplace=True, axis=1) \n",
    "training_data.drop('video_base_name', inplace=True, axis=1) \n",
    "training_data.drop('count_uncalibrated', inplace=True, axis=1) \n",
    "training_data.drop('new_count_uncalibrated', inplace=True, axis=1) \n",
    "\n",
    "# Check Modified Data\n",
    "print(\"Modified CSV Data: \\n\") \n",
    "print(training_data)"
   ]
  },
  {
   "cell_type": "markdown",
   "id": "41b85eb5",
   "metadata": {},
   "source": [
    "### 2. Prepare Testing Data"
   ]
  },
  {
   "cell_type": "code",
   "execution_count": 4,
   "id": "351bfe07",
   "metadata": {},
   "outputs": [
    {
     "name": "stdout",
     "output_type": "stream",
     "text": [
      "        Unnamed: 0.1  Unnamed: 0  \\\n",
      "111614        112066      112066   \n",
      "111615        112067      112067   \n",
      "111616        112068      112068   \n",
      "111617        112069      112069   \n",
      "111618        112070      112070   \n",
      "\n",
      "                                                val_paths  val_labels  \\\n",
      "111614  /home/bshi/Documents/Annotation2_0/final_resne...           1   \n",
      "111615  /home/bshi/Documents/Annotation2_0/final_resne...           1   \n",
      "111616  /home/bshi/Documents/Annotation2_0/final_resne...           1   \n",
      "111617  /home/bshi/Documents/Annotation2_0/final_resne...           1   \n",
      "111618  /home/bshi/Documents/Annotation2_0/final_resne...           1   \n",
      "\n",
      "        val_predictions   val_acc                          trial base_name  \\\n",
      "111614                0  0.992329  MC_singlenuc96_b1_Tk41_081120  0001_vid   \n",
      "111615                0  0.934512  MC_singlenuc96_b1_Tk41_081120  0001_vid   \n",
      "111616                1  0.548051  MC_singlenuc96_b1_Tk41_081120  0001_vid   \n",
      "111617                0  0.808965  MC_singlenuc96_b1_Tk41_081120  0001_vid   \n",
      "111618                0  0.892111  MC_singlenuc96_b1_Tk41_081120  0001_vid   \n",
      "\n",
      "        track_id  frame   sex  err  \\\n",
      "111614      9350     64  Male    1   \n",
      "111615      9350     66  Male    1   \n",
      "111616      9350      7  Male    0   \n",
      "111617      9350     79  Male    1   \n",
      "111618      9350     83  Male    1   \n",
      "\n",
      "                                                      uid  \n",
      "111614  MC_singlenuc96_b1_Tk41_081120__0001_vid__9350__64  \n",
      "111615  MC_singlenuc96_b1_Tk41_081120__0001_vid__9350__66  \n",
      "111616   MC_singlenuc96_b1_Tk41_081120__0001_vid__9350__7  \n",
      "111617  MC_singlenuc96_b1_Tk41_081120__0001_vid__9350__79  \n",
      "111618  MC_singlenuc96_b1_Tk41_081120__0001_vid__9350__83  \n",
      "        Unnamed: 0.2  Unnamed: 0.1  Unnamed: 0  track_id base_name     frame  \\\n",
      "111614       1117686       37601.0    395531.0    5747.0  0002_vid  243219.0   \n",
      "111615       1117709       37624.0    395554.0    5747.0  0002_vid  243242.0   \n",
      "111616       1117733       37648.0    395578.0    5747.0  0002_vid  243266.0   \n",
      "111617       1117757       37672.0    395602.0    5747.0  0002_vid  243290.0   \n",
      "111618       1117762       37677.0    395607.0    5747.0  0002_vid  243295.0   \n",
      "\n",
      "              xc        yc         w         h  ...  a2_base_name  \\\n",
      "111614  0.229628  0.479246  0.064082  0.152080  ...      0002_vid   \n",
      "111615  0.331459  0.426181  0.087423  0.087372  ...      0002_vid   \n",
      "111616  0.230906  0.683723  0.109482  0.114637  ...      0002_vid   \n",
      "111617  0.184423  0.541897  0.100875  0.151336  ...      0002_vid   \n",
      "111618  0.174173  0.534163  0.099585  0.159308  ...      0002_vid   \n",
      "\n",
      "        a2_track_id  a2_frame       iou                          trial label  \\\n",
      "111614         5128      1318  0.842310  MC_singlenuc86_b1_Tk47_073020     0   \n",
      "111615         5128      1341  0.882947  MC_singlenuc86_b1_Tk47_073020     0   \n",
      "111616         5128      1365  0.882044  MC_singlenuc86_b1_Tk47_073020     0   \n",
      "111617         5128      1389  0.925216  MC_singlenuc86_b1_Tk47_073020     0   \n",
      "111618         5128      1394  0.907477  MC_singlenuc86_b1_Tk47_073020     0   \n",
      "\n",
      "        InBounds  track_length  err  \\\n",
      "111614       NaN           NaN  0.0   \n",
      "111615       NaN           NaN  0.0   \n",
      "111616       NaN           NaN  0.0   \n",
      "111617       NaN           NaN  0.0   \n",
      "111618       NaN           NaN  0.0   \n",
      "\n",
      "                                                      uid  \n",
      "111614  MC_singlenuc86_b1_Tk47_073020__0002_vid__5128_...  \n",
      "111615  MC_singlenuc86_b1_Tk47_073020__0002_vid__5128_...  \n",
      "111616  MC_singlenuc86_b1_Tk47_073020__0002_vid__5128_...  \n",
      "111617  MC_singlenuc86_b1_Tk47_073020__0002_vid__5128_...  \n",
      "111618  MC_singlenuc86_b1_Tk47_073020__0002_vid__5128_...  \n",
      "\n",
      "[5 rows x 25 columns]\n"
     ]
    },
    {
     "name": "stderr",
     "output_type": "stream",
     "text": [
      "C:\\Users\\kaiwi\\AppData\\Local\\Temp\\ipykernel_3312\\544467837.py:3: DtypeWarning: Columns (21) have mixed types. Specify dtype option on import or set low_memory=False.\n",
      "  yolo_csv = pd.read_csv('../Data/Result_2_1.csv')\n"
     ]
    }
   ],
   "source": [
    "# Read Files\n",
    "annotation_csv = pd.read_csv('../Data/Result_2_0.csv')\n",
    "yolo_csv = pd.read_csv('../Data/Result_2_1.csv')\n",
    "\n",
    "# Check Files\n",
    "print(annotation_csv.tail())\n",
    "print(yolo_csv.tail())"
   ]
  },
  {
   "cell_type": "code",
   "execution_count": 5,
   "id": "ce94b1b8",
   "metadata": {},
   "outputs": [
    {
     "name": "stdout",
     "output_type": "stream",
     "text": [
      "        true_labels                                                uid\n",
      "111614            1  MC_singlenuc96_b1_Tk41_081120__0001_vid__9350__64\n",
      "111615            1  MC_singlenuc96_b1_Tk41_081120__0001_vid__9350__66\n",
      "111616            1   MC_singlenuc96_b1_Tk41_081120__0001_vid__9350__7\n",
      "111617            1  MC_singlenuc96_b1_Tk41_081120__0001_vid__9350__79\n",
      "111618            1  MC_singlenuc96_b1_Tk41_081120__0001_vid__9350__83\n"
     ]
    }
   ],
   "source": [
    "# Create Better Col Names\n",
    "annotation_csv = annotation_csv.rename(columns={'val_labels': 'true_labels'})\n",
    "annotation_csv = annotation_csv.rename(columns={'val_predictions': 'result_2_0_prediction'})\n",
    "\n",
    "# Remove Unwanted Cols\n",
    "annotation_csv.drop('result_2_0_prediction', inplace=True, axis=1) \n",
    "annotation_csv.drop('val_paths', inplace=True, axis=1) \n",
    "annotation_csv.drop('trial', inplace=True, axis=1) \n",
    "annotation_csv.drop('base_name', inplace=True, axis=1) \n",
    "annotation_csv.drop('track_id', inplace=True, axis=1) \n",
    "annotation_csv.drop('frame', inplace=True, axis=1) \n",
    "annotation_csv.drop('err', inplace=True, axis=1) \n",
    "annotation_csv.drop('sex', inplace=True, axis=1) \n",
    "annotation_csv.drop('val_acc', inplace=True, axis=1) \n",
    "annotation_csv = annotation_csv.loc[:, ~annotation_csv.columns.str.contains('^Unnamed')]\n",
    "\n",
    "# Check Updates\n",
    "print(annotation_csv.tail())"
   ]
  },
  {
   "cell_type": "code",
   "execution_count": 6,
   "id": "9293e2fb",
   "metadata": {},
   "outputs": [
    {
     "name": "stdout",
     "output_type": "stream",
     "text": [
      "              xc        yc  yolo_label_prediction     u_dot     v_dot  \\\n",
      "111614  0.229628  0.479246                    0.0  0.253403 -1.862108   \n",
      "111615  0.331459  0.426181                    0.0  4.136577 -0.448796   \n",
      "111616  0.230906  0.683723                    0.0 -2.758252  8.205466   \n",
      "111617  0.184423  0.541897                    0.0 -4.437889 -5.116410   \n",
      "111618  0.174173  0.534163                    0.0 -3.673923 -3.649581   \n",
      "\n",
      "            s_dot  a2_frame                                                uid  \n",
      "111614 -28.052752      1318  MC_singlenuc86_b1_Tk47_073020__0002_vid__5128_...  \n",
      "111615 -46.965982      1341  MC_singlenuc86_b1_Tk47_073020__0002_vid__5128_...  \n",
      "111616   9.487081      1365  MC_singlenuc86_b1_Tk47_073020__0002_vid__5128_...  \n",
      "111617  37.912490      1389  MC_singlenuc86_b1_Tk47_073020__0002_vid__5128_...  \n",
      "111618  43.385125      1394  MC_singlenuc86_b1_Tk47_073020__0002_vid__5128_...  \n"
     ]
    }
   ],
   "source": [
    "# Create Better Col Names\n",
    "yolo_csv = yolo_csv.rename(columns={'class_id': 'yolo_label_prediction'})\n",
    "\n",
    "# Remove Unwanted Cols\n",
    "yolo_csv.drop('InBounds', inplace=True, axis=1) \n",
    "yolo_csv.drop('trial', inplace=True, axis=1) \n",
    "yolo_csv.drop('base_name', inplace=True, axis=1) \n",
    "yolo_csv.drop('track_id', inplace=True, axis=1)\n",
    "yolo_csv.drop('frame', inplace=True, axis=1)\n",
    "yolo_csv.drop('track_length', inplace=True, axis=1)\n",
    "yolo_csv.drop('err', inplace=True, axis=1)\n",
    "yolo_csv.drop('w', inplace=True, axis=1)\n",
    "yolo_csv.drop('h', inplace=True, axis=1)\n",
    "yolo_csv.drop('a2_base_name', inplace=True, axis=1)\n",
    "yolo_csv.drop('a2_track_id', inplace=True, axis=1)\n",
    "yolo_csv.drop('p_value', inplace=True, axis=1)\n",
    "yolo_csv.drop('iou', inplace=True, axis=1)\n",
    "yolo_csv.drop('label', inplace=True, axis=1)\n",
    "yolo_csv = yolo_csv.loc[:, ~yolo_csv.columns.str.contains('^Unnamed')]\n",
    "\n",
    "# Check Updates\n",
    "print(yolo_csv.tail())"
   ]
  },
  {
   "cell_type": "code",
   "execution_count": 7,
   "id": "866fc527",
   "metadata": {},
   "outputs": [
    {
     "name": "stdout",
     "output_type": "stream",
     "text": [
      "        true_labels                                                uid  \\\n",
      "111614            1  MC_singlenuc96_b1_Tk41_081120__0001_vid__9350__64   \n",
      "111615            1  MC_singlenuc96_b1_Tk41_081120__0001_vid__9350__66   \n",
      "111616            1   MC_singlenuc96_b1_Tk41_081120__0001_vid__9350__7   \n",
      "111617            1  MC_singlenuc96_b1_Tk41_081120__0001_vid__9350__79   \n",
      "111618            1  MC_singlenuc96_b1_Tk41_081120__0001_vid__9350__83   \n",
      "\n",
      "              xc        yc  yolo_label_prediction     u_dot      v_dot  \\\n",
      "111614  0.051433  0.458018                    0.0 -2.655020  10.591085   \n",
      "111615  0.048073  0.486484                    0.0 -2.566140  11.108756   \n",
      "111616  0.248775  0.055500                    0.0  2.596401   3.663221   \n",
      "111617  0.063819  0.602525                    0.0  0.374114   9.008227   \n",
      "111618  0.068937  0.615685                    0.0  0.780527   7.137074   \n",
      "\n",
      "             s_dot  a2_frame                                             id  \n",
      "111614  114.385718        64  MC_singlenuc96_b1_Tk41_081120__0001_vid__9350  \n",
      "111615  119.446086        66  MC_singlenuc96_b1_Tk41_081120__0001_vid__9350  \n",
      "111616  686.978477         7  MC_singlenuc96_b1_Tk41_081120__0001_vid__9350  \n",
      "111617  142.880943        79  MC_singlenuc96_b1_Tk41_081120__0001_vid__9350  \n",
      "111618  160.668479        83  MC_singlenuc96_b1_Tk41_081120__0001_vid__9350  \n"
     ]
    }
   ],
   "source": [
    "# Combine Information from Both\n",
    "testing_data = pd.merge(annotation_csv, yolo_csv, on='uid')\n",
    "testing_data['id'] = testing_data['uid'].str.rsplit('__', n=1).str[0]\n",
    "print(testing_data.tail())"
   ]
  },
  {
   "cell_type": "markdown",
   "id": "bd7ccf9a",
   "metadata": {},
   "source": [
    "### 3. Combine Training Frames by Track & Create Features"
   ]
  },
  {
   "cell_type": "code",
   "execution_count": 8,
   "id": "c676547c",
   "metadata": {},
   "outputs": [
    {
     "name": "stdout",
     "output_type": "stream",
     "text": [
      "                                                id  is_male\n",
      "0     MC_singlenuc23_1_Tk33_021220__0001_vid__1330        0\n",
      "1     MC_singlenuc23_1_Tk33_021220__0001_vid__1573        0\n",
      "2     MC_singlenuc23_1_Tk33_021220__0001_vid__1640        0\n",
      "3     MC_singlenuc23_1_Tk33_021220__0001_vid__1748        0\n",
      "4     MC_singlenuc23_1_Tk33_021220__0001_vid__2085        0\n",
      "..                                             ...      ...\n",
      "666  MC_singlenuc96_b1_Tk41_081120__0001_vid__8792        1\n",
      "667  MC_singlenuc96_b1_Tk41_081120__0001_vid__8893        1\n",
      "668  MC_singlenuc96_b1_Tk41_081120__0001_vid__9161        0\n",
      "669  MC_singlenuc96_b1_Tk41_081120__0001_vid__9345        0\n",
      "670  MC_singlenuc96_b1_Tk41_081120__0001_vid__9350        1\n",
      "\n",
      "[671 rows x 2 columns]\n"
     ]
    }
   ],
   "source": [
    "# Group Sex Labels by Track for Later\n",
    "training_data_ids_and_labels = training_data_ids_and_labels.groupby('id')['is_male'].mean().round().astype(int).reset_index()\n",
    "print(training_data_ids_and_labels)"
   ]
  },
  {
   "cell_type": "code",
   "execution_count": 9,
   "id": "325bd518",
   "metadata": {},
   "outputs": [],
   "source": [
    "def calculate_speed(df):\n",
    "    df['speed'] = np.sqrt(df['u_dot']**2 + df['v_dot']**2)\n",
    "    return df\n",
    "\n",
    "def calculate_acceleration(u_dot, v_dot, time_intervals):\n",
    "    u_dot = np.array(u_dot)\n",
    "    v_dot = np.array(v_dot)\n",
    "    time_intervals = np.array(time_intervals)\n",
    "    ax = np.diff(u_dot) / time_intervals[:-1]\n",
    "    ay = np.diff(v_dot) / time_intervals[:-1]\n",
    "    acceleration = np.sqrt(ax**2 + ay**2)\n",
    "    return ax, ay, acceleration\n",
    "\n",
    "def calculate_velocity_magnitude(df):\n",
    "    df['velocity_magnitude'] = np.sqrt(df['u_dot']**2 + df['v_dot']**2)\n",
    "    return df\n",
    "\n",
    "def calculate_velocity_angle(df):\n",
    "    df['velocity_angle'] = np.arctan2(df['v_dot'], df['u_dot'])\n",
    "    return df\n",
    "\n",
    "def calculate_jerk(acceleration, time_intervals):\n",
    "    jerk = np.diff(acceleration) / time_intervals[:-2]\n",
    "    return jerk\n",
    "\n",
    "def calculate_directional_change(df):\n",
    "    df['velocity_angle'] = np.arctan2(df['v_dot'], df['u_dot'])\n",
    "    df['directional_change'] = df['velocity_angle'].diff().fillna(0)\n",
    "    return df\n",
    "\n",
    "def calculate_rms_velocity(df):\n",
    "    df['rms_velocity'] = np.sqrt((df['u_dot']**2 + df['v_dot']**2).mean())\n",
    "    return df\n",
    "\n",
    "def calculate_statistical_features(df, column):\n",
    "    features = {\n",
    "        'mean': df[column].mean(),\n",
    "        'median': df[column].median(),\n",
    "        'variance': df[column].var(),\n",
    "        'std_dev': df[column].std()\n",
    "    }\n",
    "    return features\n",
    "\n",
    "def calculate_spectral_features(df, column):\n",
    "    fft_values = np.fft.fft(df[column])\n",
    "    return fft_values\n",
    "\n",
    "def calculate_autocorrelation(df, column):\n",
    "    autocorr_values = np.correlate(df[column], df[column], mode='full')\n",
    "    return autocorr_values"
   ]
  },
  {
   "cell_type": "code",
   "execution_count": 10,
   "id": "e6b0eacd",
   "metadata": {},
   "outputs": [
    {
     "name": "stdout",
     "output_type": "stream",
     "text": [
      "                                             id     speed  mean_acceleration  \\\n",
      "0  MC_singlenuc23_1_Tk33_021220__0001_vid__1330  2.669734           0.281946   \n",
      "1  MC_singlenuc23_1_Tk33_021220__0001_vid__1573  2.306083           0.272332   \n",
      "2  MC_singlenuc23_1_Tk33_021220__0001_vid__1640  2.884547           0.269384   \n",
      "3  MC_singlenuc23_1_Tk33_021220__0001_vid__1748  2.867001           0.295195   \n",
      "4  MC_singlenuc23_1_Tk33_021220__0001_vid__2085  2.646049           0.268153   \n",
      "\n",
      "       jerk  directional_change  rms_velocity  \n",
      "0 -0.007833           -0.000907      3.849834  \n",
      "1 -0.007964           -0.000857      3.124012  \n",
      "2 -0.008324           -0.000272      3.642730  \n",
      "3 -0.007652           -0.001780      3.896280  \n",
      "4 -0.008244           -0.001285      3.467476  \n"
     ]
    }
   ],
   "source": [
    "def create_features_from_track_id(training_data):\n",
    "    features = []\n",
    "    grouped = training_data.groupby('id')\n",
    "\n",
    "    for track_id, group in grouped:\n",
    "        group = group.sort_values(by='frame')\n",
    "        group = calculate_speed(group)\n",
    "        group = calculate_velocity_magnitude(group)\n",
    "        group = calculate_velocity_angle(group)\n",
    "        group = calculate_directional_change(group)\n",
    "        group = calculate_rms_velocity(group)\n",
    "\n",
    "        speed = group['speed'].mean()\n",
    "        time_intervals = group['frame'].diff().fillna(1).values  # Assume frame difference as time interval\n",
    "        ax, ay, acceleration = calculate_acceleration(group['u_dot'], group['v_dot'], time_intervals)\n",
    "        mean_acceleration = np.mean(acceleration)\n",
    "        jerk = calculate_jerk(acceleration, time_intervals).mean()\n",
    "        directional_change = group['directional_change'].mean()\n",
    "        rms_velocity = group['rms_velocity'].iloc[0]\n",
    "\n",
    "        u_dot_stats = calculate_statistical_features(group, 'u_dot')\n",
    "        v_dot_stats = calculate_statistical_features(group, 'v_dot')\n",
    "        s_dot_stats = calculate_statistical_features(group, 's_dot')\n",
    "\n",
    "        fft_u_dot = calculate_spectral_features(group, 'u_dot')\n",
    "        fft_v_dot = calculate_spectral_features(group, 'v_dot')\n",
    "        fft_s_dot = calculate_spectral_features(group, 's_dot')\n",
    "\n",
    "        autocorr_u_dot = calculate_autocorrelation(group, 'u_dot')\n",
    "        autocorr_v_dot = calculate_autocorrelation(group, 'v_dot')\n",
    "\n",
    "        features.append({\n",
    "            'id': track_id,\n",
    "            'speed': speed,\n",
    "            'mean_acceleration': mean_acceleration,\n",
    "            'jerk': jerk,\n",
    "            'directional_change': directional_change,\n",
    "            'rms_velocity': rms_velocity,\n",
    "            #'u_dot_mean': u_dot_stats['mean'],\n",
    "            #'u_dot_median': u_dot_stats['median'],\n",
    "            ###'u_dot_variance': u_dot_stats['variance'],\n",
    "            ###'u_dot_std_dev': u_dot_stats['std_dev'],\n",
    "            #'v_dot_mean': v_dot_stats['mean'],\n",
    "            #'v_dot_median': v_dot_stats['median'],\n",
    "            ###'v_dot_variance': v_dot_stats['variance'],\n",
    "            ###'v_dot_std_dev': v_dot_stats['std_dev'],\n",
    "            #'s_dot_mean': s_dot_stats['mean'],\n",
    "            #'s_dot_median': s_dot_stats['median'],\n",
    "            #'s_dot_variance': s_dot_stats['variance'],\n",
    "            #'s_dot_std_dev': s_dot_stats['std_dev'],\n",
    "            #'fft_u_dot': fft_u_dot,\n",
    "            #'fft_v_dot': fft_v_dot,\n",
    "            #'fft_s_dot': fft_s_dot,\n",
    "            #'autocorr_u_dot': autocorr_u_dot,\n",
    "            #'autocorr_v_dot': autocorr_v_dot\n",
    "        })\n",
    "\n",
    "    return pd.DataFrame(features)\n",
    "\n",
    "# Create features from the example data\n",
    "training_data_with_features = create_features_from_track_id(training_data)\n",
    "print(training_data_with_features.head())"
   ]
  },
  {
   "cell_type": "code",
   "execution_count": 11,
   "id": "94eaf865",
   "metadata": {},
   "outputs": [
    {
     "name": "stdout",
     "output_type": "stream",
     "text": [
      "                                                id  is_male     speed  \\\n",
      "0     MC_singlenuc23_1_Tk33_021220__0001_vid__1330        0  2.669734   \n",
      "1     MC_singlenuc23_1_Tk33_021220__0001_vid__1573        0  2.306083   \n",
      "2     MC_singlenuc23_1_Tk33_021220__0001_vid__1640        0  2.884547   \n",
      "3     MC_singlenuc23_1_Tk33_021220__0001_vid__1748        0  2.867001   \n",
      "4     MC_singlenuc23_1_Tk33_021220__0001_vid__2085        0  2.646049   \n",
      "..                                             ...      ...       ...   \n",
      "666  MC_singlenuc96_b1_Tk41_081120__0001_vid__8792        1  7.188265   \n",
      "667  MC_singlenuc96_b1_Tk41_081120__0001_vid__8893        1  4.243637   \n",
      "668  MC_singlenuc96_b1_Tk41_081120__0001_vid__9161        0  1.225791   \n",
      "669  MC_singlenuc96_b1_Tk41_081120__0001_vid__9345        0  2.434414   \n",
      "670  MC_singlenuc96_b1_Tk41_081120__0001_vid__9350        1  5.231545   \n",
      "\n",
      "     mean_acceleration      jerk  directional_change  rms_velocity  \n",
      "0             0.281946 -0.007833           -0.000907      3.849834  \n",
      "1             0.272332 -0.007964           -0.000857      3.124012  \n",
      "2             0.269384 -0.008324           -0.000272      3.642730  \n",
      "3             0.295195 -0.007652           -0.001780      3.896280  \n",
      "4             0.268153 -0.008244           -0.001285      3.467476  \n",
      "..                 ...       ...                 ...           ...  \n",
      "666           0.562417 -0.016421            0.004775      8.684992  \n",
      "667           0.447011 -0.014576           -0.011163      4.871862  \n",
      "668           0.143933 -0.004367           -0.000797      2.452611  \n",
      "669           0.216220 -0.008316           -0.002443      3.325983  \n",
      "670           0.443116 -0.013807           -0.006584      5.753525  \n",
      "\n",
      "[671 rows x 7 columns]\n"
     ]
    }
   ],
   "source": [
    "training_data = pd.merge(training_data_ids_and_labels, training_data_with_features, on='id')\n",
    "print(training_data)"
   ]
  },
  {
   "cell_type": "code",
   "execution_count": 12,
   "id": "39bef322",
   "metadata": {},
   "outputs": [],
   "source": [
    "# Imports\n",
    "import seaborn as sns\n",
    "import matplotlib.pyplot as plt"
   ]
  },
  {
   "cell_type": "code",
   "execution_count": 13,
   "id": "cc77c035",
   "metadata": {},
   "outputs": [],
   "source": [
    "training_data_viz = training_data.drop('id', axis=1)\n",
    "# pair_plot = sns.pairplot(training_data_viz, hue='is_male')\n",
    "# plt.show()"
   ]
  },
  {
   "cell_type": "markdown",
   "id": "3551382b",
   "metadata": {},
   "source": [
    "### 4. Combine Testing Frames by Track & Create Features"
   ]
  },
  {
   "cell_type": "code",
   "execution_count": 14,
   "id": "bdc3eaf1",
   "metadata": {},
   "outputs": [
    {
     "name": "stdout",
     "output_type": "stream",
     "text": [
      "                                                id  true_labels\n",
      "0     MC_singlenuc23_1_Tk33_021220__0001_vid__1330            0\n",
      "1     MC_singlenuc23_1_Tk33_021220__0001_vid__1573            0\n",
      "2     MC_singlenuc23_1_Tk33_021220__0001_vid__1640            0\n",
      "3     MC_singlenuc23_1_Tk33_021220__0001_vid__1748            0\n",
      "4     MC_singlenuc23_1_Tk33_021220__0001_vid__2085            0\n",
      "..                                             ...          ...\n",
      "666  MC_singlenuc96_b1_Tk41_081120__0001_vid__8792            1\n",
      "667  MC_singlenuc96_b1_Tk41_081120__0001_vid__8893            1\n",
      "668  MC_singlenuc96_b1_Tk41_081120__0001_vid__9161            0\n",
      "669  MC_singlenuc96_b1_Tk41_081120__0001_vid__9345            0\n",
      "670  MC_singlenuc96_b1_Tk41_081120__0001_vid__9350            1\n",
      "\n",
      "[671 rows x 2 columns]\n"
     ]
    }
   ],
   "source": [
    "testing_data_ids_and_labels = testing_data.groupby('id')['true_labels'].mean().round().astype(int).reset_index()\n",
    "print(testing_data_ids_and_labels)"
   ]
  },
  {
   "cell_type": "code",
   "execution_count": 15,
   "id": "b8b75b32",
   "metadata": {},
   "outputs": [
    {
     "name": "stdout",
     "output_type": "stream",
     "text": [
      "                                             id     speed  mean_acceleration  \\\n",
      "0  MC_singlenuc23_1_Tk33_021220__0001_vid__1330  2.629201           0.321134   \n",
      "1  MC_singlenuc23_1_Tk33_021220__0001_vid__1573  2.368859           0.315716   \n",
      "2  MC_singlenuc23_1_Tk33_021220__0001_vid__1640  3.038746           0.315944   \n",
      "3  MC_singlenuc23_1_Tk33_021220__0001_vid__1748  3.170401           0.342582   \n",
      "4  MC_singlenuc23_1_Tk33_021220__0001_vid__2085  2.747095           0.313087   \n",
      "\n",
      "       jerk  directional_change  rms_velocity  \n",
      "0 -0.110823           -0.008952      3.609359  \n",
      "1 -0.081295           -0.001442      3.417735  \n",
      "2 -0.091849           -0.002012      4.024899  \n",
      "3 -0.086605           -0.010452      4.715279  \n",
      "4 -0.069882           -0.018502      3.681212  \n"
     ]
    }
   ],
   "source": [
    "def create_features_from_track_id(testing_data):\n",
    "    features = []\n",
    "    grouped = testing_data.groupby('id')\n",
    "\n",
    "    for track_id, group in grouped:\n",
    "        group = group.sort_values(by='a2_frame')\n",
    "        group = calculate_speed(group)\n",
    "        group = calculate_velocity_magnitude(group)\n",
    "        group = calculate_velocity_angle(group)\n",
    "        group = calculate_directional_change(group)\n",
    "        group = calculate_rms_velocity(group)\n",
    "\n",
    "        speed = group['speed'].mean()\n",
    "        time_intervals = group['a2_frame'].diff().fillna(1).values  # Assume frame difference as time interval\n",
    "        ax, ay, acceleration = calculate_acceleration(group['u_dot'], group['v_dot'], time_intervals)\n",
    "        mean_acceleration = np.mean(acceleration)\n",
    "        jerk = calculate_jerk(acceleration, time_intervals).mean()\n",
    "        directional_change = group['directional_change'].mean()\n",
    "        rms_velocity = group['rms_velocity'].iloc[0]\n",
    "\n",
    "        u_dot_stats = calculate_statistical_features(group, 'u_dot')\n",
    "        v_dot_stats = calculate_statistical_features(group, 'v_dot')\n",
    "        s_dot_stats = calculate_statistical_features(group, 's_dot')\n",
    "\n",
    "        fft_u_dot = calculate_spectral_features(group, 'u_dot')\n",
    "        fft_v_dot = calculate_spectral_features(group, 'v_dot')\n",
    "        fft_s_dot = calculate_spectral_features(group, 's_dot')\n",
    "\n",
    "        autocorr_u_dot = calculate_autocorrelation(group, 'u_dot')\n",
    "        autocorr_v_dot = calculate_autocorrelation(group, 'v_dot')\n",
    "\n",
    "        features.append({\n",
    "            'id': track_id,\n",
    "            'speed': speed,\n",
    "            'mean_acceleration': mean_acceleration,\n",
    "            'jerk': jerk,\n",
    "            'directional_change': directional_change,\n",
    "            'rms_velocity': rms_velocity,\n",
    "            #'u_dot_mean': u_dot_stats['mean'],\n",
    "            #'u_dot_median': u_dot_stats['median'],\n",
    "            ###'u_dot_variance': u_dot_stats['variance'],\n",
    "            ###'u_dot_std_dev': u_dot_stats['std_dev'],\n",
    "            #'v_dot_mean': v_dot_stats['mean'],\n",
    "            #'v_dot_median': v_dot_stats['median'],\n",
    "            ###'v_dot_variance': v_dot_stats['variance'],\n",
    "            ###'v_dot_std_dev': v_dot_stats['std_dev'],\n",
    "            #'s_dot_mean': s_dot_stats['mean'],\n",
    "            #'s_dot_median': s_dot_stats['median'],\n",
    "            #'s_dot_variance': s_dot_stats['variance'],\n",
    "            #'s_dot_std_dev': s_dot_stats['std_dev'],\n",
    "            #'fft_u_dot': fft_u_dot,\n",
    "            #'fft_v_dot': fft_v_dot,\n",
    "            #'fft_s_dot': fft_s_dot,\n",
    "            #'autocorr_u_dot': autocorr_u_dot,\n",
    "            #'autocorr_v_dot': autocorr_v_dot\n",
    "        })\n",
    "\n",
    "    return pd.DataFrame(features)\n",
    "\n",
    "# Create features from the example data\n",
    "testing_data_with_features = create_features_from_track_id(testing_data)\n",
    "print(testing_data_with_features.head())"
   ]
  },
  {
   "cell_type": "code",
   "execution_count": 16,
   "id": "6b82f116",
   "metadata": {},
   "outputs": [
    {
     "name": "stdout",
     "output_type": "stream",
     "text": [
      "                                                id  true_labels     speed  \\\n",
      "0     MC_singlenuc23_1_Tk33_021220__0001_vid__1330            0  2.629201   \n",
      "1     MC_singlenuc23_1_Tk33_021220__0001_vid__1573            0  2.368859   \n",
      "2     MC_singlenuc23_1_Tk33_021220__0001_vid__1640            0  3.038746   \n",
      "3     MC_singlenuc23_1_Tk33_021220__0001_vid__1748            0  3.170401   \n",
      "4     MC_singlenuc23_1_Tk33_021220__0001_vid__2085            0  2.747095   \n",
      "..                                             ...          ...       ...   \n",
      "666  MC_singlenuc96_b1_Tk41_081120__0001_vid__8792            1  7.954274   \n",
      "667  MC_singlenuc96_b1_Tk41_081120__0001_vid__8893            1  4.272279   \n",
      "668  MC_singlenuc96_b1_Tk41_081120__0001_vid__9161            0  1.160454   \n",
      "669  MC_singlenuc96_b1_Tk41_081120__0001_vid__9345            0  2.647480   \n",
      "670  MC_singlenuc96_b1_Tk41_081120__0001_vid__9350            1  6.040704   \n",
      "\n",
      "     mean_acceleration      jerk  directional_change  rms_velocity  \n",
      "0             0.321134 -0.110823           -0.008952      3.609359  \n",
      "1             0.315716 -0.081295           -0.001442      3.417735  \n",
      "2             0.315944 -0.091849           -0.002012      4.024899  \n",
      "3             0.342582 -0.086605           -0.010452      4.715279  \n",
      "4             0.313087 -0.069882           -0.018502      3.681212  \n",
      "..                 ...       ...                 ...           ...  \n",
      "666           0.933643 -0.332457            0.039277      9.017232  \n",
      "667           0.716699 -0.417049           -0.076519      4.831568  \n",
      "668           0.131256 -0.037282            0.005836      2.327982  \n",
      "669           0.260918 -0.060853           -0.019043      3.618271  \n",
      "670           0.753786 -0.354508           -0.052171      6.658862  \n",
      "\n",
      "[671 rows x 7 columns]\n"
     ]
    }
   ],
   "source": [
    "testing_data = pd.merge(testing_data_ids_and_labels, testing_data_with_features, on='id')\n",
    "print(testing_data)"
   ]
  },
  {
   "cell_type": "markdown",
   "id": "38ab2203",
   "metadata": {},
   "source": [
    "### 5. Test Dataset Using Tuned NN"
   ]
  },
  {
   "cell_type": "code",
   "execution_count": 17,
   "id": "2039bd47",
   "metadata": {},
   "outputs": [],
   "source": [
    "# Imports\n",
    "from sklearn.preprocessing import StandardScaler\n",
    "from sklearn.neural_network import MLPClassifier\n",
    "from sklearn.metrics import accuracy_score, f1_score, make_scorer\n",
    "from sklearn.model_selection import learning_curve, validation_curve, cross_val_score"
   ]
  },
  {
   "cell_type": "code",
   "execution_count": 18,
   "id": "baaf64c8",
   "metadata": {},
   "outputs": [
    {
     "name": "stdout",
     "output_type": "stream",
     "text": [
      "(671, 5)\n",
      "(671, 5)\n",
      "(671,)\n",
      "(671,)\n"
     ]
    }
   ],
   "source": [
    "# Split into X and y\n",
    "X_train = training_data.drop('is_male', axis=1)\n",
    "X_train = X_train.drop('id', axis=1)\n",
    "y_train = training_data['is_male']\n",
    "X_test = testing_data.drop('true_labels', axis=1)\n",
    "X_test = X_test.drop('id', axis=1)\n",
    "y_test = testing_data['true_labels']\n",
    "\n",
    "# Check Shapes\n",
    "print(X_train.shape)\n",
    "print(X_test.shape)\n",
    "print(y_train.shape)\n",
    "print(y_test.shape)"
   ]
  },
  {
   "cell_type": "code",
   "execution_count": 19,
   "id": "0e5a722d",
   "metadata": {},
   "outputs": [
    {
     "name": "stdout",
     "output_type": "stream",
     "text": [
      "Test Accuracy: 60.66%\n"
     ]
    },
    {
     "name": "stderr",
     "output_type": "stream",
     "text": [
      "C:\\Users\\kaiwi\\anaconda3\\Lib\\site-packages\\sklearn\\neural_network\\_multilayer_perceptron.py:691: ConvergenceWarning: Stochastic Optimizer: Maximum iterations (200) reached and the optimization hasn't converged yet.\n",
      "  warnings.warn(\n"
     ]
    }
   ],
   "source": [
    "# Standardize Features\n",
    "scaler = StandardScaler()\n",
    "X_train_scaled = scaler.fit_transform(X_train)\n",
    "X_test_scaled = scaler.transform(X_test)\n",
    "\n",
    "# Use Sklearn MLP\n",
    "mlp_classifier = MLPClassifier(hidden_layer_sizes=(64, 32), \n",
    "                               activation='relu', \n",
    "                               solver='adam', \n",
    "                               random_state=42)\n",
    "mlp_classifier.fit(X_train_scaled, y_train)\n",
    "y_pred = mlp_classifier.predict(X_test_scaled)\n",
    "accuracy = accuracy_score(y_test, y_pred)\n",
    "print(f\"Test Accuracy: {accuracy*100:.2f}%\")"
   ]
  },
  {
   "cell_type": "code",
   "execution_count": 20,
   "id": "de6e74fc",
   "metadata": {},
   "outputs": [
    {
     "name": "stderr",
     "output_type": "stream",
     "text": [
      "[Parallel(n_jobs=-1)]: Using backend LokyBackend with 12 concurrent workers.\n"
     ]
    },
    {
     "name": "stdout",
     "output_type": "stream",
     "text": [
      "[learning_curve] Training set sizes: [ 53 122 191 260 329 398 467 536]\n"
     ]
    },
    {
     "name": "stderr",
     "output_type": "stream",
     "text": [
      "[Parallel(n_jobs=-1)]: Done  20 out of  40 | elapsed:    2.4s remaining:    2.4s\n",
      "[Parallel(n_jobs=-1)]: Done  40 out of  40 | elapsed:    3.0s finished\n"
     ]
    },
    {
     "data": {
      "image/png": "[encoded data removed]",
      "text/plain": [
       "<Figure size 1000x600 with 1 Axes>"
      ]
     },
     "metadata": {},
     "output_type": "display_data"
    }
   ],
   "source": [
    "# Initialize the MLPClassifier\n",
    "mlp_classifier = MLPClassifier(hidden_layer_sizes=(64, 32), activation='relu', solver='adam', random_state=42)\n",
    "\n",
    "# Calculate Learning Curve\n",
    "train_sizes, train_scores, test_scores = \\\n",
    "    learning_curve(mlp_classifier, X_train_scaled, y_train, cv=5, n_jobs=-1,\n",
    "                   train_sizes=np.linspace(.1, 1.0, 8), verbose=2)\n",
    "\n",
    "# Plot\n",
    "plt.figure(figsize=(10, 6))\n",
    "plt.title(\"Learning Curve\")\n",
    "plt.xlabel(\"Training Examples\")\n",
    "plt.ylabel(\"Score\")\n",
    "plt.grid()\n",
    "\n",
    "train_scores_mean = np.mean(train_scores, axis=1)\n",
    "train_scores_std = np.std(train_scores, axis=1)\n",
    "test_scores_mean = np.mean(test_scores, axis=1)\n",
    "test_scores_std = np.std(test_scores, axis=1)\n",
    "\n",
    "plt.fill_between(train_sizes, train_scores_mean - train_scores_std,\n",
    "                 train_scores_mean + train_scores_std, alpha=0.1,\n",
    "                 color=\"r\")\n",
    "plt.fill_between(train_sizes, test_scores_mean - test_scores_std,\n",
    "                 test_scores_mean + test_scores_std, alpha=0.1, color=\"g\")\n",
    "plt.plot(train_sizes, train_scores_mean, 'o-', color=\"r\",\n",
    "         label=\"Training score\")\n",
    "plt.plot(train_sizes, test_scores_mean, 'o-', color=\"g\",\n",
    "         label=\"Cross-validation score\")\n",
    "\n",
    "plt.legend(loc=\"best\")\n",
    "plt.show()"
   ]
  },
  {
   "cell_type": "code",
   "execution_count": 21,
   "id": "b99db0ed",
   "metadata": {},
   "outputs": [],
   "source": [
    "# Imports\n",
    "from sklearn.model_selection import GridSearchCV\n",
    "from sklearn.pipeline import Pipeline"
   ]
  },
  {
   "cell_type": "code",
   "execution_count": 28,
   "id": "a9eb361f",
   "metadata": {},
   "outputs": [
    {
     "name": "stdout",
     "output_type": "stream",
     "text": [
      "Fitting 5 folds for each of 27 candidates, totalling 135 fits\n",
      "Best Hyperparameters: {'mlp__alpha': 0.0001, 'mlp__learning_rate_init': 0.001, 'mlp__max_iter': 200}\n",
      "Best Score: 0.7631066887783307\n"
     ]
    },
    {
     "name": "stderr",
     "output_type": "stream",
     "text": [
      "C:\\Users\\kaiwi\\anaconda3\\Lib\\site-packages\\sklearn\\neural_network\\_multilayer_perceptron.py:691: ConvergenceWarning: Stochastic Optimizer: Maximum iterations (200) reached and the optimization hasn't converged yet.\n",
      "  warnings.warn(\n"
     ]
    }
   ],
   "source": [
    "# Default Classifier\n",
    "mlp_classifier = MLPClassifier(hidden_layer_sizes=(64, 32), \n",
    "                               activation='relu', \n",
    "                               solver='adam', \n",
    "                               random_state=42)\n",
    "\n",
    "# Pipeline\n",
    "pipeline = Pipeline([\n",
    "    ('scaler', StandardScaler()),\n",
    "    ('mlp', mlp_classifier)\n",
    "])\n",
    "\n",
    "# Define Chosen Hyperparams\n",
    "param_grid = {\n",
    "    #'mlp__activation': ['relu', 'tanh', 'logistic'],  # Activation functions\n",
    "    #'mlp__solver': ['adam', 'lbfgs', 'sgd'],  # Solvers\n",
    "    'mlp__alpha': [0.0001, 0.001, 0.01],  # Regularization parameter\n",
    "    'mlp__learning_rate_init': [0.001, 0.01, 0.1],  # Initial learning rate\n",
    "    'mlp__max_iter': [100, 200, 300]  # Maximum number of iterations\n",
    "}\n",
    "\n",
    "# Grid Search with Cross-Validation\n",
    "grid_search = GridSearchCV(pipeline, param_grid, cv=5, n_jobs=-1, verbose=2)\n",
    "grid_search.fit(X_train, y_train)\n",
    "\n",
    "# Get Hyperparameters and Score\n",
    "best_params = grid_search.best_params_\n",
    "best_score = grid_search.best_score_\n",
    "print(\"Best Hyperparameters:\", best_params)\n",
    "print(\"Best Score:\", best_score)"
   ]
  },
  {
   "cell_type": "code",
   "execution_count": 32,
   "id": "21d088f2",
   "metadata": {},
   "outputs": [
    {
     "name": "stdout",
     "output_type": "stream",
     "text": [
      "Test Accuracy: 61.70%\n"
     ]
    },
    {
     "name": "stderr",
     "output_type": "stream",
     "text": [
      "C:\\Users\\kaiwi\\anaconda3\\Lib\\site-packages\\sklearn\\neural_network\\_multilayer_perceptron.py:691: ConvergenceWarning: Stochastic Optimizer: Maximum iterations (200) reached and the optimization hasn't converged yet.\n",
      "  warnings.warn(\n"
     ]
    }
   ],
   "source": [
    "# Use Sklearn MLP\n",
    "mlp_classifier = MLPClassifier(hidden_layer_sizes=(100, 25), \n",
    "                               activation='relu', \n",
    "                               solver='adam', \n",
    "                               random_state=42, \n",
    "                               alpha=0.0001,\n",
    "                               learning_rate_init=0.001,\n",
    "                               max_iter=200)\n",
    "mlp_classifier.fit(X_train_scaled, y_train)\n",
    "y_pred = mlp_classifier.predict(X_test_scaled)\n",
    "accuracy = accuracy_score(y_test, y_pred)\n",
    "print(f\"Test Accuracy: {accuracy*100:.2f}%\")"
   ]
  },
  {
   "cell_type": "code",
   "execution_count": 33,
   "id": "1428315f",
   "metadata": {},
   "outputs": [
    {
     "name": "stdout",
     "output_type": "stream",
     "text": [
      "Fitting 5 folds for each of 9 candidates, totalling 45 fits\n",
      "Best Hyperparameters: {'activation': 'relu', 'solver': 'adam'}\n",
      "Best Score: 0.7720398009950248\n"
     ]
    },
    {
     "name": "stderr",
     "output_type": "stream",
     "text": [
      "C:\\Users\\kaiwi\\anaconda3\\Lib\\site-packages\\sklearn\\neural_network\\_multilayer_perceptron.py:691: ConvergenceWarning: Stochastic Optimizer: Maximum iterations (200) reached and the optimization hasn't converged yet.\n",
      "  warnings.warn(\n"
     ]
    }
   ],
   "source": [
    "# Pipeline\n",
    "pipeline = Pipeline([\n",
    "    ('scaler', StandardScaler()),\n",
    "    ('mlp', mlp_classifier)\n",
    "])\n",
    "\n",
    "# Define Chosen Hyperparams\n",
    "param_grid = {\n",
    "    'activation': ['relu', 'tanh', 'logistic'],  # Activation functions\n",
    "    'solver': ['adam', 'lbfgs', 'sgd'],  # Solvers\n",
    "}\n",
    "\n",
    "# Grid Search\n",
    "grid_search = GridSearchCV(mlp_classifier, param_grid, cv=5, n_jobs=-1, verbose=2)\n",
    "grid_search.fit(X_train_scaled, y_train) \n",
    "\n",
    "# Get Hyperparameters and Score\n",
    "best_params = grid_search.best_params_\n",
    "best_score = grid_search.best_score_\n",
    "print(\"Best Hyperparameters:\", best_params)\n",
    "print(\"Best Score:\", best_score)"
   ]
  },
  {
   "cell_type": "code",
   "execution_count": 35,
   "id": "ef87f22c",
   "metadata": {},
   "outputs": [
    {
     "name": "stdout",
     "output_type": "stream",
     "text": [
      "Test Accuracy: 63.64%\n"
     ]
    },
    {
     "name": "stderr",
     "output_type": "stream",
     "text": [
      "C:\\Users\\kaiwi\\anaconda3\\Lib\\site-packages\\sklearn\\neural_network\\_multilayer_perceptron.py:691: ConvergenceWarning: Stochastic Optimizer: Maximum iterations (200) reached and the optimization hasn't converged yet.\n",
      "  warnings.warn(\n"
     ]
    }
   ],
   "source": [
    "# Use Sklearn MLP\n",
    "mlp_classifier = MLPClassifier(hidden_layer_sizes=(50, 50), \n",
    "                               activation='relu', \n",
    "                               solver='adam', \n",
    "                               random_state=42, \n",
    "                               alpha=0.0001,\n",
    "                               learning_rate_init=0.001,\n",
    "                               max_iter=200)\n",
    "mlp_classifier.fit(X_train_scaled, y_train)\n",
    "y_pred = mlp_classifier.predict(X_test_scaled)\n",
    "accuracy = accuracy_score(y_test, y_pred)\n",
    "print(f\"Test Accuracy: {accuracy*100:.2f}%\")"
   ]
  }
 ],
 "metadata": {
  "kernelspec": {
   "display_name": "Python 3 (ipykernel)",
   "language": "python",
   "name": "python3"
  },
  "language_info": {
   "codemirror_mode": {
    "name": "ipython",
    "version": 3
   },
   "file_extension": ".py",
   "mimetype": "text/x-python",
   "name": "python",
   "nbconvert_exporter": "python",
   "pygments_lexer": "ipython3",
   "version": "3.11.5"
  }
 },
 "nbformat": 4,
 "nbformat_minor": 5
}
