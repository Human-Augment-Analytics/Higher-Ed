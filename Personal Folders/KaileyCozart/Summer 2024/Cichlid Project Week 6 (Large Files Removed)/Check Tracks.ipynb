{
 "cells": [
  {
   "cell_type": "markdown",
   "id": "bda09ed8",
   "metadata": {},
   "source": [
    "### Check All Tracks Match"
   ]
  },
  {
   "cell_type": "code",
   "execution_count": 1,
   "id": "f4225460",
   "metadata": {},
   "outputs": [],
   "source": [
    "# Imports\n",
    "import numpy as np\n",
    "import pandas as pd"
   ]
  },
  {
   "cell_type": "code",
   "execution_count": 2,
   "id": "264de8bb",
   "metadata": {},
   "outputs": [
    {
     "name": "stdout",
     "output_type": "stream",
     "text": [
      "        speed  outreach_ratio  mean_acceleration  distance_traveled  cluster  \\\n",
      "666  7.188265        0.222151           0.562417        4535.982335        3   \n",
      "667  4.243637        0.212326           0.447011        1659.786611        3   \n",
      "668  1.225791        0.143379           0.143933        5789.845947        6   \n",
      "669  2.434414        0.081309           0.216220        4567.240841        6   \n",
      "670  5.231545        0.056981           0.443116        1972.812041        3   \n",
      "\n",
      "     is_male                                             id  \n",
      "666        1  MC_singlenuc96_b1_Tk41_081120__0001_vid__8792  \n",
      "667        1  MC_singlenuc96_b1_Tk41_081120__0001_vid__8893  \n",
      "668        0  MC_singlenuc96_b1_Tk41_081120__0001_vid__9161  \n",
      "669        0  MC_singlenuc96_b1_Tk41_081120__0001_vid__9345  \n",
      "670        1  MC_singlenuc96_b1_Tk41_081120__0001_vid__9350  \n",
      "        Unnamed: 0                          trial base_name  track_id  frame  \\\n",
      "112066      112066   MC_singlenuc81_1_Tk51_072920  0002_vid      1220   1068   \n",
      "112067      112067    MC_singlenuc40_2_Tk3_030920  0001_vid        18   5840   \n",
      "112068      112068   MC_singlenuc59_4_Tk61_060220  0001_vid      4920   5332   \n",
      "112069      112069   MC_singlenuc45_7_Tk47_050720  0002_vid      3133    452   \n",
      "112070      112070  MC_singlenuc35_11_Tk61_051220  0002_vid       612   1628   \n",
      "\n",
      "        c_female  c_male prediction label   acc  \n",
      "112066      0.21    0.79       male  male  True  \n",
      "112067      0.49    0.51       male  male  True  \n",
      "112068      0.25    0.75       male  male  True  \n",
      "112069      0.33    0.67       male  male  True  \n",
      "112070      0.23    0.77       male  male  True  \n"
     ]
    }
   ],
   "source": [
    "# Read Files\n",
    "my_uids = pd.read_csv('../Data/5_Features_with_ID_Full_Dataset.csv')\n",
    "correct_uids = pd.read_csv('../Data/Results2_0_yolo_for_track_check.csv')\n",
    "\n",
    "# Check Files\n",
    "print(my_uids.tail())\n",
    "print(correct_uids.tail())"
   ]
  },
  {
   "cell_type": "code",
   "execution_count": 3,
   "id": "d1950507",
   "metadata": {},
   "outputs": [
    {
     "name": "stdout",
     "output_type": "stream",
     "text": [
      "                                                id  label\n",
      "666  MC_singlenuc96_b1_Tk41_081120__0001_vid__8792    1.0\n",
      "667  MC_singlenuc96_b1_Tk41_081120__0001_vid__8893    1.0\n",
      "668  MC_singlenuc96_b1_Tk41_081120__0001_vid__9161    0.0\n",
      "669  MC_singlenuc96_b1_Tk41_081120__0001_vid__9345    0.0\n",
      "670  MC_singlenuc96_b1_Tk41_081120__0001_vid__9350    1.0\n"
     ]
    }
   ],
   "source": [
    "# Find Unique Track Names from Correct\n",
    "correct_uids['id'] = correct_uids['trial'] + '__' + correct_uids['base_name'] + '__' + correct_uids['track_id'].astype(str)\n",
    "correct_uids['label'] = correct_uids['label'].map({'female': 0, 'male': 1})\n",
    "correct_uids = correct_uids.drop(columns=['trial'])\n",
    "correct_uids = correct_uids.drop(columns=['base_name'])\n",
    "correct_uids = correct_uids.drop(columns=['track_id'])\n",
    "correct_uids = correct_uids.drop(columns=['frame'])\n",
    "correct_uids = correct_uids.drop(columns=['c_female'])\n",
    "correct_uids = correct_uids.drop(columns=['c_male'])\n",
    "correct_uids = correct_uids.drop(columns=['prediction'])\n",
    "# correct_uids = correct_uids.drop(columns=['label'])\n",
    "correct_uids = correct_uids.drop(columns=['acc'])\n",
    "correct_uids = correct_uids.loc[:, ~correct_uids.columns.str.contains('^Unnamed')]\n",
    "correct_uids = correct_uids.groupby('id')['label'].mean().reset_index()\n",
    "correct_uids['label'] = correct_uids['label'].round()\n",
    "correct_uids = pd.DataFrame(correct_uids)\n",
    "print(correct_uids.tail())"
   ]
  },
  {
   "cell_type": "code",
   "execution_count": 4,
   "id": "34d94d69",
   "metadata": {},
   "outputs": [
    {
     "name": "stdout",
     "output_type": "stream",
     "text": [
      "     is_male                                             id\n",
      "666        1  MC_singlenuc96_b1_Tk41_081120__0001_vid__8792\n",
      "667        1  MC_singlenuc96_b1_Tk41_081120__0001_vid__8893\n",
      "668        0  MC_singlenuc96_b1_Tk41_081120__0001_vid__9161\n",
      "669        0  MC_singlenuc96_b1_Tk41_081120__0001_vid__9345\n",
      "670        1  MC_singlenuc96_b1_Tk41_081120__0001_vid__9350\n"
     ]
    }
   ],
   "source": [
    "# Find Unique Track Names from Mine\n",
    "my_uids['id'] = my_uids['id'].unique()\n",
    "my_uids = pd.DataFrame(my_uids)\n",
    "my_uids = my_uids.drop(columns=['speed'])\n",
    "my_uids = my_uids.drop(columns=['mean_acceleration'])\n",
    "my_uids = my_uids.drop(columns=['outreach_ratio'])\n",
    "my_uids = my_uids.drop(columns=['distance_traveled'])\n",
    "my_uids = my_uids.drop(columns=['cluster'])\n",
    "print(my_uids.tail())"
   ]
  },
  {
   "cell_type": "code",
   "execution_count": 5,
   "id": "c628d9a5",
   "metadata": {},
   "outputs": [
    {
     "name": "stdout",
     "output_type": "stream",
     "text": [
      "Do all unique IDs in correct_uids match those in my_uids? True\n"
     ]
    }
   ],
   "source": [
    "# Check Matches\n",
    "match = set(correct_uids['id']) == set(my_uids['id'])\n",
    "print(f\"Do all unique IDs in correct_uids match those in my_uids? {match}\")"
   ]
  },
  {
   "cell_type": "code",
   "execution_count": 6,
   "id": "10ce437b",
   "metadata": {},
   "outputs": [
    {
     "name": "stdout",
     "output_type": "stream",
     "text": [
      "Label and is_male match for all rows after merge.\n"
     ]
    }
   ],
   "source": [
    "# Check Labels\n",
    "merged_df = pd.merge(correct_uids, my_uids, on='id')\n",
    "labels_match = (merged_df['label'] == merged_df['is_male']).all()\n",
    "if labels_match:\n",
    "    print(\"Label and is_male match for all rows after merge.\")\n",
    "else:\n",
    "    print(\"Label and is_male do not match for all rows after merge.\")"
   ]
  },
  {
   "cell_type": "markdown",
   "id": "f4fe1834",
   "metadata": {},
   "source": [
    "### Check Percentage of Frames Match (Abandoned)"
   ]
  },
  {
   "cell_type": "code",
   "execution_count": 7,
   "id": "f9a8d5cc",
   "metadata": {},
   "outputs": [],
   "source": [
    "# Read Files\n",
    "my_uids = pd.read_csv('../Data/combined_dataset_for_uid_check.csv')\n",
    "correct_uids = pd.read_csv('../Data/Results2_0_yolo_for_track_check.csv')"
   ]
  },
  {
   "cell_type": "code",
   "execution_count": 8,
   "id": "81be65e3",
   "metadata": {},
   "outputs": [
    {
     "name": "stdout",
     "output_type": "stream",
     "text": [
      "                       experiment_name video_base_name  track_id  \\\n",
      "1001961  MC_singlenuc96_b1_Tk41_081120        0001_vid      9350   \n",
      "1001962  MC_singlenuc96_b1_Tk41_081120        0001_vid      9350   \n",
      "1001963  MC_singlenuc96_b1_Tk41_081120        0001_vid      9350   \n",
      "1001964  MC_singlenuc96_b1_Tk41_081120        0001_vid      9350   \n",
      "1001965  MC_singlenuc96_b1_Tk41_081120        0001_vid      9350   \n",
      "\n",
      "         count_uncalibrated  new_count_uncalibrated          xc          yc  \\\n",
      "1001961                  95                  537123  156.276651  671.360475   \n",
      "1001962                  96                  537124  162.206921  672.395285   \n",
      "1001963                  97                  537125  170.841343  672.257588   \n",
      "1001964                  98                  537126  178.862178  673.323482   \n",
      "1001965                  99                  537127  187.945173  674.862680   \n",
      "\n",
      "            u_dot     v_dot      s_dot  class_id   p_value  track_length  \\\n",
      "1001961  4.437002  6.482767  23.792231       0.0  0.934901           305   \n",
      "1001962  4.571728  5.991240  25.240829       0.0  0.932262           305   \n",
      "1001963  4.938269  5.438280  26.805397       0.0  0.946115           305   \n",
      "1001964  5.216379  5.043803  29.915899       0.0  0.952906           305   \n",
      "1001965  5.565223  4.727619  30.420474       0.0  0.949971           305   \n",
      "\n",
      "                  w          h   frame  gender  \n",
      "1001961  174.453026  77.335526  537123       1  \n",
      "1001962  185.882436  73.302906  537124       1  \n",
      "1001963  195.640927  70.389400  537125       1  \n",
      "1001964  205.052418  68.460573  537126       1  \n",
      "1001965  209.900537  67.208523  537127       1  \n",
      "        Unnamed: 0                          trial base_name  track_id  frame  \\\n",
      "112066      112066   MC_singlenuc81_1_Tk51_072920  0002_vid      1220   1068   \n",
      "112067      112067    MC_singlenuc40_2_Tk3_030920  0001_vid        18   5840   \n",
      "112068      112068   MC_singlenuc59_4_Tk61_060220  0001_vid      4920   5332   \n",
      "112069      112069   MC_singlenuc45_7_Tk47_050720  0002_vid      3133    452   \n",
      "112070      112070  MC_singlenuc35_11_Tk61_051220  0002_vid       612   1628   \n",
      "\n",
      "        c_female  c_male prediction label   acc  \n",
      "112066      0.21    0.79       male  male  True  \n",
      "112067      0.49    0.51       male  male  True  \n",
      "112068      0.25    0.75       male  male  True  \n",
      "112069      0.33    0.67       male  male  True  \n",
      "112070      0.23    0.77       male  male  True  \n"
     ]
    }
   ],
   "source": [
    "# Check Files\n",
    "print(my_uids.tail())\n",
    "print(correct_uids.tail())"
   ]
  },
  {
   "cell_type": "code",
   "execution_count": 9,
   "id": "ff91882e",
   "metadata": {},
   "outputs": [],
   "source": [
    "# Make UIDs for Both\n",
    "my_uids['uid'] = my_uids['experiment_name'] + '__' + my_uids['video_base_name'] + '__' + my_uids['track_id'].astype(str)+ '__' + my_uids['frame'].astype(str)\n",
    "correct_uids['uid'] = correct_uids['trial'] + '__' + correct_uids['base_name'] + '__' + correct_uids['track_id'].astype(str)+ '__' + correct_uids['frame'].astype(str)"
   ]
  },
  {
   "cell_type": "code",
   "execution_count": 10,
   "id": "7d2b0511",
   "metadata": {},
   "outputs": [
    {
     "name": "stdout",
     "output_type": "stream",
     "text": [
      "                                                       uid\n",
      "1001961  MC_singlenuc96_b1_Tk41_081120__0001_vid__9350_...\n",
      "1001962  MC_singlenuc96_b1_Tk41_081120__0001_vid__9350_...\n",
      "1001963  MC_singlenuc96_b1_Tk41_081120__0001_vid__9350_...\n",
      "1001964  MC_singlenuc96_b1_Tk41_081120__0001_vid__9350_...\n",
      "1001965  MC_singlenuc96_b1_Tk41_081120__0001_vid__9350_...\n",
      "                                                      uid\n",
      "112066  MC_singlenuc81_1_Tk51_072920__0002_vid__1220__...\n",
      "112067    MC_singlenuc40_2_Tk3_030920__0001_vid__18__5840\n",
      "112068  MC_singlenuc59_4_Tk61_060220__0001_vid__4920__...\n",
      "112069  MC_singlenuc45_7_Tk47_050720__0002_vid__3133__452\n",
      "112070  MC_singlenuc35_11_Tk61_051220__0002_vid__612__...\n"
     ]
    }
   ],
   "source": [
    "# We Only Need UID\n",
    "my_uids = my_uids['uid']\n",
    "correct_uids = correct_uids['uid']\n",
    "my_uids = pd.DataFrame(my_uids)\n",
    "correct_uids = pd.DataFrame(correct_uids)\n",
    "\n",
    "# Check\n",
    "print(my_uids.tail())\n",
    "print(correct_uids.tail())"
   ]
  }
 ],
 "metadata": {
  "kernelspec": {
   "display_name": "Python 3 (ipykernel)",
   "language": "python",
   "name": "python3"
  },
  "language_info": {
   "codemirror_mode": {
    "name": "ipython",
    "version": 3
   },
   "file_extension": ".py",
   "mimetype": "text/x-python",
   "name": "python",
   "nbconvert_exporter": "python",
   "pygments_lexer": "ipython3",
   "version": "3.11.5"
  }
 },
 "nbformat": 4,
 "nbformat_minor": 5
}
