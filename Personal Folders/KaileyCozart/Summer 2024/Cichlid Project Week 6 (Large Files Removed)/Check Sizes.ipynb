{
 "cells": [
  {
   "cell_type": "code",
   "execution_count": 10,
   "id": "1fda5c0e",
   "metadata": {},
   "outputs": [
    {
     "name": "stdout",
     "output_type": "stream",
     "text": [
      "Number of lines present:  623785\n",
      "429\n",
      "Number of lines present:  378181\n",
      "242\n",
      "Totals: \n",
      "1001966\n",
      "671\n"
     ]
    }
   ],
   "source": [
    "# Sources: \n",
    "# https://www.geeksforgeeks.org/how-to-count-the-number-of-lines-in-a-csv-file-in-python/\n",
    "# https://www.geeksforgeeks.org/how-to-count-distinct-values-of-a-pandas-dataframe-column/\n",
    "# Imports\n",
    "import pandas as pd \n",
    "\n",
    "# Females\n",
    "resultsF = pd.read_csv('file_list_female_parsed_with_data.csv') \n",
    "print(\"Number of lines present: \",  \n",
    "      len(resultsF)) \n",
    "resultsF['id'] = resultsF['experiment_name'] + '__' + resultsF['video_base_name'] + '__' + resultsF['track_id'].astype(str)\n",
    "nF = len(pd.unique(resultsF['id']))\n",
    "print(nF)\n",
    "\n",
    "# Males\n",
    "results = pd.read_csv('file_list_male_parsed_with_data.csv') \n",
    "print(\"Number of lines present: \",  \n",
    "      len(results)) \n",
    "results['id'] = results['experiment_name'] + '__' + results['video_base_name'] + '__' + results['track_id'].astype(str)\n",
    "n = len(pd.unique(results['id']))\n",
    "print(n)\n",
    "\n",
    "# Total\n",
    "print(\"Totals: \")\n",
    "print(623785 + 378181)\n",
    "print(nF + n)"
   ]
  }
 ],
 "metadata": {
  "kernelspec": {
   "display_name": "Python 3 (ipykernel)",
   "language": "python",
   "name": "python3"
  },
  "language_info": {
   "codemirror_mode": {
    "name": "ipython",
    "version": 3
   },
   "file_extension": ".py",
   "mimetype": "text/x-python",
   "name": "python",
   "nbconvert_exporter": "python",
   "pygments_lexer": "ipython3",
   "version": "3.11.5"
  }
 },
 "nbformat": 4,
 "nbformat_minor": 5
}
