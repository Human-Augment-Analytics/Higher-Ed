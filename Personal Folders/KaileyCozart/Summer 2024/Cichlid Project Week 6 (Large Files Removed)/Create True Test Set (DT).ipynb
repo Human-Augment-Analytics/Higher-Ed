{
 "cells": [
  {
   "cell_type": "markdown",
   "id": "7b0805b4",
   "metadata": {},
   "source": [
    "### 1. Prepare Data"
   ]
  },
  {
   "cell_type": "code",
   "execution_count": 1,
   "id": "deaa6b77",
   "metadata": {},
   "outputs": [],
   "source": [
    "# Imports\n",
    "import numpy as np\n",
    "import pandas as pd"
   ]
  },
  {
   "cell_type": "code",
   "execution_count": 2,
   "id": "60d6198f",
   "metadata": {},
   "outputs": [
    {
     "name": "stdout",
     "output_type": "stream",
     "text": [
      "        Unnamed: 0.1  Unnamed: 0  \\\n",
      "111614        112066      112066   \n",
      "111615        112067      112067   \n",
      "111616        112068      112068   \n",
      "111617        112069      112069   \n",
      "111618        112070      112070   \n",
      "\n",
      "                                                val_paths  val_labels  \\\n",
      "111614  /home/bshi/Documents/Annotation2_0/final_resne...           1   \n",
      "111615  /home/bshi/Documents/Annotation2_0/final_resne...           1   \n",
      "111616  /home/bshi/Documents/Annotation2_0/final_resne...           1   \n",
      "111617  /home/bshi/Documents/Annotation2_0/final_resne...           1   \n",
      "111618  /home/bshi/Documents/Annotation2_0/final_resne...           1   \n",
      "\n",
      "        val_predictions   val_acc                          trial base_name  \\\n",
      "111614                0  0.992329  MC_singlenuc96_b1_Tk41_081120  0001_vid   \n",
      "111615                0  0.934512  MC_singlenuc96_b1_Tk41_081120  0001_vid   \n",
      "111616                1  0.548051  MC_singlenuc96_b1_Tk41_081120  0001_vid   \n",
      "111617                0  0.808965  MC_singlenuc96_b1_Tk41_081120  0001_vid   \n",
      "111618                0  0.892111  MC_singlenuc96_b1_Tk41_081120  0001_vid   \n",
      "\n",
      "        track_id  frame   sex  err  \\\n",
      "111614      9350     64  Male    1   \n",
      "111615      9350     66  Male    1   \n",
      "111616      9350      7  Male    0   \n",
      "111617      9350     79  Male    1   \n",
      "111618      9350     83  Male    1   \n",
      "\n",
      "                                                      uid  \n",
      "111614  MC_singlenuc96_b1_Tk41_081120__0001_vid__9350__64  \n",
      "111615  MC_singlenuc96_b1_Tk41_081120__0001_vid__9350__66  \n",
      "111616   MC_singlenuc96_b1_Tk41_081120__0001_vid__9350__7  \n",
      "111617  MC_singlenuc96_b1_Tk41_081120__0001_vid__9350__79  \n",
      "111618  MC_singlenuc96_b1_Tk41_081120__0001_vid__9350__83  \n",
      "        Unnamed: 0.2  Unnamed: 0.1  Unnamed: 0  track_id base_name     frame  \\\n",
      "111614       1117686       37601.0    395531.0    5747.0  0002_vid  243219.0   \n",
      "111615       1117709       37624.0    395554.0    5747.0  0002_vid  243242.0   \n",
      "111616       1117733       37648.0    395578.0    5747.0  0002_vid  243266.0   \n",
      "111617       1117757       37672.0    395602.0    5747.0  0002_vid  243290.0   \n",
      "111618       1117762       37677.0    395607.0    5747.0  0002_vid  243295.0   \n",
      "\n",
      "              xc        yc         w         h  ...  a2_base_name  \\\n",
      "111614  0.229628  0.479246  0.064082  0.152080  ...      0002_vid   \n",
      "111615  0.331459  0.426181  0.087423  0.087372  ...      0002_vid   \n",
      "111616  0.230906  0.683723  0.109482  0.114637  ...      0002_vid   \n",
      "111617  0.184423  0.541897  0.100875  0.151336  ...      0002_vid   \n",
      "111618  0.174173  0.534163  0.099585  0.159308  ...      0002_vid   \n",
      "\n",
      "        a2_track_id  a2_frame       iou                          trial label  \\\n",
      "111614         5128      1318  0.842310  MC_singlenuc86_b1_Tk47_073020     0   \n",
      "111615         5128      1341  0.882947  MC_singlenuc86_b1_Tk47_073020     0   \n",
      "111616         5128      1365  0.882044  MC_singlenuc86_b1_Tk47_073020     0   \n",
      "111617         5128      1389  0.925216  MC_singlenuc86_b1_Tk47_073020     0   \n",
      "111618         5128      1394  0.907477  MC_singlenuc86_b1_Tk47_073020     0   \n",
      "\n",
      "        InBounds  track_length  err  \\\n",
      "111614       NaN           NaN  0.0   \n",
      "111615       NaN           NaN  0.0   \n",
      "111616       NaN           NaN  0.0   \n",
      "111617       NaN           NaN  0.0   \n",
      "111618       NaN           NaN  0.0   \n",
      "\n",
      "                                                      uid  \n",
      "111614  MC_singlenuc86_b1_Tk47_073020__0002_vid__5128_...  \n",
      "111615  MC_singlenuc86_b1_Tk47_073020__0002_vid__5128_...  \n",
      "111616  MC_singlenuc86_b1_Tk47_073020__0002_vid__5128_...  \n",
      "111617  MC_singlenuc86_b1_Tk47_073020__0002_vid__5128_...  \n",
      "111618  MC_singlenuc86_b1_Tk47_073020__0002_vid__5128_...  \n",
      "\n",
      "[5 rows x 25 columns]\n"
     ]
    },
    {
     "name": "stderr",
     "output_type": "stream",
     "text": [
      "C:\\Users\\kaiwi\\AppData\\Local\\Temp\\ipykernel_14192\\2376173457.py:3: DtypeWarning: Columns (21) have mixed types. Specify dtype option on import or set low_memory=False.\n",
      "  yolo_csv = pd.read_csv('Result_2_1.csv')\n"
     ]
    }
   ],
   "source": [
    "# Read Files\n",
    "annotation_csv = pd.read_csv('Result_2_0.csv')\n",
    "yolo_csv = pd.read_csv('Result_2_1.csv')\n",
    "\n",
    "# Check Files\n",
    "print(annotation_csv.tail())\n",
    "print(yolo_csv.tail())"
   ]
  },
  {
   "cell_type": "code",
   "execution_count": 3,
   "id": "63fa2655",
   "metadata": {},
   "outputs": [
    {
     "name": "stdout",
     "output_type": "stream",
     "text": [
      "        true_labels                                                uid\n",
      "111614            1  MC_singlenuc96_b1_Tk41_081120__0001_vid__9350__64\n",
      "111615            1  MC_singlenuc96_b1_Tk41_081120__0001_vid__9350__66\n",
      "111616            1   MC_singlenuc96_b1_Tk41_081120__0001_vid__9350__7\n",
      "111617            1  MC_singlenuc96_b1_Tk41_081120__0001_vid__9350__79\n",
      "111618            1  MC_singlenuc96_b1_Tk41_081120__0001_vid__9350__83\n"
     ]
    }
   ],
   "source": [
    "# Create Better Col Names\n",
    "annotation_csv = annotation_csv.rename(columns={'val_labels': 'true_labels'})\n",
    "annotation_csv = annotation_csv.rename(columns={'val_predictions': 'result_2_0_prediction'})\n",
    "\n",
    "# Remove Unwanted Cols\n",
    "annotation_csv.drop('result_2_0_prediction', inplace=True, axis=1) \n",
    "annotation_csv.drop('val_paths', inplace=True, axis=1) \n",
    "annotation_csv.drop('trial', inplace=True, axis=1) \n",
    "annotation_csv.drop('base_name', inplace=True, axis=1) \n",
    "annotation_csv.drop('track_id', inplace=True, axis=1) \n",
    "annotation_csv.drop('frame', inplace=True, axis=1) \n",
    "annotation_csv.drop('err', inplace=True, axis=1) \n",
    "annotation_csv.drop('sex', inplace=True, axis=1) \n",
    "annotation_csv.drop('val_acc', inplace=True, axis=1) \n",
    "annotation_csv = annotation_csv.loc[:, ~annotation_csv.columns.str.contains('^Unnamed')]\n",
    "\n",
    "# Check Updates\n",
    "print(annotation_csv.tail())"
   ]
  },
  {
   "cell_type": "code",
   "execution_count": 4,
   "id": "15a8d0bf",
   "metadata": {},
   "outputs": [
    {
     "name": "stdout",
     "output_type": "stream",
     "text": [
      "              xc        yc  yolo_label_prediction     u_dot     v_dot  \\\n",
      "111614  0.229628  0.479246                    0.0  0.253403 -1.862108   \n",
      "111615  0.331459  0.426181                    0.0  4.136577 -0.448796   \n",
      "111616  0.230906  0.683723                    0.0 -2.758252  8.205466   \n",
      "111617  0.184423  0.541897                    0.0 -4.437889 -5.116410   \n",
      "111618  0.174173  0.534163                    0.0 -3.673923 -3.649581   \n",
      "\n",
      "            s_dot  a2_frame                                                uid  \n",
      "111614 -28.052752      1318  MC_singlenuc86_b1_Tk47_073020__0002_vid__5128_...  \n",
      "111615 -46.965982      1341  MC_singlenuc86_b1_Tk47_073020__0002_vid__5128_...  \n",
      "111616   9.487081      1365  MC_singlenuc86_b1_Tk47_073020__0002_vid__5128_...  \n",
      "111617  37.912490      1389  MC_singlenuc86_b1_Tk47_073020__0002_vid__5128_...  \n",
      "111618  43.385125      1394  MC_singlenuc86_b1_Tk47_073020__0002_vid__5128_...  \n"
     ]
    }
   ],
   "source": [
    "# Create Better Col Names\n",
    "yolo_csv = yolo_csv.rename(columns={'class_id': 'yolo_label_prediction'})\n",
    "\n",
    "# Remove Unwanted Cols\n",
    "yolo_csv.drop('InBounds', inplace=True, axis=1) \n",
    "yolo_csv.drop('trial', inplace=True, axis=1) \n",
    "yolo_csv.drop('base_name', inplace=True, axis=1) \n",
    "yolo_csv.drop('track_id', inplace=True, axis=1)\n",
    "yolo_csv.drop('frame', inplace=True, axis=1)\n",
    "yolo_csv.drop('track_length', inplace=True, axis=1)\n",
    "yolo_csv.drop('err', inplace=True, axis=1)\n",
    "yolo_csv.drop('w', inplace=True, axis=1)\n",
    "yolo_csv.drop('h', inplace=True, axis=1)\n",
    "yolo_csv.drop('a2_base_name', inplace=True, axis=1)\n",
    "yolo_csv.drop('a2_track_id', inplace=True, axis=1)\n",
    "yolo_csv.drop('p_value', inplace=True, axis=1)\n",
    "yolo_csv.drop('iou', inplace=True, axis=1)\n",
    "yolo_csv.drop('label', inplace=True, axis=1)\n",
    "yolo_csv = yolo_csv.loc[:, ~yolo_csv.columns.str.contains('^Unnamed')]\n",
    "\n",
    "# Check Updates\n",
    "print(yolo_csv.tail())"
   ]
  },
  {
   "cell_type": "code",
   "execution_count": 5,
   "id": "2f59c9bf",
   "metadata": {},
   "outputs": [
    {
     "name": "stdout",
     "output_type": "stream",
     "text": [
      "        true_labels                                                uid  \\\n",
      "111614            1  MC_singlenuc96_b1_Tk41_081120__0001_vid__9350__64   \n",
      "111615            1  MC_singlenuc96_b1_Tk41_081120__0001_vid__9350__66   \n",
      "111616            1   MC_singlenuc96_b1_Tk41_081120__0001_vid__9350__7   \n",
      "111617            1  MC_singlenuc96_b1_Tk41_081120__0001_vid__9350__79   \n",
      "111618            1  MC_singlenuc96_b1_Tk41_081120__0001_vid__9350__83   \n",
      "\n",
      "              xc        yc  yolo_label_prediction     u_dot      v_dot  \\\n",
      "111614  0.051433  0.458018                    0.0 -2.655020  10.591085   \n",
      "111615  0.048073  0.486484                    0.0 -2.566140  11.108756   \n",
      "111616  0.248775  0.055500                    0.0  2.596401   3.663221   \n",
      "111617  0.063819  0.602525                    0.0  0.374114   9.008227   \n",
      "111618  0.068937  0.615685                    0.0  0.780527   7.137074   \n",
      "\n",
      "             s_dot  a2_frame                                             id  \n",
      "111614  114.385718        64  MC_singlenuc96_b1_Tk41_081120__0001_vid__9350  \n",
      "111615  119.446086        66  MC_singlenuc96_b1_Tk41_081120__0001_vid__9350  \n",
      "111616  686.978477         7  MC_singlenuc96_b1_Tk41_081120__0001_vid__9350  \n",
      "111617  142.880943        79  MC_singlenuc96_b1_Tk41_081120__0001_vid__9350  \n",
      "111618  160.668479        83  MC_singlenuc96_b1_Tk41_081120__0001_vid__9350  \n"
     ]
    }
   ],
   "source": [
    "# Combine Information from Both\n",
    "merged_frame_df = pd.merge(annotation_csv, yolo_csv, on='uid')\n",
    "merged_frame_df['id'] = merged_frame_df['uid'].str.rsplit('__', n=1).str[0]\n",
    "print(merged_frame_df.tail())"
   ]
  },
  {
   "cell_type": "code",
   "execution_count": 6,
   "id": "4f1a50f9",
   "metadata": {},
   "outputs": [
    {
     "name": "stdout",
     "output_type": "stream",
     "text": [
      "                                                id  true_labels\n",
      "0     MC_singlenuc23_1_Tk33_021220__0001_vid__1330            0\n",
      "1     MC_singlenuc23_1_Tk33_021220__0001_vid__1573            0\n",
      "2     MC_singlenuc23_1_Tk33_021220__0001_vid__1640            0\n",
      "3     MC_singlenuc23_1_Tk33_021220__0001_vid__1748            0\n",
      "4     MC_singlenuc23_1_Tk33_021220__0001_vid__2085            0\n",
      "..                                             ...          ...\n",
      "666  MC_singlenuc96_b1_Tk41_081120__0001_vid__8792            1\n",
      "667  MC_singlenuc96_b1_Tk41_081120__0001_vid__8893            1\n",
      "668  MC_singlenuc96_b1_Tk41_081120__0001_vid__9161            0\n",
      "669  MC_singlenuc96_b1_Tk41_081120__0001_vid__9345            0\n",
      "670  MC_singlenuc96_b1_Tk41_081120__0001_vid__9350            1\n",
      "\n",
      "[671 rows x 2 columns]\n"
     ]
    }
   ],
   "source": [
    "track_ids_and_labels = merged_frame_df.groupby('id')['true_labels'].mean().round().astype(int).reset_index()\n",
    "print(track_ids_and_labels)"
   ]
  },
  {
   "cell_type": "markdown",
   "id": "ecd17b5f",
   "metadata": {},
   "source": [
    "### 2. Create Features"
   ]
  },
  {
   "cell_type": "code",
   "execution_count": 7,
   "id": "9aaf1de6",
   "metadata": {},
   "outputs": [],
   "source": [
    "# Engineered Features\n",
    "def calculate_speed(df):\n",
    "    df['speed'] = np.sqrt(df['u_dot']**2 + df['v_dot']**2)\n",
    "    return df\n",
    "\n",
    "def calculate_outreach_ratio(df):\n",
    "    start_x, start_y = df.iloc[0][['xc', 'yc']]\n",
    "    end_x, end_y = df.iloc[-1][['xc', 'yc']]\n",
    "    displacement = np.sqrt((end_x - start_x)**2 + (end_y - start_y)**2)\n",
    "    path_length = df['speed'].sum()\n",
    "    outreach_ratio = displacement / path_length if path_length != 0 else 0\n",
    "    return outreach_ratio\n",
    "\n",
    "def calculate_acceleration(u_dot, v_dot, time_intervals):\n",
    "    u_dot = np.array(u_dot)\n",
    "    v_dot = np.array(v_dot)\n",
    "    time_intervals = np.array(time_intervals)\n",
    "    ax = np.diff(u_dot) / time_intervals[:-1]\n",
    "    ay = np.diff(v_dot) / time_intervals[:-1]\n",
    "    acceleration = np.sqrt(ax**2 + ay**2)\n",
    "    return ax, ay, acceleration\n",
    "\n",
    "def calculate_distance_traveled(xc, yc):\n",
    "    xc = np.array(xc)\n",
    "    yc = np.array(yc)\n",
    "    dx = np.diff(xc)\n",
    "    dy = np.diff(yc)\n",
    "    distances = np.sqrt(dx**2 + dy**2)\n",
    "    distance_traveled = np.sum(distances)\n",
    "    return distance_traveled"
   ]
  },
  {
   "cell_type": "code",
   "execution_count": 8,
   "id": "3eb37ba8",
   "metadata": {},
   "outputs": [
    {
     "name": "stdout",
     "output_type": "stream",
     "text": [
      "                                             id     speed  outreach_ratio  \\\n",
      "0  MC_singlenuc23_1_Tk33_021220__0001_vid__1330  2.629201        0.000774   \n",
      "1  MC_singlenuc23_1_Tk33_021220__0001_vid__1573  2.368859        0.000168   \n",
      "2  MC_singlenuc23_1_Tk33_021220__0001_vid__1640  3.038746        0.000164   \n",
      "3  MC_singlenuc23_1_Tk33_021220__0001_vid__1748  3.170401        0.000589   \n",
      "4  MC_singlenuc23_1_Tk33_021220__0001_vid__2085  2.747095        0.000067   \n",
      "\n",
      "   mean_acceleration  distance_traveled  \n",
      "0           0.321134          10.380106  \n",
      "1           0.315716          12.741503  \n",
      "2           0.315944           9.245376  \n",
      "3           0.342582           5.632904  \n",
      "4           0.313087           7.357855  \n"
     ]
    }
   ],
   "source": [
    "# Create Features from TrackID\n",
    "features = []\n",
    "grouped = merged_frame_df.groupby('id')\n",
    "\n",
    "for track_id, group in grouped:\n",
    "    group = group.sort_values(by='a2_frame')\n",
    "    speed = calculate_speed(group)['speed'].mean()\n",
    "    outreach_ratio = calculate_outreach_ratio(group)\n",
    "    time_intervals = group['a2_frame'].diff().fillna(1).values  # Assume frame difference as time interval\n",
    "    ax, ay, acceleration = calculate_acceleration(group['u_dot'], group['v_dot'], time_intervals)\n",
    "    mean_acceleration = np.mean(acceleration)\n",
    "    distance_traveled = calculate_distance_traveled(group['xc'], group['yc'])\n",
    "    features.append({\n",
    "        'id': track_id,\n",
    "        'speed': speed,\n",
    "        'outreach_ratio': outreach_ratio,\n",
    "        'mean_acceleration': mean_acceleration,\n",
    "        'distance_traveled': distance_traveled\n",
    "    })\n",
    "\n",
    "engineered_trackid_features = pd.DataFrame(features)\n",
    "print(engineered_trackid_features.head())"
   ]
  },
  {
   "cell_type": "code",
   "execution_count": 9,
   "id": "da8164d4",
   "metadata": {},
   "outputs": [],
   "source": [
    "# Imports\n",
    "import joblib"
   ]
  },
  {
   "cell_type": "code",
   "execution_count": 10,
   "id": "19b2c9d5",
   "metadata": {},
   "outputs": [],
   "source": [
    "# Load Object\n",
    "gm = joblib.load('gaussian_mixture_model_good_run.pkl')\n",
    "with open('labels_good_run.pkl', 'rb') as f:\n",
    "    labels = joblib.load(f)"
   ]
  },
  {
   "cell_type": "code",
   "execution_count": 11,
   "id": "eac6258b",
   "metadata": {},
   "outputs": [],
   "source": [
    "# Remove Track ID and Cluster\n",
    "features_df_no_track_id = engineered_trackid_features.drop('id', axis=1)\n",
    "predicted_clusters = gm.predict(features_df_no_track_id)"
   ]
  },
  {
   "cell_type": "code",
   "execution_count": 12,
   "id": "78174d32",
   "metadata": {},
   "outputs": [
    {
     "name": "stdout",
     "output_type": "stream",
     "text": [
      "                                                id     speed  outreach_ratio  \\\n",
      "0     MC_singlenuc23_1_Tk33_021220__0001_vid__1330  2.629201        0.000774   \n",
      "1     MC_singlenuc23_1_Tk33_021220__0001_vid__1573  2.368859        0.000168   \n",
      "2     MC_singlenuc23_1_Tk33_021220__0001_vid__1640  3.038746        0.000164   \n",
      "3     MC_singlenuc23_1_Tk33_021220__0001_vid__1748  3.170401        0.000589   \n",
      "4     MC_singlenuc23_1_Tk33_021220__0001_vid__2085  2.747095        0.000067   \n",
      "..                                             ...       ...             ...   \n",
      "666  MC_singlenuc96_b1_Tk41_081120__0001_vid__8792  7.954274        0.001561   \n",
      "667  MC_singlenuc96_b1_Tk41_081120__0001_vid__8893  4.272279        0.001600   \n",
      "668  MC_singlenuc96_b1_Tk41_081120__0001_vid__9161  1.160454        0.000772   \n",
      "669  MC_singlenuc96_b1_Tk41_081120__0001_vid__9345  2.647480        0.001297   \n",
      "670  MC_singlenuc96_b1_Tk41_081120__0001_vid__9350  6.040704        0.000589   \n",
      "\n",
      "     mean_acceleration  distance_traveled  cluster  \n",
      "0             0.321134          10.380106        3  \n",
      "1             0.315716          12.741503        3  \n",
      "2             0.315944           9.245376        6  \n",
      "3             0.342582           5.632904        3  \n",
      "4             0.313087           7.357855        3  \n",
      "..                 ...                ...      ...  \n",
      "666           0.933643           3.286765        3  \n",
      "667           0.716699           1.137081        3  \n",
      "668           0.131256           3.930832        6  \n",
      "669           0.260918           3.825485        6  \n",
      "670           0.753786           1.550492        3  \n",
      "\n",
      "[671 rows x 6 columns]\n"
     ]
    }
   ],
   "source": [
    "# Add to DF\n",
    "engineered_trackid_features = engineered_trackid_features.assign(cluster=predicted_clusters)\n",
    "print(engineered_trackid_features)"
   ]
  },
  {
   "cell_type": "code",
   "execution_count": 13,
   "id": "c823abd2",
   "metadata": {},
   "outputs": [
    {
     "name": "stdout",
     "output_type": "stream",
     "text": [
      "                                                id  true_labels     speed  \\\n",
      "0     MC_singlenuc23_1_Tk33_021220__0001_vid__1330            0  2.629201   \n",
      "1     MC_singlenuc23_1_Tk33_021220__0001_vid__1573            0  2.368859   \n",
      "2     MC_singlenuc23_1_Tk33_021220__0001_vid__1640            0  3.038746   \n",
      "3     MC_singlenuc23_1_Tk33_021220__0001_vid__1748            0  3.170401   \n",
      "4     MC_singlenuc23_1_Tk33_021220__0001_vid__2085            0  2.747095   \n",
      "..                                             ...          ...       ...   \n",
      "666  MC_singlenuc96_b1_Tk41_081120__0001_vid__8792            1  7.954274   \n",
      "667  MC_singlenuc96_b1_Tk41_081120__0001_vid__8893            1  4.272279   \n",
      "668  MC_singlenuc96_b1_Tk41_081120__0001_vid__9161            0  1.160454   \n",
      "669  MC_singlenuc96_b1_Tk41_081120__0001_vid__9345            0  2.647480   \n",
      "670  MC_singlenuc96_b1_Tk41_081120__0001_vid__9350            1  6.040704   \n",
      "\n",
      "     outreach_ratio  mean_acceleration  distance_traveled  cluster  \n",
      "0          0.000774           0.321134          10.380106        3  \n",
      "1          0.000168           0.315716          12.741503        3  \n",
      "2          0.000164           0.315944           9.245376        6  \n",
      "3          0.000589           0.342582           5.632904        3  \n",
      "4          0.000067           0.313087           7.357855        3  \n",
      "..              ...                ...                ...      ...  \n",
      "666        0.001561           0.933643           3.286765        3  \n",
      "667        0.001600           0.716699           1.137081        3  \n",
      "668        0.000772           0.131256           3.930832        6  \n",
      "669        0.001297           0.260918           3.825485        6  \n",
      "670        0.000589           0.753786           1.550492        3  \n",
      "\n",
      "[671 rows x 7 columns]\n"
     ]
    }
   ],
   "source": [
    "# Create DF with All Data\n",
    "all_data = pd.merge(track_ids_and_labels, engineered_trackid_features, on='id')\n",
    "print(all_data)"
   ]
  },
  {
   "cell_type": "markdown",
   "id": "b82696d8",
   "metadata": {},
   "source": [
    "### 3. Save Data"
   ]
  },
  {
   "cell_type": "code",
   "execution_count": 14,
   "id": "c43f7b5e",
   "metadata": {},
   "outputs": [],
   "source": [
    "# all_data.to_csv('all_data_NO_DR.csv', index=False)"
   ]
  },
  {
   "cell_type": "markdown",
   "id": "760ef646",
   "metadata": {},
   "source": [
    "### 4. Test Dataset"
   ]
  },
  {
   "cell_type": "code",
   "execution_count": 15,
   "id": "accf10d3",
   "metadata": {},
   "outputs": [],
   "source": [
    "# Imports\n",
    "from sklearn.model_selection import train_test_split\n",
    "from sklearn.tree import DecisionTreeClassifier\n",
    "from sklearn.metrics import accuracy_score, f1_score, make_scorer\n",
    "from sklearn.model_selection import learning_curve, validation_curve, cross_val_score"
   ]
  },
  {
   "cell_type": "code",
   "execution_count": 16,
   "id": "541b6a95",
   "metadata": {},
   "outputs": [
    {
     "name": "stdout",
     "output_type": "stream",
     "text": [
      "(671, 5)\n",
      "(671,)\n"
     ]
    }
   ],
   "source": [
    "X_test = all_data.drop('true_labels', axis=1)\n",
    "X_test = X_test.drop('id', axis=1)\n",
    "y_test = all_data['true_labels']\n",
    "print(X_test.shape)\n",
    "print(y_test.shape)"
   ]
  },
  {
   "cell_type": "code",
   "execution_count": 17,
   "id": "087b8c2a",
   "metadata": {},
   "outputs": [
    {
     "name": "stdout",
     "output_type": "stream",
     "text": [
      "Test Accuracy on Tuned: 63.64%\n"
     ]
    }
   ],
   "source": [
    "# Use Sklearn\n",
    "loaded_classifier = joblib.load('decision_tree_classifier.pkl')\n",
    "\n",
    "# Test\n",
    "y_pred = loaded_classifier.predict(X_test)\n",
    "accuracy = accuracy_score(y_test, y_pred)\n",
    "print(f\"Test Accuracy on Tuned: {accuracy*100:.2f}%\")"
   ]
  }
 ],
 "metadata": {
  "kernelspec": {
   "display_name": "Python 3 (ipykernel)",
   "language": "python",
   "name": "python3"
  },
  "language_info": {
   "codemirror_mode": {
    "name": "ipython",
    "version": 3
   },
   "file_extension": ".py",
   "mimetype": "text/x-python",
   "name": "python",
   "nbconvert_exporter": "python",
   "pygments_lexer": "ipython3",
   "version": "3.11.5"
  }
 },
 "nbformat": 4,
 "nbformat_minor": 5
}
