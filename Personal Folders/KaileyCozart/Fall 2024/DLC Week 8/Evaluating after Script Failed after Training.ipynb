{
 "cells": [
  {
   "cell_type": "code",
   "execution_count": 1,
   "id": "8ec1a6b4",
   "metadata": {},
   "outputs": [
    {
     "name": "stdout",
     "output_type": "stream",
     "text": [
      "{'Task': 'dlc_model', 'scorer': 'student', 'date': 'Jul26', 'multianimalproject': True, 'identity': False, 'engine': 'pytorch', 'project_path': '/storage/ice1/0/3/kcozart6/dlc_model-student-2023-07-26', 'video_sets': {'/home/hice1/tnguyen868/scratch/dlc_dataset/dlc_test1/dlc_model-student-2023-07-26/labeled-data/MC_singlenuc23_1_Tk33_021220_0004_vid': {'crop': '0, 1296, 0, 972'}, '/home/hice1/tnguyen868/scratch/dlc_dataset/dlc_test1/dlc_model-student-2023-07-26/labeled-data/MC_singlenuc23_8_Tk33_031720_0001_vid': {'crop': '0, 1296, 0, 972'}, '/home/hice1/tnguyen868/scratch/dlc_dataset/dlc_test1/dlc_model-student-2023-07-26/labeled-data/MC_singlenuc26_2_Tk63_022520_0001_vid': {'crop': '0, 1296, 0, 972'}, '/home/hice1/tnguyen868/scratch/dlc_dataset/dlc_test1/dlc_model-student-2023-07-26/labeled-data/MC_singlenuc28_1_Tk3_022520_0004_vid': {'crop': '0, 1296, 0, 972'}, '/home/hice1/tnguyen868/scratch/dlc_dataset/dlc_test1/dlc_model-student-2023-07-26/labeled-data/MC_singlenuc29_3_Tk9_030320_0001_vid': {'crop': '0, 1296, 0, 972'}, '/home/hice1/tnguyen868/scratch/dlc_dataset/dlc_test1/dlc_model-student-2023-07-26/labeled-data/MC_singlenuc32_5_Tk65_030920_0002_vid': {'crop': '0, 1296, 0, 972'}, '/home/hice1/tnguyen868/scratch/dlc_dataset/dlc_test1/dlc_model-student-2023-07-26/labeled-data/MC_singlenuc34_3_Tk43_030320_0001_vid': {'crop': '0, 1296, 0, 972'}, '/home/hice1/tnguyen868/scratch/dlc_dataset/dlc_test1/dlc_model-student-2023-07-26/labeled-data/MC_singlenuc35_11_Tk61_051220_0002_vid': {'crop': '0, 1296, 0, 972'}, '/home/hice1/tnguyen868/scratch/dlc_dataset/dlc_test1/dlc_model-student-2023-07-26/labeled-data/MC_singlenuc36_2_Tk3_030320_0001_vid': {'crop': '0, 1296, 0, 972'}, '/home/hice1/tnguyen868/scratch/dlc_dataset/dlc_test1/dlc_model-student-2023-07-26/labeled-data/MC_singlenuc37_2_Tk17_030320_0001_vid': {'crop': '0, 1296, 0, 972'}, '/home/hice1/tnguyen868/scratch/dlc_dataset/dlc_test1/dlc_model-student-2023-07-26/labeled-data/MC_singlenuc40_2_Tk3_030920_0002_vid': {'crop': '0, 1296, 0, 972'}, '/home/hice1/tnguyen868/scratch/dlc_dataset/dlc_test1/dlc_model-student-2023-07-26/labeled-data/MC_singlenuc41_2_Tk9_030920_0001_vid': {'crop': '0, 1296, 0, 972'}, '/home/hice1/tnguyen868/scratch/dlc_dataset/dlc_test1/dlc_model-student-2023-07-26/labeled-data/MC_singlenuc43_11_Tk41_060220_0001_vid': {'crop': '0, 1296, 0, 972'}, '/home/hice1/tnguyen868/scratch/dlc_dataset/dlc_test1/dlc_model-student-2023-07-26/labeled-data/MC_singlenuc44_7_Tk65_050720_0002_vid': {'crop': '0, 1296, 0, 972'}, '/home/hice1/tnguyen868/scratch/dlc_dataset/dlc_test1/dlc_model-student-2023-07-26/labeled-data/MC_singlenuc45_7_Tk47_050720_0002_vid': {'crop': '0, 1296, 0, 972'}, '/home/hice1/tnguyen868/scratch/dlc_dataset/dlc_test1/dlc_model-student-2023-07-26/labeled-data/MC_singlenuc55_2_Tk47_051220_0002_vid': {'crop': '0, 1296, 0, 972'}, '/home/hice1/tnguyen868/scratch/dlc_dataset/dlc_test1/dlc_model-student-2023-07-26/labeled-data/MC_singlenuc56_2_Tk65_051220_0002_vid': {'crop': '0, 1296, 0, 972'}, '/home/hice1/tnguyen868/scratch/dlc_dataset/dlc_test1/dlc_model-student-2023-07-26/labeled-data/MC_singlenuc59_4_Tk61_060220_0001_vid': {'crop': '0, 1296, 0, 972'}, '/home/hice1/tnguyen868/scratch/dlc_dataset/dlc_test1/dlc_model-student-2023-07-26/labeled-data/MC_singlenuc62_3_Tk65_060220_0001_vid': {'crop': '0, 1296, 0, 972'}, '/home/hice1/tnguyen868/scratch/dlc_dataset/dlc_test1/dlc_model-student-2023-07-26/labeled-data/MC_singlenuc63_1_Tk9_060220_0001_vid': {'crop': '0, 1296, 0, 972'}, '/home/hice1/tnguyen868/scratch/dlc_dataset/dlc_test1/dlc_model-student-2023-07-26/labeled-data/MC_singlenuc64_1_Tk51_060220_0002_vid': {'crop': '0, 1296, 0, 972'}, '/home/hice1/tnguyen868/scratch/dlc_dataset/dlc_test1/dlc_model-student-2023-07-26/labeled-data/MC_singlenuc65_4_Tk9_072920_0002_vid': {'crop': '0, 1296, 0, 972'}, '/home/hice1/tnguyen868/scratch/dlc_dataset/dlc_test1/dlc_model-student-2023-07-26/labeled-data/MC_singlenuc76_3_Tk47_072920_0002_vid': {'crop': '0, 1296, 0, 972'}, '/home/hice1/tnguyen868/scratch/dlc_dataset/dlc_test1/dlc_model-student-2023-07-26/labeled-data/MC_singlenuc80_1_Tk41_072920_0002_vid': {'crop': '0, 1296, 0, 972'}, '/home/hice1/tnguyen868/scratch/dlc_dataset/dlc_test1/dlc_model-student-2023-07-26/labeled-data/MC_singlenuc81_1_Tk51_072920_0002_vid': {'crop': '0, 1296, 0, 972'}, '/home/hice1/tnguyen868/scratch/dlc_dataset/dlc_test1/dlc_model-student-2023-07-26/labeled-data/MC_singlenuc82_b2_Tk63_073020_0002_vid': {'crop': '0, 1296, 0, 972'}, '/home/hice1/tnguyen868/scratch/dlc_dataset/dlc_test1/dlc_model-student-2023-07-26/labeled-data/MC_singlenuc86_b1_Tk47_073020_0002_vid': {'crop': '0, 1296, 0, 972'}, '/home/hice1/tnguyen868/scratch/dlc_dataset/dlc_test1/dlc_model-student-2023-07-26/labeled-data/MC_singlenuc90_b1_Tk3_081120_0001_vid': {'crop': '0, 1296, 0, 972'}, '/home/hice1/tnguyen868/scratch/dlc_dataset/dlc_test1/dlc_model-student-2023-07-26/labeled-data/MC_singlenuc91_b1_Tk9_081120_0001_vid': {'crop': '0, 1296, 0, 972'}, '/home/hice1/tnguyen868/scratch/dlc_dataset/dlc_test1/dlc_model-student-2023-07-26/labeled-data/MC_singlenuc94_b1_Tk31_081120_0001_vid': {'crop': '0, 1296, 0, 972'}, '/home/hice1/tnguyen868/scratch/dlc_dataset/dlc_test1/dlc_model-student-2023-07-26/labeled-data/MC_singlenuc96_b1_Tk41_081120_0001_vid': {'crop': '0, 1296, 0, 972'}}, 'individuals': ['fish1', 'fish2', 'fish3', 'fish4', 'fish5', 'fish6', 'fish7', 'fish8', 'fish9', 'fish10'], 'uniquebodyparts': [], 'multianimalbodyparts': ['nose', 'lefteye', 'righteye', 'spine1', 'spine2', 'spine3', 'backfin', 'leftfin', 'rightfin'], 'bodyparts': [], 'start': 0, 'stop': 1, 'numframes2pick': 75, 'skeleton': [['nose', 'spine1'], ['spine1', 'spine2'], ['spine2', 'spine3'], ['spine3', 'backfin'], ['spine2', 'leftfin'], ['spine2', 'rightfin']], 'skeleton_color': 'cyan', 'pcutoff': 0.01, 'dotsize': 3, 'alphavalue': 0.7, 'colormap': 'spring', 'TrainingFraction': [0.95], 'iteration': 0, 'default_net_type': 'resnet_50', 'default_augmenter': None, 'default_track_method': None, 'snapshotindex': -1, 'batch_size': 16, 'cropping': None, 'x1': None, 'x2': None, 'y1': None, 'y2': None, 'corner2move2': None, 'move2corner': None}\n"
     ]
    }
   ],
   "source": [
    "import yaml\n",
    "\n",
    "# Path to your config file\n",
    "config_path = \"/home/hice1/kcozart6/scratch/dlc_model-student-2023-07-26/config.yaml\"\n",
    "\n",
    "# Load the YAML config file\n",
    "with open(config_path, 'r') as file:\n",
    "    config_data = yaml.safe_load(file)\n",
    "\n",
    "# Print the configuration for reference\n",
    "print(config_data)"
   ]
  },
  {
   "cell_type": "code",
   "execution_count": 2,
   "id": "ea5110c6",
   "metadata": {},
   "outputs": [
    {
     "name": "stdout",
     "output_type": "stream",
     "text": [
      "{'all_joints': [[0], [1], [2], [3], [4], [5], [6], [7], [8]], 'all_joints_names': ['nose', 'lefteye', 'righteye', 'spine1', 'spine2', 'spine3', 'backfin', 'leftfin', 'rightfin'], 'alpha_r': 0.02, 'apply_prob': 0.5, 'batch_size': 16, 'contrast': {'clahe': True, 'claheratio': 0.1, 'histeq': True, 'histeqratio': 0.1}, 'convolution': {'edge': False, 'emboss': {'alpha': [0.0, 1.0], 'strength': [0.5, 1.5]}, 'embossratio': 0.1, 'sharpen': False, 'sharpenratio': 0.3}, 'crop_sampling': 'hybrid', 'crop_size': [400, 400], 'cropratio': 0.4, 'dataset': 'training-datasets/iteration-0/UnaugmentedDataSet_dlc_modelJul26/dlc_model_student95shuffle1.pickle', 'dataset_type': 'multi-animal-imgaug', 'decay_steps': 30000, 'display_iters': 500, 'engine': 'pytorch', 'epochs': 180, 'eval_interval': 300, 'global_scale': 0.8, 'init_weights': '/home/hice1/kcozart6/.conda/envs/DEEPLABCUT/lib/python3.10/site-packages/deeplabcut', 'intermediate_supervision': False, 'intermediate_supervision_layer': 12, 'location_refinement': True, 'locref_huber_loss': True, 'locref_loss_weight': 0.05, 'locref_stdev': 7.2801, 'lr_init': 0.0005, 'max_input_size': 1500, 'max_shift': 0.4, 'maxiters': 20000, 'metadataset': 'training-datasets/iteration-0/UnaugmentedDataSet_dlc_modelJul26/Documentation_data-dlc_model_95shuffle1.pickle', 'min_input_size': 64, 'mirror': False, 'multi_stage': False, 'multi_step': [[0.0001, 7500], [5e-05, 12000], [1e-05, 200000]], 'net_type': 'resnet_50', 'num_idchannel': 0, 'num_joints': 9, 'num_limbs': 36, 'optimizer': 'adam', 'pafwidth': 20, 'pairwise_huber_loss': False, 'pairwise_loss_weight': 0.1, 'pairwise_predict': False, 'partaffinityfield_graph': [[0, 1], [0, 2], [0, 3], [0, 4], [0, 5], [0, 6], [0, 7], [0, 8], [1, 2], [1, 3], [1, 4], [1, 5], [1, 6], [1, 7], [1, 8], [2, 3], [2, 4], [2, 5], [2, 6], [2, 7], [2, 8], [3, 4], [3, 5], [3, 6], [3, 7], [3, 8], [4, 5], [4, 6], [4, 7], [4, 8], [5, 6], [5, 7], [5, 8], [6, 7], [6, 8], [7, 8]], 'partaffinityfield_predict': True, 'pos_dist_thresh': 17, 'pre_resize': [], 'project_path': '/storage/ice1/0/3/kcozart6/dlc_model-student-2023-07-26', 'rotation': 25, 'rotratio': 0.4, 'save_iters': 15000, 'scale_jitter_lo': 0.5, 'scale_jitter_up': 1.25, 'weigh_only_present_joints': False}\n"
     ]
    }
   ],
   "source": [
    "pose_cfg_path = \"/home/hice1/kcozart6/scratch/dlc_model-student-2023-07-26/dlc-models-pytorch/iteration-0/dlc_modelJul26-trainset95shuffle1/train/pose_cfg.yaml\"\n",
    "\n",
    "# Load the YAML file\n",
    "with open(pose_cfg_path, 'r') as file:\n",
    "    pose_cfg = yaml.safe_load(file)\n",
    "\n",
    "# Print to check the contents\n",
    "print(pose_cfg)"
   ]
  },
  {
   "cell_type": "code",
   "execution_count": 5,
   "id": "af2fd5da",
   "metadata": {},
   "outputs": [],
   "source": [
    "import pandas as pd\n",
    "\n",
    "# Assuming logs are stored as CSVs or similar formats\n",
    "# log_path = \"/home/hice1/kcozart6/scratch/dlc_model-student-2023-07-26/dlc-models-pytorch/iteration-0/dlc_modelJul26-trainset95shuffle1/train/train_log.csv\"\n",
    "\n",
    "# Load the training log\n",
    "# train_log = pd.read_csv(log_path)\n",
    "\n",
    "# View the contents\n",
    "# print(train_log.head())"
   ]
  },
  {
   "cell_type": "code",
   "execution_count": 6,
   "id": "2b30ae6c",
   "metadata": {},
   "outputs": [
    {
     "name": "stdout",
     "output_type": "stream",
     "text": [
      "Loading DLC 3.0.0rc5...\n",
      "DLC loaded in light mode; you cannot use any GUI (labeling, relabeling and standalone GUI)\n",
      "Utilizing the following graph: [[0, 1], [0, 2], [0, 3], [0, 4], [0, 5], [0, 6], [0, 7], [0, 8], [1, 2], [1, 3], [1, 4], [1, 5], [1, 6], [1, 7], [1, 8], [2, 3], [2, 4], [2, 5], [2, 6], [2, 7], [2, 8], [3, 4], [3, 5], [3, 6], [3, 7], [3, 8], [4, 5], [4, 6], [4, 7], [4, 8], [5, 6], [5, 7], [5, 8], [6, 7], [6, 8], [7, 8]]\n",
      "Creating training data for: Shuffle: 10 TrainFraction:  0.95\n"
     ]
    },
    {
     "name": "stderr",
     "output_type": "stream",
     "text": [
      "100%|██████████| 1472/1472 [00:51<00:00, 28.50it/s]\n"
     ]
    },
    {
     "name": "stdout",
     "output_type": "stream",
     "text": [
      "The training dataset is successfully created. Use the function 'train_network' to start training. Happy training!\n"
     ]
    }
   ],
   "source": [
    "import deeplabcut\n",
    "\n",
    "# Use the same config file, but ensure to create only the test dataset\n",
    "deeplabcut.create_multianimaltraining_dataset(config_path, trainIndices=None)"
   ]
  },
  {
   "cell_type": "code",
   "execution_count": null,
   "id": "4eb872e3",
   "metadata": {},
   "outputs": [
    {
     "name": "stderr",
     "output_type": "stream",
     "text": [
      "/home/hice1/kcozart6/.conda/envs/DEEPLABCUT/lib/python3.10/site-packages/deeplabcut/pose_estimation_pytorch/runners/base.py:65: FutureWarning: You are using `torch.load` with `weights_only=False` (the current default value), which uses the default pickle module implicitly. It is possible to construct malicious pickle data which will execute arbitrary code during unpickling (See https://github.com/pytorch/pytorch/blob/main/SECURITY.md#untrusted-models for more details). In a future release, the default value for `weights_only` will be flipped to `True`. This limits the functions that could be executed during unpickling. Arbitrary objects will no longer be allowed to be loaded via this mode unless they are explicitly allowlisted by the user via `torch.serialization.add_safe_globals`. We recommend you start setting `weights_only=True` for any use case where you don't have full control of the loaded file. Please open an issue on GitHub for any issues related to this experimental feature.\n",
      "  snapshot = torch.load(snapshot_path, map_location=device)\n",
      "100%|██████████| 1472/1472 [52:05<00:00,  2.12s/it] \n",
      "100%|██████████| 78/78 [02:47<00:00,  2.15s/it]\n"
     ]
    },
    {
     "name": "stdout",
     "output_type": "stream",
     "text": [
      "Evaluation results for DLC_Resnet50_dlc_modelJul26shuffle1_snapshot_180-results.csv (pcutoff: 0.01):\n",
      "train rmse                        8.58\n",
      "train rmse_pcutoff                8.58\n",
      "train mAP                        79.33\n",
      "train mAR                        85.42\n",
      "train rmse_detections             9.14\n",
      "train rmse_detections_pcutoff     9.14\n",
      "test rmse                        12.58\n",
      "test rmse_pcutoff                12.58\n",
      "test mAP                         60.13\n",
      "test mAR                         69.07\n",
      "test rmse_detections             16.36\n",
      "test rmse_detections_pcutoff     16.36\n",
      "Name: (0.95, 1, 180, -1, 0.01), dtype: float64\n"
     ]
    }
   ],
   "source": [
    "deeplabcut.evaluate_network(config_path, plotting=True)  # Enable plotting to visualize performance"
   ]
  },
  {
   "cell_type": "code",
   "execution_count": null,
   "id": "d53ff627",
   "metadata": {},
   "outputs": [],
   "source": []
  }
 ],
 "metadata": {
  "kernelspec": {
   "display_name": "Python [conda env:.conda-DEEPLABCUT]",
   "language": "python",
   "name": "conda-env-.conda-DEEPLABCUT-py"
  },
  "language_info": {
   "codemirror_mode": {
    "name": "ipython",
    "version": 3
   },
   "file_extension": ".py",
   "mimetype": "text/x-python",
   "name": "python",
   "nbconvert_exporter": "python",
   "pygments_lexer": "ipython3",
   "version": "3.10.15"
  }
 },
 "nbformat": 4,
 "nbformat_minor": 5
}
