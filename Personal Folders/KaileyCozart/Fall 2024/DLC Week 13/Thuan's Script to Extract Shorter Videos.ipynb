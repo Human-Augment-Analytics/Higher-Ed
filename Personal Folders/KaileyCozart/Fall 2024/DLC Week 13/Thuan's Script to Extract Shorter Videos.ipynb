{
 "cells": [
  {
   "cell_type": "code",
   "execution_count": 3,
   "id": "6381f63a",
   "metadata": {},
   "outputs": [
    {
     "name": "stdout",
     "output_type": "stream",
     "text": [
      "Collecting moviepy\n",
      "  Downloading moviepy-1.0.3.tar.gz (388 kB)\n",
      "     ---------------------------------------- 0.0/388.3 kB ? eta -:--:--\n",
      "     - -------------------------------------- 10.2/388.3 kB ? eta -:--:--\n",
      "     -- ---------------------------------- 30.7/388.3 kB 330.3 kB/s eta 0:00:02\n",
      "     ----- ------------------------------- 61.4/388.3 kB 409.6 kB/s eta 0:00:01\n",
      "     ---------- ------------------------- 112.6/388.3 kB 595.3 kB/s eta 0:00:01\n",
      "     ------------- ---------------------- 143.4/388.3 kB 607.9 kB/s eta 0:00:01\n",
      "     -------------------- --------------- 225.3/388.3 kB 808.4 kB/s eta 0:00:01\n",
      "     ----------------------------- ------ 317.4/388.3 kB 984.6 kB/s eta 0:00:01\n",
      "     -------------------------------------- 388.3/388.3 kB 1.1 MB/s eta 0:00:00\n",
      "  Preparing metadata (setup.py): started\n",
      "  Preparing metadata (setup.py): finished with status 'done'\n",
      "Collecting decorator<5.0,>=4.0.2 (from moviepy)\n",
      "  Obtaining dependency information for decorator<5.0,>=4.0.2 from https://files.pythonhosted.org/packages/ed/1b/72a1821152d07cf1d8b6fce298aeb06a7eb90f4d6d41acec9861e7cc6df0/decorator-4.4.2-py2.py3-none-any.whl.metadata\n",
      "  Downloading decorator-4.4.2-py2.py3-none-any.whl.metadata (4.2 kB)\n",
      "Requirement already satisfied: tqdm<5.0,>=4.11.2 in c:\\users\\kaiwi\\anaconda3\\lib\\site-packages (from moviepy) (4.65.0)\n",
      "Requirement already satisfied: requests<3.0,>=2.8.1 in c:\\users\\kaiwi\\anaconda3\\lib\\site-packages (from moviepy) (2.31.0)\n",
      "Collecting proglog<=1.0.0 (from moviepy)\n",
      "  Obtaining dependency information for proglog<=1.0.0 from https://files.pythonhosted.org/packages/8b/f5/cab5cf6a540c31f5099043de0ae43990fd9cf66f75ecb5e9f254a4e4d4ee/proglog-0.1.10-py3-none-any.whl.metadata\n",
      "  Downloading proglog-0.1.10-py3-none-any.whl.metadata (639 bytes)\n",
      "Requirement already satisfied: numpy>=1.17.3 in c:\\users\\kaiwi\\anaconda3\\lib\\site-packages (from moviepy) (1.24.3)\n",
      "Requirement already satisfied: imageio<3.0,>=2.5 in c:\\users\\kaiwi\\anaconda3\\lib\\site-packages (from moviepy) (2.26.0)\n",
      "Collecting imageio_ffmpeg>=0.2.0 (from moviepy)\n",
      "  Obtaining dependency information for imageio_ffmpeg>=0.2.0 from https://files.pythonhosted.org/packages/a9/1c/1b9c72bf839def47626436ea5ebaf643404f7850482c5fafd71a3deeaa94/imageio_ffmpeg-0.5.1-py3-none-win_amd64.whl.metadata\n",
      "  Downloading imageio_ffmpeg-0.5.1-py3-none-win_amd64.whl.metadata (1.6 kB)\n",
      "Requirement already satisfied: pillow>=8.3.2 in c:\\users\\kaiwi\\anaconda3\\lib\\site-packages (from imageio<3.0,>=2.5->moviepy) (9.4.0)\n",
      "Requirement already satisfied: setuptools in c:\\users\\kaiwi\\anaconda3\\lib\\site-packages (from imageio_ffmpeg>=0.2.0->moviepy) (68.0.0)\n",
      "Requirement already satisfied: charset-normalizer<4,>=2 in c:\\users\\kaiwi\\anaconda3\\lib\\site-packages (from requests<3.0,>=2.8.1->moviepy) (2.0.4)\n",
      "Requirement already satisfied: idna<4,>=2.5 in c:\\users\\kaiwi\\anaconda3\\lib\\site-packages (from requests<3.0,>=2.8.1->moviepy) (3.4)\n",
      "Requirement already satisfied: urllib3<3,>=1.21.1 in c:\\users\\kaiwi\\anaconda3\\lib\\site-packages (from requests<3.0,>=2.8.1->moviepy) (1.26.16)\n",
      "Requirement already satisfied: certifi>=2017.4.17 in c:\\users\\kaiwi\\anaconda3\\lib\\site-packages (from requests<3.0,>=2.8.1->moviepy) (2023.7.22)\n",
      "Requirement already satisfied: colorama in c:\\users\\kaiwi\\anaconda3\\lib\\site-packages (from tqdm<5.0,>=4.11.2->moviepy) (0.4.6)\n",
      "Downloading decorator-4.4.2-py2.py3-none-any.whl (9.2 kB)\n",
      "Downloading imageio_ffmpeg-0.5.1-py3-none-win_amd64.whl (22.6 MB)\n",
      "   ---------------------------------------- 0.0/22.6 MB ? eta -:--:--\n",
      "   ---------------------------------------- 0.2/22.6 MB 7.4 MB/s eta 0:00:04\n",
      "   ---------------------------------------- 0.2/22.6 MB 7.4 MB/s eta 0:00:04\n",
      "    --------------------------------------- 0.5/22.6 MB 4.1 MB/s eta 0:00:06\n",
      "    --------------------------------------- 0.5/22.6 MB 4.1 MB/s eta 0:00:06\n",
      "   - -------------------------------------- 1.0/22.6 MB 4.2 MB/s eta 0:00:06\n",
      "   - -------------------------------------- 1.0/22.6 MB 3.7 MB/s eta 0:00:06\n",
      "   --- ------------------------------------ 1.9/22.6 MB 5.7 MB/s eta 0:00:04\n",
      "   --- ------------------------------------ 2.2/22.6 MB 5.7 MB/s eta 0:00:04\n",
      "   ------ --------------------------------- 3.6/22.6 MB 8.2 MB/s eta 0:00:03\n",
      "   -------- ------------------------------- 4.6/22.6 MB 9.5 MB/s eta 0:00:02\n",
      "   ---------- ----------------------------- 6.1/22.6 MB 11.1 MB/s eta 0:00:02\n",
      "   ------------- -------------------------- 7.8/22.6 MB 13.1 MB/s eta 0:00:02\n",
      "   ---------------- ----------------------- 9.4/22.6 MB 14.6 MB/s eta 0:00:01\n",
      "   ------------------- -------------------- 11.3/22.6 MB 25.2 MB/s eta 0:00:01\n",
      "   ----------------------- ---------------- 13.2/22.6 MB 32.7 MB/s eta 0:00:01\n",
      "   -------------------------- ------------- 15.2/22.6 MB 34.4 MB/s eta 0:00:01\n",
      "   ----------------------------- ---------- 16.5/22.6 MB 36.4 MB/s eta 0:00:01\n",
      "   -------------------------------- ------- 18.3/22.6 MB 38.6 MB/s eta 0:00:01\n",
      "   ----------------------------------- ---- 20.1/22.6 MB 38.6 MB/s eta 0:00:01\n",
      "   -------------------------------------- - 21.9/22.6 MB 38.5 MB/s eta 0:00:01\n",
      "   ---------------------------------------  22.6/22.6 MB 36.4 MB/s eta 0:00:01\n",
      "   ---------------------------------------- 22.6/22.6 MB 31.2 MB/s eta 0:00:00\n",
      "Downloading proglog-0.1.10-py3-none-any.whl (6.1 kB)\n",
      "Building wheels for collected packages: moviepy\n",
      "  Building wheel for moviepy (setup.py): started\n",
      "  Building wheel for moviepy (setup.py): finished with status 'done'\n",
      "  Created wheel for moviepy: filename=moviepy-1.0.3-py3-none-any.whl size=110773 sha256=e1b8d50b197f4e190e85eaff7cc7ce2f0ae5e13746f4401b76ad5aad7b8e0525\n",
      "  Stored in directory: c:\\users\\kaiwi\\appdata\\local\\pip\\cache\\wheels\\83\\b1\\d9\\119ef7c144b44d591ec0a9a140465133c23ea95d2a161184ba\n",
      "Successfully built moviepy\n",
      "Installing collected packages: imageio_ffmpeg, decorator, proglog, moviepy\n",
      "  Attempting uninstall: decorator\n",
      "    Found existing installation: decorator 5.1.1\n",
      "    Uninstalling decorator-5.1.1:\n",
      "      Successfully uninstalled decorator-5.1.1\n",
      "Successfully installed decorator-4.4.2 imageio_ffmpeg-0.5.1 moviepy-1.0.3 proglog-0.1.10\n"
     ]
    }
   ],
   "source": [
    "!pip install moviepy"
   ]
  },
  {
   "cell_type": "code",
   "execution_count": 6,
   "id": "066028ed",
   "metadata": {},
   "outputs": [
    {
     "name": "stdout",
     "output_type": "stream",
     "text": [
      "Moviepy - Running:\n",
      ">>> \"+ \" \".join(cmd)\n",
      "Moviepy - Command successful\n",
      "The first 60 seconds have been extracted and saved as 0001_vid_60secs_e.mp4\n"
     ]
    }
   ],
   "source": [
    "# moviepy is a versatile video editing library in Python, and this specific function allows us to extract subclips easily.\n",
    "from moviepy.video.io.ffmpeg_tools import ffmpeg_extract_subclip\n",
    "\n",
    "# Path to your original video file\n",
    "input_video = \"0001_vid.mp4\"\n",
    "\n",
    "# Path where the new video file (first 30 seconds) will be saved\n",
    "output_video = \"0001_vid_60secs_e.mp4\"\n",
    "\n",
    "# Define the start and end times (in seconds) for the video subclip.\n",
    "# Since we want the first 30 seconds, we set the start_time to 0 and the end_time to 30.\n",
    "start_time = 240  # Start at the beginning of the video\n",
    "end_time = 300  # End after 30 seconds\n",
    "\n",
    "# This function uses FFmpeg under the hood to extract the subclip from the video.\n",
    "# Parameters:\n",
    "# - input_video: Path to the original video file.\n",
    "# - start_time: Start time of the subclip in seconds.\n",
    "# - end_time: End time of the subclip in seconds.\n",
    "# - targetname: Path to save the extracted subclip.\n",
    "ffmpeg_extract_subclip(input_video, start_time, end_time, targetname=output_video)\n",
    "\n",
    "# Once the extraction is done, print a confirmation message with the output path\n",
    "print(f\"The first 60 seconds have been extracted and saved as {output_video}\")"
   ]
  }
 ],
 "metadata": {
  "kernelspec": {
   "display_name": "Python 3 (ipykernel)",
   "language": "python",
   "name": "python3"
  },
  "language_info": {
   "codemirror_mode": {
    "name": "ipython",
    "version": 3
   },
   "file_extension": ".py",
   "mimetype": "text/x-python",
   "name": "python",
   "nbconvert_exporter": "python",
   "pygments_lexer": "ipython3",
   "version": "3.11.5"
  }
 },
 "nbformat": 4,
 "nbformat_minor": 5
}
