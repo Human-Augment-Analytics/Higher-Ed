{
 "cells": [
  {
   "cell_type": "code",
   "execution_count": 10,
   "id": "3531be36",
   "metadata": {},
   "outputs": [],
   "source": [
    "import pandas as pd\n",
    "\n",
    "# Replace with the path to your H5 file\n",
    "h5_file = 'videos/0001_vid_60secs_eDLC_Resnet50_dlc_modelJul26shuffle1_snapshot_125_el.h5'\n",
    "csv_file = 'videos/0001_vid_60secs_eDLC_Resnet50_dlc_modelJul26shuffle1_snapshot_125_el.csv'\n",
    "\n",
    "# Load the H5 file and save as CSV\n",
    "data = pd.read_hdf(h5_file)\n",
    "data.to_csv(csv_file)"
   ]
  }
 ],
 "metadata": {
  "kernelspec": {
   "display_name": "Python [conda env:.conda-DEEPLABCUT]",
   "language": "python",
   "name": "conda-env-.conda-DEEPLABCUT-py"
  },
  "language_info": {
   "codemirror_mode": {
    "name": "ipython",
    "version": 3
   },
   "file_extension": ".py",
   "mimetype": "text/x-python",
   "name": "python",
   "nbconvert_exporter": "python",
   "pygments_lexer": "ipython3",
   "version": "3.10.15"
  }
 },
 "nbformat": 4,
 "nbformat_minor": 5
}
