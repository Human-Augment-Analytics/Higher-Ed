{
 "cells": [
  {
   "cell_type": "markdown",
   "id": "2cbb055f",
   "metadata": {},
   "source": [
    "### 1. Read Data"
   ]
  },
  {
   "cell_type": "code",
   "execution_count": 1,
   "id": "99941ac0",
   "metadata": {},
   "outputs": [
    {
     "name": "stdout",
     "output_type": "stream",
     "text": [
      "(1001966, 17)\n",
      "                experiment_name video_base_name  track_id  count_uncalibrated  \\\n",
      "0  MC_singlenuc23_1_Tk33_021220        0001_vid      1330                   0   \n",
      "1  MC_singlenuc23_1_Tk33_021220        0001_vid      1330                   1   \n",
      "2  MC_singlenuc23_1_Tk33_021220        0001_vid      1330                  10   \n",
      "3  MC_singlenuc23_1_Tk33_021220        0001_vid      1330                 100   \n",
      "4  MC_singlenuc23_1_Tk33_021220        0001_vid      1330                1000   \n",
      "\n",
      "   new_count_uncalibrated          xc          yc     u_dot      v_dot  \\\n",
      "0                  382058  117.405639  104.372970  6.973857  22.796302   \n",
      "1                  382059  123.302195  123.913192  6.585702  21.623125   \n",
      "2                  382068  111.683189  400.633206 -0.382109  28.731078   \n",
      "3                  382158  821.635502  527.801237  5.468046  -3.778739   \n",
      "4                  383058  883.833486  309.388663  2.265553   0.529649   \n",
      "\n",
      "         s_dot  class_id   p_value  track_length           w           h  \\\n",
      "0  4094.324244       0.0  0.951274          4209   90.968022  178.890712   \n",
      "1  4154.148577       0.0  0.948788          4209   97.082408  211.697543   \n",
      "2  1993.790100       0.0  0.971033          4209  116.128018  283.932432   \n",
      "3    82.335724       0.0  0.975735          4209  170.506534  138.563970   \n",
      "4    -4.429363       0.0  0.958767          4209   99.582545  202.605340   \n",
      "\n",
      "    frame  gender  \n",
      "0  382058       0  \n",
      "1  382059       0  \n",
      "2  382068       0  \n",
      "3  382158       0  \n",
      "4  383058       0  \n"
     ]
    }
   ],
   "source": [
    "# Imports\n",
    "import pandas as pd\n",
    "\n",
    "# Read in 2 Data Files and Combine, Mark as M/F\n",
    "female_data = pd.read_csv('../Data/file_list_female_parsed_with_data.csv')\n",
    "male_data = pd.read_csv('../Data/file_list_male_parsed_with_data.csv')\n",
    "female_data['gender'] = 0  # Female data is 0\n",
    "male_data['gender'] = 1    # Male data is 1\n",
    "combined_data = pd.concat([female_data, male_data], ignore_index=True)\n",
    "# combined_data.to_csv('combined_dataset.csv', index=False)\n",
    "print(combined_data.shape)\n",
    "print(combined_data.head())"
   ]
  },
  {
   "cell_type": "code",
   "execution_count": 2,
   "id": "1b6426fb",
   "metadata": {},
   "outputs": [
    {
     "name": "stdout",
     "output_type": "stream",
     "text": [
      "(1001966, 6)\n",
      "(985890, 6)\n",
      "Modified CSV Data: \n",
      "\n",
      "                 xc          yc     u_dot      v_dot   frame  \\\n",
      "0        117.405639  104.372970  6.973857  22.796302  382058   \n",
      "1        123.302195  123.913192  6.585702  21.623125  382059   \n",
      "2        111.683189  400.633206 -0.382109  28.731078  382068   \n",
      "3        821.635502  527.801237  5.468046  -3.778739  382158   \n",
      "4        883.833486  309.388663  2.265553   0.529649  383058   \n",
      "...             ...         ...       ...        ...     ...   \n",
      "1001961  156.276651  671.360475  4.437002   6.482767  537123   \n",
      "1001962  162.206921  672.395285  4.571728   5.991240  537124   \n",
      "1001963  170.841343  672.257588  4.938269   5.438280  537125   \n",
      "1001964  178.862178  673.323482  5.216379   5.043803  537126   \n",
      "1001965  187.945173  674.862680  5.565223   4.727619  537127   \n",
      "\n",
      "                                                    id  \n",
      "0         MC_singlenuc23_1_Tk33_021220__0001_vid__1330  \n",
      "1         MC_singlenuc23_1_Tk33_021220__0001_vid__1330  \n",
      "2         MC_singlenuc23_1_Tk33_021220__0001_vid__1330  \n",
      "3         MC_singlenuc23_1_Tk33_021220__0001_vid__1330  \n",
      "4         MC_singlenuc23_1_Tk33_021220__0001_vid__1330  \n",
      "...                                                ...  \n",
      "1001961  MC_singlenuc96_b1_Tk41_081120__0001_vid__9350  \n",
      "1001962  MC_singlenuc96_b1_Tk41_081120__0001_vid__9350  \n",
      "1001963  MC_singlenuc96_b1_Tk41_081120__0001_vid__9350  \n",
      "1001964  MC_singlenuc96_b1_Tk41_081120__0001_vid__9350  \n",
      "1001965  MC_singlenuc96_b1_Tk41_081120__0001_vid__9350  \n",
      "\n",
      "[985890 rows x 6 columns]\n"
     ]
    }
   ],
   "source": [
    "# Rename Data\n",
    "data = combined_data\n",
    "\n",
    "# Create Unique Identifier\n",
    "data['id'] = data['experiment_name'] + '__' + data['video_base_name'] + '__' + data['track_id'].astype(str)\n",
    "\n",
    "# Save Class ID for Later Comparison\n",
    "class_id_array = data[['gender', 'id']].copy()\n",
    "\n",
    "# Drop Potential Labels\n",
    "data.drop('gender', inplace=True, axis=1) \n",
    "\n",
    "# Drop Cols that We Might Need\n",
    "data.drop('w', inplace=True, axis=1) \n",
    "data.drop('h', inplace=True, axis=1) \n",
    "data.drop('s_dot', inplace=True, axis=1) \n",
    "data.drop('p_value', inplace=True, axis=1) \n",
    "data.drop('track_id', inplace=True, axis=1) \n",
    "data.drop('class_id', inplace=True, axis=1)\n",
    "data.drop('track_length', inplace=True, axis=1) \n",
    "data.drop('experiment_name', inplace=True, axis=1) \n",
    "data.drop('video_base_name', inplace=True, axis=1) \n",
    "data.drop('count_uncalibrated', inplace=True, axis=1) \n",
    "data.drop('new_count_uncalibrated', inplace=True, axis=1) \n",
    "\n",
    "# Remove Requested IDs\n",
    "print(data.shape)\n",
    "ids_to_remove = [\n",
    "    'MC_singlenuc23_8_Tk33_031720__0001_vid__2488',\n",
    "    'MC_singlenuc24_4_Tk47_030320__0002_vid__3426',\n",
    "    'MC_singlenuc35_11_Tk61_051220__0002_vid__1635',\n",
    "    'MC_singlenuc35_11_Tk61_051220__0002_vid__3257',\n",
    "    'MC_singlenuc35_11_Tk61_051220__0002_vid__45',\n",
    "    'MC_singlenuc35_11_Tk61_051220__0002_vid__622',\n",
    "    'MC_singlenuc41_2_Tk9_030920__0001_vid__5076',\n",
    "    'MC_singlenuc43_11_Tk41_060220__0001_vid__296',\n",
    "    'MC_singlenuc45_7_Tk47_050720__0002_vid__2524',\n",
    "    'MC_singlenuc55_2_Tk47_051220__0001_vid__1093',\n",
    "    'MC_singlenuc59_4_Tk61_060220__0001_vid__3510',\n",
    "    'MC_singlenuc59_4_Tk61_060220__0001_vid__5827',\n",
    "    'MC_singlenuc76_3_Tk47_072920__0001_vid__1007',\n",
    "    'MC_singlenuc96_b1_Tk41_081120__0001_vid__6696',\n",
    "    'MC_singlenuc96_b1_Tk41_081120__0001_vid__8437',\n",
    "    'MC_singlenuc96_b1_Tk41_081120__0001_vid__8641',\n",
    "    'MC_singlenuc96_b1_Tk41_081120__0001_vid__8792',\n",
    "    'MC_singlenuc96_b1_Tk41_081120__0001_vid__8893'\n",
    "]\n",
    "data = data[~data['id'].isin(ids_to_remove)]\n",
    "class_id_array = class_id_array[~class_id_array['id'].isin(ids_to_remove)]\n",
    "print(data.shape)\n",
    "\n",
    "# Check Modified Data\n",
    "print(\"Modified CSV Data: \\n\") \n",
    "print(data)\n",
    "\n",
    "# Rename DF\n",
    "df = data"
   ]
  },
  {
   "cell_type": "code",
   "execution_count": 3,
   "id": "6a083fcb",
   "metadata": {},
   "outputs": [
    {
     "name": "stdout",
     "output_type": "stream",
     "text": [
      "                                               id2  gender\n",
      "0     MC_singlenuc23_1_Tk33_021220__0001_vid__1330       0\n",
      "1     MC_singlenuc23_1_Tk33_021220__0001_vid__1573       0\n",
      "2     MC_singlenuc23_1_Tk33_021220__0001_vid__1640       0\n",
      "3     MC_singlenuc23_1_Tk33_021220__0001_vid__1748       0\n",
      "4     MC_singlenuc23_1_Tk33_021220__0001_vid__2085       0\n",
      "..                                             ...     ...\n",
      "648   MC_singlenuc96_b1_Tk41_081120__0001_vid__873       0\n",
      "649   MC_singlenuc96_b1_Tk41_081120__0001_vid__877       1\n",
      "650  MC_singlenuc96_b1_Tk41_081120__0001_vid__9161       0\n",
      "651  MC_singlenuc96_b1_Tk41_081120__0001_vid__9345       0\n",
      "652  MC_singlenuc96_b1_Tk41_081120__0001_vid__9350       1\n",
      "\n",
      "[653 rows x 2 columns]\n"
     ]
    }
   ],
   "source": [
    "# Add in Labels\n",
    "# print(class_id_array.tail())\n",
    "averaged_class_id = class_id_array.groupby('id')['gender'].mean().round().astype(int).reset_index()\n",
    "averaged_class_id = averaged_class_id.rename(columns={'id': 'id2'})\n",
    "print(averaged_class_id)"
   ]
  },
  {
   "cell_type": "markdown",
   "id": "5d62456b",
   "metadata": {},
   "source": [
    "### 2. Combine Frames by Track & Create Features"
   ]
  },
  {
   "cell_type": "code",
   "execution_count": 4,
   "id": "7028016e",
   "metadata": {},
   "outputs": [],
   "source": [
    "# Imports\n",
    "import numpy as np"
   ]
  },
  {
   "cell_type": "code",
   "execution_count": 5,
   "id": "f3f65311",
   "metadata": {},
   "outputs": [],
   "source": [
    "# Engineered Features\n",
    "def calculate_speed(df):\n",
    "    df['speed'] = np.sqrt(df['u_dot']**2 + df['v_dot']**2)\n",
    "    return df\n",
    "\n",
    "def calculate_outreach_ratio(df):\n",
    "    start_x, start_y = df.iloc[0][['xc', 'yc']]\n",
    "    end_x, end_y = df.iloc[-1][['xc', 'yc']]\n",
    "    displacement = np.sqrt((end_x - start_x)**2 + (end_y - start_y)**2)\n",
    "    path_length = df['speed'].sum()\n",
    "    outreach_ratio = displacement / path_length if path_length != 0 else 0\n",
    "    return outreach_ratio\n",
    "\n",
    "def calculate_acceleration(u_dot, v_dot, time_intervals):\n",
    "    u_dot = np.array(u_dot)\n",
    "    v_dot = np.array(v_dot)\n",
    "    time_intervals = np.array(time_intervals)\n",
    "    ax = np.diff(u_dot) / time_intervals[:-1]\n",
    "    ay = np.diff(v_dot) / time_intervals[:-1]\n",
    "    acceleration = np.sqrt(ax**2 + ay**2)\n",
    "    return ax, ay, acceleration\n",
    "\n",
    "def calculate_distance_traveled(xc, yc):\n",
    "    xc = np.array(xc)\n",
    "    yc = np.array(yc)\n",
    "    dx = np.diff(xc)\n",
    "    dy = np.diff(yc)\n",
    "    distances = np.sqrt(dx**2 + dy**2)\n",
    "    distance_traveled = np.sum(distances)\n",
    "    return distance_traveled"
   ]
  },
  {
   "cell_type": "code",
   "execution_count": 6,
   "id": "aca06e78",
   "metadata": {},
   "outputs": [
    {
     "name": "stdout",
     "output_type": "stream",
     "text": [
      "                                                id     speed  outreach_ratio  \\\n",
      "648   MC_singlenuc96_b1_Tk41_081120__0001_vid__873  0.746466        0.234327   \n",
      "649   MC_singlenuc96_b1_Tk41_081120__0001_vid__877  4.584189        0.080949   \n",
      "650  MC_singlenuc96_b1_Tk41_081120__0001_vid__9161  1.225791        0.143379   \n",
      "651  MC_singlenuc96_b1_Tk41_081120__0001_vid__9345  2.434414        0.081309   \n",
      "652  MC_singlenuc96_b1_Tk41_081120__0001_vid__9350  5.231545        0.056981   \n",
      "\n",
      "     mean_acceleration  distance_traveled  \n",
      "648           0.187829        1861.253453  \n",
      "649           0.576347        2374.990027  \n",
      "650           0.143933        5789.845947  \n",
      "651           0.216220        4567.240841  \n",
      "652           0.443116        1972.812041  \n"
     ]
    }
   ],
   "source": [
    "# Create Features from TrackID\n",
    "features = []\n",
    "grouped = data.groupby('id')\n",
    "\n",
    "for track_id, group in grouped:\n",
    "    group = group.sort_values(by='frame')\n",
    "    speed = calculate_speed(group)['speed'].mean()\n",
    "    outreach_ratio = calculate_outreach_ratio(group)\n",
    "    time_intervals = group['frame'].diff().fillna(1).values  # Assume frame difference as time interval\n",
    "    ax, ay, acceleration = calculate_acceleration(group['u_dot'], group['v_dot'], time_intervals)\n",
    "    mean_acceleration = np.mean(acceleration)\n",
    "    distance_traveled = calculate_distance_traveled(group['xc'], group['yc'])\n",
    "    features.append({\n",
    "        'id': track_id,\n",
    "        'speed': speed,\n",
    "        'outreach_ratio': outreach_ratio,\n",
    "        'mean_acceleration': mean_acceleration,\n",
    "        'distance_traveled': distance_traveled\n",
    "    })\n",
    "\n",
    "features_df = pd.DataFrame(features)\n",
    "print(features_df.tail())"
   ]
  },
  {
   "cell_type": "code",
   "execution_count": 7,
   "id": "c8ef6d65",
   "metadata": {},
   "outputs": [
    {
     "name": "stdout",
     "output_type": "stream",
     "text": [
      "                                                id     speed  outreach_ratio  \\\n",
      "0     MC_singlenuc23_1_Tk33_021220__0001_vid__1330  2.669734        0.086335   \n",
      "1     MC_singlenuc23_1_Tk33_021220__0001_vid__1573  2.306083        0.027860   \n",
      "2     MC_singlenuc23_1_Tk33_021220__0001_vid__1640  2.884547        0.032662   \n",
      "3     MC_singlenuc23_1_Tk33_021220__0001_vid__1748  2.867001        0.088994   \n",
      "4     MC_singlenuc23_1_Tk33_021220__0001_vid__2085  2.646049        0.021937   \n",
      "..                                             ...       ...             ...   \n",
      "648   MC_singlenuc96_b1_Tk41_081120__0001_vid__873  0.746466        0.234327   \n",
      "649   MC_singlenuc96_b1_Tk41_081120__0001_vid__877  4.584189        0.080949   \n",
      "650  MC_singlenuc96_b1_Tk41_081120__0001_vid__9161  1.225791        0.143379   \n",
      "651  MC_singlenuc96_b1_Tk41_081120__0001_vid__9345  2.434414        0.081309   \n",
      "652  MC_singlenuc96_b1_Tk41_081120__0001_vid__9350  5.231545        0.056981   \n",
      "\n",
      "     mean_acceleration  distance_traveled  is_male  \n",
      "0             0.281946       15439.795210        0  \n",
      "1             0.272332       19066.584148        0  \n",
      "2             0.269384       12638.557458        0  \n",
      "3             0.295195        7729.860738        0  \n",
      "4             0.268153       10632.973318        0  \n",
      "..                 ...                ...      ...  \n",
      "648           0.187829        1861.253453        0  \n",
      "649           0.576347        2374.990027        1  \n",
      "650           0.143933        5789.845947        0  \n",
      "651           0.216220        4567.240841        0  \n",
      "652           0.443116        1972.812041        1  \n",
      "\n",
      "[653 rows x 6 columns]\n",
      "is_male\n",
      "0    418\n",
      "1    235\n",
      "Name: count, dtype: int64\n"
     ]
    }
   ],
   "source": [
    "# Create DF to Compare to Labels\n",
    "combined_df = pd.concat([features_df, averaged_class_id], axis=1)\n",
    "comparison_df = combined_df.drop(columns=['id2'])\n",
    "comparison_df = comparison_df.rename(columns={'gender': 'is_male'})\n",
    "print(comparison_df)\n",
    "\n",
    "# Tally Males and Females\n",
    "tally = comparison_df['is_male'].value_counts()\n",
    "print(tally)"
   ]
  },
  {
   "cell_type": "markdown",
   "id": "7bca22ff",
   "metadata": {},
   "source": [
    "### 3. Split Data"
   ]
  },
  {
   "cell_type": "code",
   "execution_count": 8,
   "id": "da9524cc",
   "metadata": {},
   "outputs": [
    {
     "name": "stdout",
     "output_type": "stream",
     "text": [
      "(587, 6)\n",
      "(66, 6)\n"
     ]
    }
   ],
   "source": [
    "from sklearn.model_selection import train_test_split\n",
    "\n",
    "train_df, test_df = train_test_split(comparison_df, test_size=0.1, random_state=42)\n",
    "print(train_df.shape)\n",
    "print(test_df.shape)"
   ]
  },
  {
   "cell_type": "code",
   "execution_count": 9,
   "id": "6db0acb0",
   "metadata": {},
   "outputs": [
    {
     "name": "stdout",
     "output_type": "stream",
     "text": [
      "                                                 id     speed  outreach_ratio  \\\n",
      "577    MC_singlenuc91_b1_Tk9_081120__0001_vid__2594  5.685658        0.091999   \n",
      "633   MC_singlenuc96_b1_Tk41_081120__0001_vid__1490  1.284351        0.277433   \n",
      "357    MC_singlenuc59_4_Tk61_060220__0001_vid__6081  1.357269        0.204141   \n",
      "165     MC_singlenuc36_2_Tk3_030320__0001_vid__6367  4.808747        0.101014   \n",
      "611  MC_singlenuc94_b1_Tk31_081120__0001_vid__13436  3.796143        0.029767   \n",
      "..                                              ...       ...             ...   \n",
      "71       MC_singlenuc24_4_Tk47_030320__0002_vid__97  4.469454        0.203392   \n",
      "106    MC_singlenuc34_3_Tk43_030320__0001_vid__3921  6.848159        0.132124   \n",
      "270    MC_singlenuc45_7_Tk47_050720__0002_vid__2593  3.656903        0.747736   \n",
      "435     MC_singlenuc65_4_Tk9_072920__0002_vid__2299  5.095371        0.219034   \n",
      "102   MC_singlenuc34_3_Tk43_030320__0001_vid__14814  3.889388        0.408020   \n",
      "\n",
      "     mean_acceleration  distance_traveled  is_male  \n",
      "577           0.359992        2120.843568        0  \n",
      "633           0.199595         904.329060        0  \n",
      "357           0.130170        4665.668347        1  \n",
      "165           0.418331        8253.542556        1  \n",
      "611           0.380977        3060.875314        0  \n",
      "..                 ...                ...      ...  \n",
      "71            0.302483        2615.042270        0  \n",
      "106           0.575422        9637.132413        1  \n",
      "270           0.223323        1204.035349        0  \n",
      "435           0.498550        5763.261859        1  \n",
      "102           0.327125        2084.076719        0  \n",
      "\n",
      "[587 rows x 6 columns]\n"
     ]
    }
   ],
   "source": [
    "print(train_df)"
   ]
  },
  {
   "cell_type": "markdown",
   "id": "9a3ff6e7",
   "metadata": {},
   "source": [
    "### 3.5 PCA"
   ]
  },
  {
   "cell_type": "code",
   "execution_count": 10,
   "id": "b9636478",
   "metadata": {},
   "outputs": [],
   "source": [
    "# Imports\n",
    "from sklearn.decomposition import PCA\n",
    "from sklearn.preprocessing import StandardScaler"
   ]
  },
  {
   "cell_type": "code",
   "execution_count": 11,
   "id": "221ea115",
   "metadata": {},
   "outputs": [],
   "source": [
    "# Get Needed Info\n",
    "X_train_for_pca = train_df.drop(columns=['is_male', 'id'])\n",
    "X_test_for_pca = test_df.drop(columns=['is_male', 'id'])"
   ]
  },
  {
   "cell_type": "code",
   "execution_count": 12,
   "id": "a4886bde",
   "metadata": {},
   "outputs": [],
   "source": [
    "# Standardize the features\n",
    "scaler = StandardScaler()\n",
    "X_train_for_pca_scaled = scaler.fit_transform(X_train_for_pca)\n",
    "scaler = StandardScaler()\n",
    "X_test_for_pca_scaled = scaler.fit_transform(X_test_for_pca)"
   ]
  },
  {
   "cell_type": "code",
   "execution_count": 14,
   "id": "4491dbb1",
   "metadata": {},
   "outputs": [
    {
     "data": {
      "image/png": "[encoded data removed]",
      "text/plain": [
       "<Figure size 1000x600 with 1 Axes>"
      ]
     },
     "metadata": {},
     "output_type": "display_data"
    }
   ],
   "source": [
    "import matplotlib.pyplot as plt\n",
    "\n",
    "# The n_components is the number of features you want your features collapsed into.\n",
    "pca = PCA(n_components = 4)\n",
    "pca.fit(X_train_for_pca_scaled)\n",
    "x_pca = pca.transform(X_train_for_pca_scaled)\n",
    "\n",
    "# Scree Plot\n",
    "### Percentages of Variation that Each PC Accounts For\n",
    "### Step Function Shows the Cumulative Contribution\n",
    "plt.figure(figsize=(10, 6))\n",
    "plt.bar(range(1, pca.n_components_ + 1), pca.explained_variance_ratio_, alpha=0.5, align='center')\n",
    "plt.step(range(1, pca.n_components_ + 1), np.cumsum(pca.explained_variance_ratio_), where='mid')\n",
    "plt.xlabel('Principal Components')\n",
    "plt.ylabel('Explained Variance Ratio')\n",
    "plt.title('Explained Variance Ratio by Principal Component')\n",
    "plt.grid(True)\n",
    "plt.show()"
   ]
  },
  {
   "cell_type": "code",
   "execution_count": null,
   "id": "be68beea",
   "metadata": {},
   "outputs": [],
   "source": [
    "# Initialize PCA\n",
    "pca = PCA(n_components=3)\n",
    "pca.fit(X_train_for_pca_scaled)\n",
    "\n",
    "# Transform the data\n",
    "X_train_pca = pca.transform(X_train_for_pca_scaled)\n",
    "X_test_pca = pca.transform(X_test_for_pca_scaled)\n",
    "\n",
    "# Convert the result back to a dataframe for easier interpretation\n",
    "X_train_pca_df = pd.DataFrame(X_train_for_pca_scaled, columns=[f'PC{i+1}' for i in range(X_train_for_pca_scaled.shape[1])])\n",
    "X_train_pca_df['is_male'] = averaged_class_id['gender'].values\n",
    "print(X_train_pca_df.head())\n",
    "X_test_pca_df = pd.DataFrame(X_test_for_pca_scaled, columns=[f'PC{i+1}' for i in range(X_test_for_pca_scaled.shape[1])])\n",
    "X_test_pca_df['is_male'] = averaged_class_id['true_labels'].values\n",
    "print(X_test_pca_df.head())\n",
    "\n",
    "# Dump the PCA components and see the contributions of each feature\n",
    "component_names = [f'PC{i+1}' for i in range(X_train_for_pca_scaled.shape[1])]\n",
    "feature_names = scaler.get_feature_names_out()\n",
    "components_df = pd.DataFrame(pca.components_, columns=feature_names, index=component_names)\n",
    "print(components_df)"
   ]
  },
  {
   "cell_type": "code",
   "execution_count": null,
   "id": "bbd92ecc",
   "metadata": {},
   "outputs": [],
   "source": [
    "training_data = training_data_ids_and_labels.merge(X_train_pca_df, left_index=True, right_index=True)\n",
    "training_data = training_data.drop('is_male_x', axis=1)\n",
    "training_data = training_data.rename(columns={'is_male_y': 'is_male'})\n",
    "print(training_data)"
   ]
  },
  {
   "cell_type": "code",
   "execution_count": null,
   "id": "2af0dc82",
   "metadata": {},
   "outputs": [],
   "source": [
    "testing_data = testing_data_ids_and_labels.merge(X_test_pca_df, left_index=True, right_index=True)\n",
    "testing_data = testing_data.drop('is_male', axis=1)\n",
    "print(testing_data)"
   ]
  },
  {
   "cell_type": "markdown",
   "id": "b49b32c1",
   "metadata": {},
   "source": [
    "### 4. Cluster Data for Additional Feature Based on Training"
   ]
  },
  {
   "cell_type": "code",
   "execution_count": 9,
   "id": "920f265a",
   "metadata": {},
   "outputs": [],
   "source": [
    "# This cell is to prevent the KMeans memory leak on Windows with MKL.\n",
    "import os\n",
    "os.environ['OMP_NUM_THREADS'] = '3'"
   ]
  },
  {
   "cell_type": "code",
   "execution_count": 10,
   "id": "2c76a9e5",
   "metadata": {},
   "outputs": [],
   "source": [
    "# Imports\n",
    "from sklearn.cluster import Birch\n",
    "from sklearn.metrics import silhouette_score\n",
    "import matplotlib.pyplot as plt\n",
    "from mpl_toolkits.mplot3d import Axes3D\n",
    "import plotly.graph_objs as go\n",
    "import plotly.express as px\n",
    "import seaborn as sns"
   ]
  },
  {
   "cell_type": "code",
   "execution_count": 11,
   "id": "9df94b8f",
   "metadata": {},
   "outputs": [
    {
     "name": "stdout",
     "output_type": "stream",
     "text": [
      "        speed  outreach_ratio  mean_acceleration  distance_traveled\n",
      "577  5.685658        0.091999           0.359992        2120.843568\n",
      "633  1.284351        0.277433           0.199595         904.329060\n",
      "357  1.357269        0.204141           0.130170        4665.668347\n",
      "165  4.808747        0.101014           0.418331        8253.542556\n",
      "611  3.796143        0.029767           0.380977        3060.875314\n",
      "..        ...             ...                ...                ...\n",
      "71   4.469454        0.203392           0.302483        2615.042270\n",
      "106  6.848159        0.132124           0.575422        9637.132413\n",
      "270  3.656903        0.747736           0.223323        1204.035349\n",
      "435  5.095371        0.219034           0.498550        5763.261859\n",
      "102  3.889388        0.408020           0.327125        2084.076719\n",
      "\n",
      "[587 rows x 4 columns]\n"
     ]
    }
   ],
   "source": [
    "# Data\n",
    "data = train_df.drop(columns=['is_male', 'id'])\n",
    "print(data)"
   ]
  },
  {
   "cell_type": "code",
   "execution_count": 12,
   "id": "d5da0eeb",
   "metadata": {},
   "outputs": [],
   "source": [
    "# Update Var Name\n",
    "X_train = data"
   ]
  },
  {
   "cell_type": "code",
   "execution_count": 13,
   "id": "9f632652",
   "metadata": {},
   "outputs": [
    {
     "name": "stdout",
     "output_type": "stream",
     "text": [
      "Silhouette Score for 2 clusters: 0.5962325914382028\n",
      "Silhouette Score for 3 clusters: 0.6120209559700212\n",
      "Silhouette Score for 4 clusters: 0.5671409082200777\n",
      "Silhouette Score for 5 clusters: 0.5448616181123732\n",
      "Silhouette Score for 6 clusters: 0.5475546925046624\n",
      "Silhouette Score for 7 clusters: 0.5171868736998556\n",
      "Silhouette Score for 8 clusters: 0.5261402892912026\n",
      "Silhouette Score for 9 clusters: 0.5083210226048636\n",
      "Silhouette Score for 10 clusters: 0.5145249782836913\n",
      "Silhouette Score for 11 clusters: 0.5058159136842711\n",
      "Silhouette Score for 12 clusters: 0.5091266564939676\n",
      "Best number of clusters based on Silhouette Score: 3\n"
     ]
    },
    {
     "data": {
      "image/png": "[encoded data removed]",
      "text/plain": [
       "<Figure size 1000x600 with 1 Axes>"
      ]
     },
     "metadata": {},
     "output_type": "display_data"
    }
   ],
   "source": [
    "best_score = -1\n",
    "best_num_clusters = None\n",
    "silhouette_scores = []\n",
    "num_clusters_list = []\n",
    "\n",
    "for i in range(2, 13):\n",
    "    bch = Birch(n_clusters=i)\n",
    "    labels = bch.fit_predict(X_train)\n",
    "    silhouette_avg = silhouette_score(X_train, labels, metric='euclidean')\n",
    "    print(\"Silhouette Score for \" + str(i) + \" clusters:\", silhouette_avg)\n",
    "    silhouette_scores.append(silhouette_avg)\n",
    "    num_clusters_list.append(i)\n",
    "    if silhouette_avg > best_score:\n",
    "        best_score = silhouette_avg\n",
    "        best_num_clusters = i\n",
    "\n",
    "print(\"Best number of clusters based on Silhouette Score:\", best_num_clusters)\n",
    "\n",
    "plt.figure(figsize=(10, 6))\n",
    "plt.plot(num_clusters_list, silhouette_scores, marker='o')\n",
    "plt.xlabel('Number of Clusters')\n",
    "plt.ylabel('Silhouette Score')\n",
    "plt.grid(True)\n",
    "plt.show()"
   ]
  },
  {
   "cell_type": "code",
   "execution_count": 14,
   "id": "2cd4d23a",
   "metadata": {},
   "outputs": [
    {
     "name": "stdout",
     "output_type": "stream",
     "text": [
      "        speed  outreach_ratio  mean_acceleration  distance_traveled  cluster\n",
      "71   4.469454        0.203392           0.302483        2615.042270        1\n",
      "106  6.848159        0.132124           0.575422        9637.132413        0\n",
      "270  3.656903        0.747736           0.223323        1204.035349        1\n",
      "435  5.095371        0.219034           0.498550        5763.261859        1\n",
      "102  3.889388        0.408020           0.327125        2084.076719        1\n"
     ]
    }
   ],
   "source": [
    "# Cluster\n",
    "birch = Birch(n_clusters = 3)\n",
    "birch = birch.fit(data.values)\n",
    "labels = birch.predict(data.values)\n",
    "data['cluster'] = birch.fit_predict(data)\n",
    "\n",
    "# Check Clusters\n",
    "print(data.tail())"
   ]
  },
  {
   "cell_type": "code",
   "execution_count": null,
   "id": "0bf8477e",
   "metadata": {},
   "outputs": [],
   "source": [
    "# Pair Plot\n",
    "sns.pairplot(data, hue='cluster', diag_kind='kde')\n",
    "plt.show()"
   ]
  },
  {
   "cell_type": "code",
   "execution_count": 16,
   "id": "cb3b8e88",
   "metadata": {},
   "outputs": [
    {
     "name": "stdout",
     "output_type": "stream",
     "text": [
      "        speed  outreach_ratio  mean_acceleration  distance_traveled  cluster\n",
      "577  5.685658        0.091999           0.359992        2120.843568        1\n",
      "633  1.284351        0.277433           0.199595         904.329060        1\n",
      "357  1.357269        0.204141           0.130170        4665.668347        1\n",
      "165  4.808747        0.101014           0.418331        8253.542556        0\n",
      "611  3.796143        0.029767           0.380977        3060.875314        1\n",
      "..        ...             ...                ...                ...      ...\n",
      "71   4.469454        0.203392           0.302483        2615.042270        1\n",
      "106  6.848159        0.132124           0.575422        9637.132413        0\n",
      "270  3.656903        0.747736           0.223323        1204.035349        1\n",
      "435  5.095371        0.219034           0.498550        5763.261859        1\n",
      "102  3.889388        0.408020           0.327125        2084.076719        1\n",
      "\n",
      "[587 rows x 5 columns]\n"
     ]
    }
   ],
   "source": [
    "# Check Data\n",
    "print(data)"
   ]
  },
  {
   "cell_type": "code",
   "execution_count": 17,
   "id": "3d5f07ec",
   "metadata": {},
   "outputs": [
    {
     "name": "stdout",
     "output_type": "stream",
     "text": [
      "        speed  outreach_ratio  mean_acceleration  distance_traveled  cluster  \\\n",
      "577  5.685658        0.091999           0.359992        2120.843568        1   \n",
      "633  1.284351        0.277433           0.199595         904.329060        1   \n",
      "357  1.357269        0.204141           0.130170        4665.668347        1   \n",
      "165  4.808747        0.101014           0.418331        8253.542556        0   \n",
      "611  3.796143        0.029767           0.380977        3060.875314        1   \n",
      "..        ...             ...                ...                ...      ...   \n",
      "71   4.469454        0.203392           0.302483        2615.042270        1   \n",
      "106  6.848159        0.132124           0.575422        9637.132413        0   \n",
      "270  3.656903        0.747736           0.223323        1204.035349        1   \n",
      "435  5.095371        0.219034           0.498550        5763.261859        1   \n",
      "102  3.889388        0.408020           0.327125        2084.076719        1   \n",
      "\n",
      "     is_male                                              id  \n",
      "577        0    MC_singlenuc91_b1_Tk9_081120__0001_vid__2594  \n",
      "633        0   MC_singlenuc96_b1_Tk41_081120__0001_vid__1490  \n",
      "357        1    MC_singlenuc59_4_Tk61_060220__0001_vid__6081  \n",
      "165        1     MC_singlenuc36_2_Tk3_030320__0001_vid__6367  \n",
      "611        0  MC_singlenuc94_b1_Tk31_081120__0001_vid__13436  \n",
      "..       ...                                             ...  \n",
      "71         0      MC_singlenuc24_4_Tk47_030320__0002_vid__97  \n",
      "106        1    MC_singlenuc34_3_Tk43_030320__0001_vid__3921  \n",
      "270        0    MC_singlenuc45_7_Tk47_050720__0002_vid__2593  \n",
      "435        1     MC_singlenuc65_4_Tk9_072920__0002_vid__2299  \n",
      "102        0   MC_singlenuc34_3_Tk43_030320__0001_vid__14814  \n",
      "\n",
      "[587 rows x 7 columns]\n"
     ]
    }
   ],
   "source": [
    "# Add Real Label\n",
    "data = pd.merge(data, train_df[['is_male', 'id']], left_index=True, right_index=True)\n",
    "print(data)\n",
    "#data.to_csv('5_Features_with_ID_90_Percent_Disinclude_IDs.csv', index=False)"
   ]
  },
  {
   "cell_type": "markdown",
   "id": "3185a2fa",
   "metadata": {},
   "source": [
    "### 5. Cluster Testing Data for Future Use"
   ]
  },
  {
   "cell_type": "code",
   "execution_count": 18,
   "id": "63f7e355",
   "metadata": {},
   "outputs": [
    {
     "name": "stdout",
     "output_type": "stream",
     "text": [
      "                                               id     speed  outreach_ratio  \\\n",
      "109  MC_singlenuc34_3_Tk43_030320__0001_vid__5339  3.427861        0.199292   \n",
      "274  MC_singlenuc45_7_Tk47_050720__0002_vid__3868  2.358489        0.112493   \n",
      "199   MC_singlenuc40_2_Tk3_030920__0001_vid__3337  2.650354        0.285453   \n",
      "429   MC_singlenuc65_4_Tk9_072920__0002_vid__1427  5.451525        0.048889   \n",
      "447   MC_singlenuc65_4_Tk9_072920__0002_vid__6651  5.809478        0.044468   \n",
      "..                                            ...       ...             ...   \n",
      "334   MC_singlenuc56_2_Tk65_051220__0003_vid__416  2.592307        0.232560   \n",
      "291  MC_singlenuc55_2_Tk47_051220__0001_vid__2620  2.101094        0.073558   \n",
      "236   MC_singlenuc41_2_Tk9_030920__0001_vid__4852  1.670250        0.182483   \n",
      "44    MC_singlenuc23_8_Tk33_031720__0001_vid__494  3.275614        0.232256   \n",
      "81   MC_singlenuc28_1_Tk3_022520__0003_vid__23531  1.713950        0.082322   \n",
      "\n",
      "     mean_acceleration  distance_traveled  is_male  \n",
      "109           0.377195        1387.612405        0  \n",
      "274           0.185607        3424.388132        0  \n",
      "199           0.206539        3833.747829        0  \n",
      "429           0.503387       13601.221454        1  \n",
      "447           0.541134       21557.168150        1  \n",
      "..                 ...                ...      ...  \n",
      "334           0.218279        5159.751257        0  \n",
      "291           0.230155        6403.468278        1  \n",
      "236           0.151172        5081.713539        0  \n",
      "44            0.340647        2869.981473        0  \n",
      "81            0.182981        4707.349631        0  \n",
      "\n",
      "[66 rows x 6 columns]\n"
     ]
    }
   ],
   "source": [
    "# Check Test Data\n",
    "print(test_df)"
   ]
  },
  {
   "cell_type": "code",
   "execution_count": 19,
   "id": "4a767988",
   "metadata": {},
   "outputs": [
    {
     "name": "stdout",
     "output_type": "stream",
     "text": [
      "        speed  outreach_ratio  mean_acceleration  distance_traveled\n",
      "109  3.427861        0.199292           0.377195        1387.612405\n",
      "274  2.358489        0.112493           0.185607        3424.388132\n",
      "199  2.650354        0.285453           0.206539        3833.747829\n",
      "429  5.451525        0.048889           0.503387       13601.221454\n",
      "447  5.809478        0.044468           0.541134       21557.168150\n",
      "..        ...             ...                ...                ...\n",
      "334  2.592307        0.232560           0.218279        5159.751257\n",
      "291  2.101094        0.073558           0.230155        6403.468278\n",
      "236  1.670250        0.182483           0.151172        5081.713539\n",
      "44   3.275614        0.232256           0.340647        2869.981473\n",
      "81   1.713950        0.082322           0.182981        4707.349631\n",
      "\n",
      "[66 rows x 4 columns]\n",
      "                                               id     speed  outreach_ratio  \\\n",
      "109  MC_singlenuc34_3_Tk43_030320__0001_vid__5339  3.427861        0.199292   \n",
      "274  MC_singlenuc45_7_Tk47_050720__0002_vid__3868  2.358489        0.112493   \n",
      "199   MC_singlenuc40_2_Tk3_030920__0001_vid__3337  2.650354        0.285453   \n",
      "429   MC_singlenuc65_4_Tk9_072920__0002_vid__1427  5.451525        0.048889   \n",
      "447   MC_singlenuc65_4_Tk9_072920__0002_vid__6651  5.809478        0.044468   \n",
      "..                                            ...       ...             ...   \n",
      "334   MC_singlenuc56_2_Tk65_051220__0003_vid__416  2.592307        0.232560   \n",
      "291  MC_singlenuc55_2_Tk47_051220__0001_vid__2620  2.101094        0.073558   \n",
      "236   MC_singlenuc41_2_Tk9_030920__0001_vid__4852  1.670250        0.182483   \n",
      "44    MC_singlenuc23_8_Tk33_031720__0001_vid__494  3.275614        0.232256   \n",
      "81   MC_singlenuc28_1_Tk3_022520__0003_vid__23531  1.713950        0.082322   \n",
      "\n",
      "     mean_acceleration  distance_traveled  is_male  predicted_clusters  \n",
      "109           0.377195        1387.612405        0                   1  \n",
      "274           0.185607        3424.388132        0                   1  \n",
      "199           0.206539        3833.747829        0                   1  \n",
      "429           0.503387       13601.221454        1                   0  \n",
      "447           0.541134       21557.168150        1                   2  \n",
      "..                 ...                ...      ...                 ...  \n",
      "334           0.218279        5159.751257        0                   1  \n",
      "291           0.230155        6403.468278        1                   0  \n",
      "236           0.151172        5081.713539        0                   1  \n",
      "44            0.340647        2869.981473        0                   1  \n",
      "81            0.182981        4707.349631        0                   1  \n",
      "\n",
      "[66 rows x 7 columns]\n"
     ]
    }
   ],
   "source": [
    "# Remove Track ID and Cluster\n",
    "features_df = test_df\n",
    "features_df_no_track_id = features_df.drop('id', axis=1)\n",
    "features_df_no_track_id = features_df_no_track_id.drop('is_male', axis=1)\n",
    "print(features_df_no_track_id)\n",
    "predicted_clusters = birch.predict(features_df_no_track_id)\n",
    "\n",
    "# Add to DF\n",
    "features_df = features_df.assign(predicted_clusters=predicted_clusters)\n",
    "test_df_prepared = features_df\n",
    "print(test_df_prepared)\n",
    "#test_df_prepared.to_csv('5_Features_with_ID_90_Percent_Disinclude_IDs_TEST.csv', index=False)"
   ]
  },
  {
   "cell_type": "code",
   "execution_count": 20,
   "id": "57154902",
   "metadata": {},
   "outputs": [],
   "source": [
    "# Looks like Some Predictive Power Here\n",
    "# Cluster = 7 is 93.62% likely to be a female.\n",
    "# Cluster = 2 is 80.49% likely to be a female.\n",
    "# Let's save clustering algorithm to joblib file.\n",
    "import joblib\n",
    "\n",
    "# num_features_gm = gm.n_features_in_\n",
    "# print(num_features_gm)\n",
    "# joblib.dump(birch, 'gaussian_mixture_model_disincludeIDs.pkl')\n",
    "# joblib.dump(labels, 'labels_disincludeIDs.pkl')"
   ]
  },
  {
   "cell_type": "markdown",
   "id": "e8f7e6a6",
   "metadata": {},
   "source": [
    "### 6. Use Basic DT"
   ]
  },
  {
   "cell_type": "code",
   "execution_count": 21,
   "id": "e44d7488",
   "metadata": {},
   "outputs": [],
   "source": [
    "# Imports\n",
    "from sklearn.model_selection import train_test_split\n",
    "from sklearn.tree import DecisionTreeClassifier\n",
    "from sklearn.metrics import accuracy_score, f1_score, make_scorer\n",
    "from sklearn.model_selection import learning_curve, validation_curve, cross_val_score"
   ]
  },
  {
   "cell_type": "code",
   "execution_count": 22,
   "id": "281231b4",
   "metadata": {},
   "outputs": [
    {
     "name": "stdout",
     "output_type": "stream",
     "text": [
      "        speed  outreach_ratio  mean_acceleration  distance_traveled  cluster  \\\n",
      "577  5.685658        0.091999           0.359992        2120.843568        1   \n",
      "633  1.284351        0.277433           0.199595         904.329060        1   \n",
      "357  1.357269        0.204141           0.130170        4665.668347        1   \n",
      "165  4.808747        0.101014           0.418331        8253.542556        0   \n",
      "611  3.796143        0.029767           0.380977        3060.875314        1   \n",
      "..        ...             ...                ...                ...      ...   \n",
      "71   4.469454        0.203392           0.302483        2615.042270        1   \n",
      "106  6.848159        0.132124           0.575422        9637.132413        0   \n",
      "270  3.656903        0.747736           0.223323        1204.035349        1   \n",
      "435  5.095371        0.219034           0.498550        5763.261859        1   \n",
      "102  3.889388        0.408020           0.327125        2084.076719        1   \n",
      "\n",
      "     is_male                                              id  \n",
      "577        0    MC_singlenuc91_b1_Tk9_081120__0001_vid__2594  \n",
      "633        0   MC_singlenuc96_b1_Tk41_081120__0001_vid__1490  \n",
      "357        1    MC_singlenuc59_4_Tk61_060220__0001_vid__6081  \n",
      "165        1     MC_singlenuc36_2_Tk3_030320__0001_vid__6367  \n",
      "611        0  MC_singlenuc94_b1_Tk31_081120__0001_vid__13436  \n",
      "..       ...                                             ...  \n",
      "71         0      MC_singlenuc24_4_Tk47_030320__0002_vid__97  \n",
      "106        1    MC_singlenuc34_3_Tk43_030320__0001_vid__3921  \n",
      "270        0    MC_singlenuc45_7_Tk47_050720__0002_vid__2593  \n",
      "435        1     MC_singlenuc65_4_Tk9_072920__0002_vid__2299  \n",
      "102        0   MC_singlenuc34_3_Tk43_030320__0001_vid__14814  \n",
      "\n",
      "[587 rows x 7 columns]\n"
     ]
    }
   ],
   "source": [
    "# Check Train Data\n",
    "train_data = data\n",
    "print(train_data)"
   ]
  },
  {
   "cell_type": "code",
   "execution_count": 25,
   "id": "d4d17db9",
   "metadata": {},
   "outputs": [
    {
     "name": "stdout",
     "output_type": "stream",
     "text": [
      "                                               id     speed  outreach_ratio  \\\n",
      "109  MC_singlenuc34_3_Tk43_030320__0001_vid__5339  3.427861        0.199292   \n",
      "274  MC_singlenuc45_7_Tk47_050720__0002_vid__3868  2.358489        0.112493   \n",
      "199   MC_singlenuc40_2_Tk3_030920__0001_vid__3337  2.650354        0.285453   \n",
      "429   MC_singlenuc65_4_Tk9_072920__0002_vid__1427  5.451525        0.048889   \n",
      "447   MC_singlenuc65_4_Tk9_072920__0002_vid__6651  5.809478        0.044468   \n",
      "..                                            ...       ...             ...   \n",
      "334   MC_singlenuc56_2_Tk65_051220__0003_vid__416  2.592307        0.232560   \n",
      "291  MC_singlenuc55_2_Tk47_051220__0001_vid__2620  2.101094        0.073558   \n",
      "236   MC_singlenuc41_2_Tk9_030920__0001_vid__4852  1.670250        0.182483   \n",
      "44    MC_singlenuc23_8_Tk33_031720__0001_vid__494  3.275614        0.232256   \n",
      "81   MC_singlenuc28_1_Tk3_022520__0003_vid__23531  1.713950        0.082322   \n",
      "\n",
      "     mean_acceleration  distance_traveled  is_male  cluster  \n",
      "109           0.377195        1387.612405        0        1  \n",
      "274           0.185607        3424.388132        0        1  \n",
      "199           0.206539        3833.747829        0        1  \n",
      "429           0.503387       13601.221454        1        0  \n",
      "447           0.541134       21557.168150        1        2  \n",
      "..                 ...                ...      ...      ...  \n",
      "334           0.218279        5159.751257        0        1  \n",
      "291           0.230155        6403.468278        1        0  \n",
      "236           0.151172        5081.713539        0        1  \n",
      "44            0.340647        2869.981473        0        1  \n",
      "81            0.182981        4707.349631        0        1  \n",
      "\n",
      "[66 rows x 7 columns]\n"
     ]
    }
   ],
   "source": [
    "# Check Test Data\n",
    "test_data = test_df_prepared\n",
    "test_data = test_data.rename(columns={'predicted_clusters': 'cluster'})\n",
    "print(test_data)"
   ]
  },
  {
   "cell_type": "code",
   "execution_count": 26,
   "id": "e39bea51",
   "metadata": {},
   "outputs": [
    {
     "name": "stdout",
     "output_type": "stream",
     "text": [
      "(587, 4)\n",
      "(66, 4)\n",
      "(587,)\n",
      "(66,)\n"
     ]
    }
   ],
   "source": [
    "# Split into X and y\n",
    "X_train = train_data.drop('is_male', axis=1)\n",
    "X_test = test_data.drop('is_male', axis=1)\n",
    "X_train = X_train.drop('id', axis=1)\n",
    "X_test = X_test.drop('id', axis=1)\n",
    "y_train = train_data['is_male']\n",
    "y_test = test_data['is_male']\n",
    "\n",
    "# Remove Clustering\n",
    "X_train.drop(columns=['cluster'], inplace=True)\n",
    "X_test.drop(columns=['cluster'], inplace=True)\n",
    "\n",
    "# Check Shapes\n",
    "print(X_train.shape)\n",
    "print(X_test.shape)\n",
    "print(y_train.shape)\n",
    "print(y_test.shape)"
   ]
  },
  {
   "cell_type": "code",
   "execution_count": 27,
   "id": "10fa57bd",
   "metadata": {},
   "outputs": [
    {
     "name": "stdout",
     "output_type": "stream",
     "text": [
      "Test Accuracy on Default: 68.18%\n"
     ]
    }
   ],
   "source": [
    "# Use Sklearn\n",
    "classifier = DecisionTreeClassifier(random_state=0)\n",
    "\n",
    "# Train\n",
    "classifier.fit(X_train, y_train)\n",
    "\n",
    "# Test\n",
    "y_pred = classifier.predict(X_test)\n",
    "accuracy = accuracy_score(y_test, y_pred)\n",
    "print(f\"Test Accuracy on Default: {accuracy*100:.2f}%\")"
   ]
  },
  {
   "cell_type": "markdown",
   "id": "514321c2",
   "metadata": {},
   "source": [
    "### 7. Tune Basic DT"
   ]
  },
  {
   "cell_type": "code",
   "execution_count": 28,
   "id": "54abc97a",
   "metadata": {},
   "outputs": [
    {
     "name": "stdout",
     "output_type": "stream",
     "text": [
      "Best Min Samples Leaf: 50\n"
     ]
    },
    {
     "data": {
      "image/png": "[encoded data removed]",
      "text/plain": [
       "<Figure size 1000x600 with 1 Axes>"
      ]
     },
     "metadata": {},
     "output_type": "display_data"
    }
   ],
   "source": [
    "# Reset DT\n",
    "decision_tree_clf = DecisionTreeClassifier(random_state=0)\n",
    "\n",
    "# Create Validation Curve\n",
    "min_samples_values = [1, 5, 10, 20, 50, 75, 100]\n",
    "train_scores, test_scores = validation_curve(\n",
    "    decision_tree_clf, \n",
    "    X_train, \n",
    "    y_train, \n",
    "    param_name=\"min_samples_leaf\", \n",
    "    param_range=min_samples_values, \n",
    "    cv=10, \n",
    "    scoring=\"accuracy\", \n",
    "    n_jobs=-1\n",
    ")\n",
    "\n",
    "train_scores_mean = np.mean(train_scores, axis=1)\n",
    "test_scores_mean = np.mean(test_scores, axis=1)\n",
    "\n",
    "# Plot the Validation Curve\n",
    "plt.figure(figsize=(10, 6))\n",
    "plt.title('Min Samples Leaf Validation Curve for Decision Tree')\n",
    "plt.xlabel('Min Samples Leaf')\n",
    "plt.ylabel('Accuracy')\n",
    "\n",
    "# Plot Scores\n",
    "plt.plot(min_samples_values, train_scores_mean, label='Training Score', color='blue')\n",
    "plt.plot(min_samples_values, test_scores_mean, label='Cross-Validation Score', color='green')\n",
    "plt.legend(loc=\"best\")\n",
    "plt.xticks(min_samples_values)\n",
    "\n",
    "# Find Max Score Index and Get Corresponding Value\n",
    "best_min_samples_index = np.argmax(np.mean(test_scores, axis=1))\n",
    "best_min_samples_leaf = min_samples_values[best_min_samples_index]\n",
    "print(\"Best Min Samples Leaf:\", best_min_samples_leaf)\n",
    "\n",
    "# Save Plot for Report\n",
    "plt.show()"
   ]
  },
  {
   "cell_type": "code",
   "execution_count": 29,
   "id": "0daf4575",
   "metadata": {},
   "outputs": [
    {
     "name": "stdout",
     "output_type": "stream",
     "text": [
      "Best Min Samples Split: 100\n"
     ]
    },
    {
     "data": {
      "image/png": "[encoded data removed]",
      "text/plain": [
       "<Figure size 1000x600 with 1 Axes>"
      ]
     },
     "metadata": {},
     "output_type": "display_data"
    }
   ],
   "source": [
    "# Reset DT\n",
    "decision_tree_clf = DecisionTreeClassifier(random_state=0)\n",
    "\n",
    "# Create Validation Curve\n",
    "min_samples_values = [2, 10, 20, 30, 40, 50, 75, 100]\n",
    "train_scores, test_scores = validation_curve(\n",
    "    decision_tree_clf, \n",
    "    X_train, \n",
    "    y_train, \n",
    "    param_name=\"min_samples_split\", \n",
    "    param_range=min_samples_values, \n",
    "    cv=10, \n",
    "    scoring=\"accuracy\", \n",
    "    n_jobs=-1\n",
    ")\n",
    "\n",
    "train_scores_mean = np.mean(train_scores, axis=1)\n",
    "test_scores_mean = np.mean(test_scores, axis=1)\n",
    "\n",
    "# Plot the Validation Curve\n",
    "plt.figure(figsize=(10, 6))\n",
    "plt.title('Min Samples Split Validation Curve for Decision Tree')\n",
    "plt.xlabel('Min Samples Split')\n",
    "plt.ylabel('Accuracy')\n",
    "\n",
    "# Plot Scores\n",
    "plt.plot(min_samples_values, train_scores_mean, label='Training Score', color='blue')\n",
    "plt.plot(min_samples_values, test_scores_mean, label='Cross-Validation Score', color='green')\n",
    "plt.legend(loc=\"best\")\n",
    "plt.xticks(min_samples_values)\n",
    "\n",
    "# Find Max Score Index and Get Corresponding Value\n",
    "best_min_samples_index = np.argmax(np.mean(test_scores, axis=1))\n",
    "best_min_samples_split = min_samples_values[best_min_samples_index]\n",
    "print(\"Best Min Samples Split:\", best_min_samples_split)\n",
    "\n",
    "# Save Plot for Report\n",
    "plt.show()"
   ]
  },
  {
   "cell_type": "code",
   "execution_count": 30,
   "id": "80e47960",
   "metadata": {},
   "outputs": [
    {
     "name": "stdout",
     "output_type": "stream",
     "text": [
      "Best Max Depth: 5\n"
     ]
    },
    {
     "data": {
      "image/png": "[encoded data removed]",
      "text/plain": [
       "<Figure size 1000x600 with 1 Axes>"
      ]
     },
     "metadata": {},
     "output_type": "display_data"
    }
   ],
   "source": [
    "# Reset DT\n",
    "decision_tree_clf = DecisionTreeClassifier(random_state=0)\n",
    "\n",
    "# Create Validation Curve\n",
    "max_depth_values = np.arange(1, 51, 2)\n",
    "train_scores, test_scores = validation_curve(\n",
    "    decision_tree_clf, \n",
    "    X_train, \n",
    "    y_train, \n",
    "    param_name=\"max_depth\", \n",
    "    param_range=max_depth_values, \n",
    "    cv=10, \n",
    "    scoring=\"accuracy\", \n",
    "    n_jobs=-1\n",
    ")\n",
    "\n",
    "train_scores_mean = np.mean(train_scores, axis=1)\n",
    "test_scores_mean = np.mean(test_scores, axis=1)\n",
    "\n",
    "# Plot the Validation Curve\n",
    "plt.figure(figsize=(10, 6))\n",
    "plt.title('Max Depth Validation Curve for Decision Tree')\n",
    "plt.xlabel('Max Depth')\n",
    "plt.ylabel('Accuracy')\n",
    "\n",
    "# Plot Scores\n",
    "plt.plot(max_depth_values, train_scores_mean, label='Training Score', color='blue')\n",
    "plt.plot(max_depth_values, test_scores_mean, label='Cross-Validation Score', color='green')\n",
    "plt.legend(loc=\"best\")\n",
    "plt.xticks(max_depth_values)\n",
    "\n",
    "# Find Max Score Index and Get Corresponding Value\n",
    "best_max_depth_index = np.argmax(np.mean(test_scores, axis=1))\n",
    "best_max_depth = max_depth_values[best_max_depth_index]\n",
    "print(\"Best Max Depth:\", best_max_depth)\n",
    "\n",
    "# Save Plot for Report\n",
    "plt.show()"
   ]
  },
  {
   "cell_type": "code",
   "execution_count": 31,
   "id": "1c5e20a9",
   "metadata": {},
   "outputs": [
    {
     "name": "stdout",
     "output_type": "stream",
     "text": [
      "gini: 0.7597311513734659\n",
      "entropy: 0.7392752776154295\n",
      "log_loss: 0.7392752776154295\n",
      "gini\n"
     ]
    },
    {
     "data": {
      "image/png": "[encoded data removed]",
      "text/plain": [
       "<Figure size 640x480 with 1 Axes>"
      ]
     },
     "metadata": {},
     "output_type": "display_data"
    }
   ],
   "source": [
    "# Compare Criteria\n",
    "criteria = ['gini', 'entropy', 'log_loss']\n",
    "performance_scores = []\n",
    "accuracy_scorer = make_scorer(accuracy_score)\n",
    "best_score = -1\n",
    "best_criteria = ''\n",
    "\n",
    "# Save Info for Each\n",
    "for criterion in criteria:\n",
    "    clf = DecisionTreeClassifier(criterion=criterion, max_depth=best_max_depth, random_state=42)\n",
    "    clf.fit(X_train, y_train)\n",
    "    cross_val_scores = cross_val_score(clf, X_train, y_train, cv=10, scoring=accuracy_scorer, n_jobs=-1)\n",
    "    y_pred = clf.predict(X_test)\n",
    "    \n",
    "    # Get the Mean Validation Score on the Last Sample\n",
    "    last_sample_score = np.mean(cross_val_scores)\n",
    "    \n",
    "    # Get this Mean\n",
    "    performance = np.mean(cross_val_scores)\n",
    "    print(str(criterion) + \": \"+ str(performance))\n",
    "    performance_scores.append(performance)\n",
    "    \n",
    "    # Save Best Hyperparameter Value\n",
    "    if last_sample_score > best_score:\n",
    "        best_score = last_sample_score\n",
    "        best_criteria = criterion\n",
    "        \n",
    "# Print Best\n",
    "print(best_criteria)\n",
    "\n",
    "# Create Chart\n",
    "plt.bar(criteria, performance_scores, color=['#CCCCCC', '#808080', '#555555'])\n",
    "plt.title('Covertype Dataset: Decision Tree Criterion')\n",
    "plt.xlabel('Criterion')\n",
    "plt.ylabel('Accuracy Score')\n",
    "plt.ylim(0, 1)\n",
    "for i, performance in enumerate(performance_scores):\n",
    "    plt.text(i, performance + 0.01, f'{performance:.3f}', ha='center', va='bottom')\n",
    "# plt.savefig('Covertype_DT_VC_Criterion.png')\n",
    "plt.show()"
   ]
  },
  {
   "cell_type": "code",
   "execution_count": 32,
   "id": "6150fcc5",
   "metadata": {},
   "outputs": [
    {
     "name": "stdout",
     "output_type": "stream",
     "text": [
      "Training Accuracy: 79.05%\n",
      "Test Accuracy on Tuned: 80.30%\n"
     ]
    }
   ],
   "source": [
    "# Use Sklearn\n",
    "classifier = DecisionTreeClassifier(random_state=0, \n",
    "                                   criterion=best_criteria,\n",
    "                                   max_depth=best_max_depth,\n",
    "                                   min_samples_split=best_min_samples_split,\n",
    "                                   min_samples_leaf=best_min_samples_leaf)\n",
    "\n",
    "# Train\n",
    "classifier.fit(X_train, y_train)\n",
    "y_train_pred = classifier.predict(X_train)\n",
    "train_accuracy = accuracy_score(y_train, y_train_pred)\n",
    "print(f\"Training Accuracy: {train_accuracy*100:.2f}%\")\n",
    "\n",
    "# Test\n",
    "y_pred = classifier.predict(X_test)\n",
    "accuracy = accuracy_score(y_test, y_pred)\n",
    "print(f\"Test Accuracy on Tuned: {accuracy*100:.2f}%\")"
   ]
  },
  {
   "cell_type": "code",
   "execution_count": 33,
   "id": "426e40bf",
   "metadata": {},
   "outputs": [
    {
     "name": "stdout",
     "output_type": "stream",
     "text": [
      "      speed  outreach_ratio  mean_acceleration  distance_traveled  actual  \\\n",
      "0  5.685658        0.091999           0.359992        2120.843568       0   \n",
      "1  1.284351        0.277433           0.199595         904.329060       0   \n",
      "2  1.357269        0.204141           0.130170        4665.668347       1   \n",
      "3  4.808747        0.101014           0.418331        8253.542556       1   \n",
      "4  3.796143        0.029767           0.380977        3060.875314       0   \n",
      "\n",
      "   predicted  is_test  \n",
      "0          0      0.0  \n",
      "1          0      0.0  \n",
      "2          0      0.0  \n",
      "3          1      0.0  \n",
      "4          0      0.0  \n"
     ]
    }
   ],
   "source": [
    "X_combined = np.vstack((X_train.values, X_test.values))  # Convert DataFrame to NumPy array and stack\n",
    "y_combined = np.hstack((y_train, y_test))  # Combine labels\n",
    "y_pred_combined = np.hstack((y_train_pred, y_pred))\n",
    "is_test = np.hstack((np.zeros(len(X_train)), np.ones(len(X_test))))\n",
    "column_names = X_train.columns\n",
    "df_X_combined = pd.DataFrame(X_combined, columns=column_names)\n",
    "df_y_combined = pd.DataFrame({\n",
    "    'actual': y_combined,\n",
    "    'predicted': y_pred_combined,\n",
    "    'is_test': is_test\n",
    "})\n",
    "df_combined = pd.concat([df_X_combined, df_y_combined], axis=1)\n",
    "print(df_combined.head())"
   ]
  },
  {
   "cell_type": "code",
   "execution_count": 34,
   "id": "62a4e358",
   "metadata": {},
   "outputs": [
    {
     "name": "stdout",
     "output_type": "stream",
     "text": [
      "Combined Accuracy (DONT USE): 79.17%\n"
     ]
    }
   ],
   "source": [
    "y_actual = df_combined['actual']\n",
    "y_predicted = df_combined['predicted']\n",
    "accuracy = accuracy_score(y_actual, y_predicted)\n",
    "print(f\"Combined Accuracy (DONT USE): {accuracy*100:.2f}%\")"
   ]
  },
  {
   "cell_type": "code",
   "execution_count": 35,
   "id": "4f2135e5",
   "metadata": {},
   "outputs": [
    {
     "name": "stdout",
     "output_type": "stream",
     "text": [
      "Number of test samples: 66.0\n",
      "Number of training samples: 587.0\n"
     ]
    }
   ],
   "source": [
    "test_count = df_combined['is_test'].sum()\n",
    "print(f\"Number of test samples: {test_count}\")\n",
    "\n",
    "train_count = len(df_combined) - test_count\n",
    "print(f\"Number of training samples: {train_count}\")"
   ]
  },
  {
   "cell_type": "markdown",
   "id": "24013404",
   "metadata": {},
   "source": [
    "### 8. Dump DT"
   ]
  },
  {
   "cell_type": "code",
   "execution_count": 36,
   "id": "2386a6c7",
   "metadata": {},
   "outputs": [
    {
     "data": {
      "text/html": [
       "<style>#sk-container-id-1 {\n",
       "  /* Definition of color scheme common for light and dark mode */\n",
       "  --sklearn-color-text: black;\n",
       "  --sklearn-color-line: gray;\n",
       "  /* Definition of color scheme for unfitted estimators */\n",
       "  --sklearn-color-unfitted-level-0: #fff5e6;\n",
       "  --sklearn-color-unfitted-level-1: #f6e4d2;\n",
       "  --sklearn-color-unfitted-level-2: #ffe0b3;\n",
       "  --sklearn-color-unfitted-level-3: chocolate;\n",
       "  /* Definition of color scheme for fitted estimators */\n",
       "  --sklearn-color-fitted-level-0: #f0f8ff;\n",
       "  --sklearn-color-fitted-level-1: #d4ebff;\n",
       "  --sklearn-color-fitted-level-2: #b3dbfd;\n",
       "  --sklearn-color-fitted-level-3: cornflowerblue;\n",
       "\n",
       "  /* Specific color for light theme */\n",
       "  --sklearn-color-text-on-default-background: var(--sg-text-color, var(--theme-code-foreground, var(--jp-content-font-color1, black)));\n",
       "  --sklearn-color-background: var(--sg-background-color, var(--theme-background, var(--jp-layout-color0, white)));\n",
       "  --sklearn-color-border-box: var(--sg-text-color, var(--theme-code-foreground, var(--jp-content-font-color1, black)));\n",
       "  --sklearn-color-icon: #696969;\n",
       "\n",
       "  @media (prefers-color-scheme: dark) {\n",
       "    /* Redefinition of color scheme for dark theme */\n",
       "    --sklearn-color-text-on-default-background: var(--sg-text-color, var(--theme-code-foreground, var(--jp-content-font-color1, white)));\n",
       "    --sklearn-color-background: var(--sg-background-color, var(--theme-background, var(--jp-layout-color0, #111)));\n",
       "    --sklearn-color-border-box: var(--sg-text-color, var(--theme-code-foreground, var(--jp-content-font-color1, white)));\n",
       "    --sklearn-color-icon: #878787;\n",
       "  }\n",
       "}\n",
       "\n",
       "#sk-container-id-1 {\n",
       "  color: var(--sklearn-color-text);\n",
       "}\n",
       "\n",
       "#sk-container-id-1 pre {\n",
       "  padding: 0;\n",
       "}\n",
       "\n",
       "#sk-container-id-1 input.sk-hidden--visually {\n",
       "  border: 0;\n",
       "  clip: rect(1px 1px 1px 1px);\n",
       "  clip: rect(1px, 1px, 1px, 1px);\n",
       "  height: 1px;\n",
       "  margin: -1px;\n",
       "  overflow: hidden;\n",
       "  padding: 0;\n",
       "  position: absolute;\n",
       "  width: 1px;\n",
       "}\n",
       "\n",
       "#sk-container-id-1 div.sk-dashed-wrapped {\n",
       "  border: 1px dashed var(--sklearn-color-line);\n",
       "  margin: 0 0.4em 0.5em 0.4em;\n",
       "  box-sizing: border-box;\n",
       "  padding-bottom: 0.4em;\n",
       "  background-color: var(--sklearn-color-background);\n",
       "}\n",
       "\n",
       "#sk-container-id-1 div.sk-container {\n",
       "  /* jupyter's `normalize.less` sets `[hidden] { display: none; }`\n",
       "     but bootstrap.min.css set `[hidden] { display: none !important; }`\n",
       "     so we also need the `!important` here to be able to override the\n",
       "     default hidden behavior on the sphinx rendered scikit-learn.org.\n",
       "     See: https://github.com/scikit-learn/scikit-learn/issues/21755 */\n",
       "  display: inline-block !important;\n",
       "  position: relative;\n",
       "}\n",
       "\n",
       "#sk-container-id-1 div.sk-text-repr-fallback {\n",
       "  display: none;\n",
       "}\n",
       "\n",
       "div.sk-parallel-item,\n",
       "div.sk-serial,\n",
       "div.sk-item {\n",
       "  /* draw centered vertical line to link estimators */\n",
       "  background-image: linear-gradient(var(--sklearn-color-text-on-default-background), var(--sklearn-color-text-on-default-background));\n",
       "  background-size: 2px 100%;\n",
       "  background-repeat: no-repeat;\n",
       "  background-position: center center;\n",
       "}\n",
       "\n",
       "/* Parallel-specific style estimator block */\n",
       "\n",
       "#sk-container-id-1 div.sk-parallel-item::after {\n",
       "  content: \"\";\n",
       "  width: 100%;\n",
       "  border-bottom: 2px solid var(--sklearn-color-text-on-default-background);\n",
       "  flex-grow: 1;\n",
       "}\n",
       "\n",
       "#sk-container-id-1 div.sk-parallel {\n",
       "  display: flex;\n",
       "  align-items: stretch;\n",
       "  justify-content: center;\n",
       "  background-color: var(--sklearn-color-background);\n",
       "  position: relative;\n",
       "}\n",
       "\n",
       "#sk-container-id-1 div.sk-parallel-item {\n",
       "  display: flex;\n",
       "  flex-direction: column;\n",
       "}\n",
       "\n",
       "#sk-container-id-1 div.sk-parallel-item:first-child::after {\n",
       "  align-self: flex-end;\n",
       "  width: 50%;\n",
       "}\n",
       "\n",
       "#sk-container-id-1 div.sk-parallel-item:last-child::after {\n",
       "  align-self: flex-start;\n",
       "  width: 50%;\n",
       "}\n",
       "\n",
       "#sk-container-id-1 div.sk-parallel-item:only-child::after {\n",
       "  width: 0;\n",
       "}\n",
       "\n",
       "/* Serial-specific style estimator block */\n",
       "\n",
       "#sk-container-id-1 div.sk-serial {\n",
       "  display: flex;\n",
       "  flex-direction: column;\n",
       "  align-items: center;\n",
       "  background-color: var(--sklearn-color-background);\n",
       "  padding-right: 1em;\n",
       "  padding-left: 1em;\n",
       "}\n",
       "\n",
       "\n",
       "/* Toggleable style: style used for estimator/Pipeline/ColumnTransformer box that is\n",
       "clickable and can be expanded/collapsed.\n",
       "- Pipeline and ColumnTransformer use this feature and define the default style\n",
       "- Estimators will overwrite some part of the style using the `sk-estimator` class\n",
       "*/\n",
       "\n",
       "/* Pipeline and ColumnTransformer style (default) */\n",
       "\n",
       "#sk-container-id-1 div.sk-toggleable {\n",
       "  /* Default theme specific background. It is overwritten whether we have a\n",
       "  specific estimator or a Pipeline/ColumnTransformer */\n",
       "  background-color: var(--sklearn-color-background);\n",
       "}\n",
       "\n",
       "/* Toggleable label */\n",
       "#sk-container-id-1 label.sk-toggleable__label {\n",
       "  cursor: pointer;\n",
       "  display: block;\n",
       "  width: 100%;\n",
       "  margin-bottom: 0;\n",
       "  padding: 0.5em;\n",
       "  box-sizing: border-box;\n",
       "  text-align: center;\n",
       "}\n",
       "\n",
       "#sk-container-id-1 label.sk-toggleable__label-arrow:before {\n",
       "  /* Arrow on the left of the label */\n",
       "  content: \"▸\";\n",
       "  float: left;\n",
       "  margin-right: 0.25em;\n",
       "  color: var(--sklearn-color-icon);\n",
       "}\n",
       "\n",
       "#sk-container-id-1 label.sk-toggleable__label-arrow:hover:before {\n",
       "  color: var(--sklearn-color-text);\n",
       "}\n",
       "\n",
       "/* Toggleable content - dropdown */\n",
       "\n",
       "#sk-container-id-1 div.sk-toggleable__content {\n",
       "  max-height: 0;\n",
       "  max-width: 0;\n",
       "  overflow: hidden;\n",
       "  text-align: left;\n",
       "  /* unfitted */\n",
       "  background-color: var(--sklearn-color-unfitted-level-0);\n",
       "}\n",
       "\n",
       "#sk-container-id-1 div.sk-toggleable__content.fitted {\n",
       "  /* fitted */\n",
       "  background-color: var(--sklearn-color-fitted-level-0);\n",
       "}\n",
       "\n",
       "#sk-container-id-1 div.sk-toggleable__content pre {\n",
       "  margin: 0.2em;\n",
       "  border-radius: 0.25em;\n",
       "  color: var(--sklearn-color-text);\n",
       "  /* unfitted */\n",
       "  background-color: var(--sklearn-color-unfitted-level-0);\n",
       "}\n",
       "\n",
       "#sk-container-id-1 div.sk-toggleable__content.fitted pre {\n",
       "  /* unfitted */\n",
       "  background-color: var(--sklearn-color-fitted-level-0);\n",
       "}\n",
       "\n",
       "#sk-container-id-1 input.sk-toggleable__control:checked~div.sk-toggleable__content {\n",
       "  /* Expand drop-down */\n",
       "  max-height: 200px;\n",
       "  max-width: 100%;\n",
       "  overflow: auto;\n",
       "}\n",
       "\n",
       "#sk-container-id-1 input.sk-toggleable__control:checked~label.sk-toggleable__label-arrow:before {\n",
       "  content: \"▾\";\n",
       "}\n",
       "\n",
       "/* Pipeline/ColumnTransformer-specific style */\n",
       "\n",
       "#sk-container-id-1 div.sk-label input.sk-toggleable__control:checked~label.sk-toggleable__label {\n",
       "  color: var(--sklearn-color-text);\n",
       "  background-color: var(--sklearn-color-unfitted-level-2);\n",
       "}\n",
       "\n",
       "#sk-container-id-1 div.sk-label.fitted input.sk-toggleable__control:checked~label.sk-toggleable__label {\n",
       "  background-color: var(--sklearn-color-fitted-level-2);\n",
       "}\n",
       "\n",
       "/* Estimator-specific style */\n",
       "\n",
       "/* Colorize estimator box */\n",
       "#sk-container-id-1 div.sk-estimator input.sk-toggleable__control:checked~label.sk-toggleable__label {\n",
       "  /* unfitted */\n",
       "  background-color: var(--sklearn-color-unfitted-level-2);\n",
       "}\n",
       "\n",
       "#sk-container-id-1 div.sk-estimator.fitted input.sk-toggleable__control:checked~label.sk-toggleable__label {\n",
       "  /* fitted */\n",
       "  background-color: var(--sklearn-color-fitted-level-2);\n",
       "}\n",
       "\n",
       "#sk-container-id-1 div.sk-label label.sk-toggleable__label,\n",
       "#sk-container-id-1 div.sk-label label {\n",
       "  /* The background is the default theme color */\n",
       "  color: var(--sklearn-color-text-on-default-background);\n",
       "}\n",
       "\n",
       "/* On hover, darken the color of the background */\n",
       "#sk-container-id-1 div.sk-label:hover label.sk-toggleable__label {\n",
       "  color: var(--sklearn-color-text);\n",
       "  background-color: var(--sklearn-color-unfitted-level-2);\n",
       "}\n",
       "\n",
       "/* Label box, darken color on hover, fitted */\n",
       "#sk-container-id-1 div.sk-label.fitted:hover label.sk-toggleable__label.fitted {\n",
       "  color: var(--sklearn-color-text);\n",
       "  background-color: var(--sklearn-color-fitted-level-2);\n",
       "}\n",
       "\n",
       "/* Estimator label */\n",
       "\n",
       "#sk-container-id-1 div.sk-label label {\n",
       "  font-family: monospace;\n",
       "  font-weight: bold;\n",
       "  display: inline-block;\n",
       "  line-height: 1.2em;\n",
       "}\n",
       "\n",
       "#sk-container-id-1 div.sk-label-container {\n",
       "  text-align: center;\n",
       "}\n",
       "\n",
       "/* Estimator-specific */\n",
       "#sk-container-id-1 div.sk-estimator {\n",
       "  font-family: monospace;\n",
       "  border: 1px dotted var(--sklearn-color-border-box);\n",
       "  border-radius: 0.25em;\n",
       "  box-sizing: border-box;\n",
       "  margin-bottom: 0.5em;\n",
       "  /* unfitted */\n",
       "  background-color: var(--sklearn-color-unfitted-level-0);\n",
       "}\n",
       "\n",
       "#sk-container-id-1 div.sk-estimator.fitted {\n",
       "  /* fitted */\n",
       "  background-color: var(--sklearn-color-fitted-level-0);\n",
       "}\n",
       "\n",
       "/* on hover */\n",
       "#sk-container-id-1 div.sk-estimator:hover {\n",
       "  /* unfitted */\n",
       "  background-color: var(--sklearn-color-unfitted-level-2);\n",
       "}\n",
       "\n",
       "#sk-container-id-1 div.sk-estimator.fitted:hover {\n",
       "  /* fitted */\n",
       "  background-color: var(--sklearn-color-fitted-level-2);\n",
       "}\n",
       "\n",
       "/* Specification for estimator info (e.g. \"i\" and \"?\") */\n",
       "\n",
       "/* Common style for \"i\" and \"?\" */\n",
       "\n",
       ".sk-estimator-doc-link,\n",
       "a:link.sk-estimator-doc-link,\n",
       "a:visited.sk-estimator-doc-link {\n",
       "  float: right;\n",
       "  font-size: smaller;\n",
       "  line-height: 1em;\n",
       "  font-family: monospace;\n",
       "  background-color: var(--sklearn-color-background);\n",
       "  border-radius: 1em;\n",
       "  height: 1em;\n",
       "  width: 1em;\n",
       "  text-decoration: none !important;\n",
       "  margin-left: 1ex;\n",
       "  /* unfitted */\n",
       "  border: var(--sklearn-color-unfitted-level-1) 1pt solid;\n",
       "  color: var(--sklearn-color-unfitted-level-1);\n",
       "}\n",
       "\n",
       ".sk-estimator-doc-link.fitted,\n",
       "a:link.sk-estimator-doc-link.fitted,\n",
       "a:visited.sk-estimator-doc-link.fitted {\n",
       "  /* fitted */\n",
       "  border: var(--sklearn-color-fitted-level-1) 1pt solid;\n",
       "  color: var(--sklearn-color-fitted-level-1);\n",
       "}\n",
       "\n",
       "/* On hover */\n",
       "div.sk-estimator:hover .sk-estimator-doc-link:hover,\n",
       ".sk-estimator-doc-link:hover,\n",
       "div.sk-label-container:hover .sk-estimator-doc-link:hover,\n",
       ".sk-estimator-doc-link:hover {\n",
       "  /* unfitted */\n",
       "  background-color: var(--sklearn-color-unfitted-level-3);\n",
       "  color: var(--sklearn-color-background);\n",
       "  text-decoration: none;\n",
       "}\n",
       "\n",
       "div.sk-estimator.fitted:hover .sk-estimator-doc-link.fitted:hover,\n",
       ".sk-estimator-doc-link.fitted:hover,\n",
       "div.sk-label-container:hover .sk-estimator-doc-link.fitted:hover,\n",
       ".sk-estimator-doc-link.fitted:hover {\n",
       "  /* fitted */\n",
       "  background-color: var(--sklearn-color-fitted-level-3);\n",
       "  color: var(--sklearn-color-background);\n",
       "  text-decoration: none;\n",
       "}\n",
       "\n",
       "/* Span, style for the box shown on hovering the info icon */\n",
       ".sk-estimator-doc-link span {\n",
       "  display: none;\n",
       "  z-index: 9999;\n",
       "  position: relative;\n",
       "  font-weight: normal;\n",
       "  right: .2ex;\n",
       "  padding: .5ex;\n",
       "  margin: .5ex;\n",
       "  width: min-content;\n",
       "  min-width: 20ex;\n",
       "  max-width: 50ex;\n",
       "  color: var(--sklearn-color-text);\n",
       "  box-shadow: 2pt 2pt 4pt #999;\n",
       "  /* unfitted */\n",
       "  background: var(--sklearn-color-unfitted-level-0);\n",
       "  border: .5pt solid var(--sklearn-color-unfitted-level-3);\n",
       "}\n",
       "\n",
       ".sk-estimator-doc-link.fitted span {\n",
       "  /* fitted */\n",
       "  background: var(--sklearn-color-fitted-level-0);\n",
       "  border: var(--sklearn-color-fitted-level-3);\n",
       "}\n",
       "\n",
       ".sk-estimator-doc-link:hover span {\n",
       "  display: block;\n",
       "}\n",
       "\n",
       "/* \"?\"-specific style due to the `<a>` HTML tag */\n",
       "\n",
       "#sk-container-id-1 a.estimator_doc_link {\n",
       "  float: right;\n",
       "  font-size: 1rem;\n",
       "  line-height: 1em;\n",
       "  font-family: monospace;\n",
       "  background-color: var(--sklearn-color-background);\n",
       "  border-radius: 1rem;\n",
       "  height: 1rem;\n",
       "  width: 1rem;\n",
       "  text-decoration: none;\n",
       "  /* unfitted */\n",
       "  color: var(--sklearn-color-unfitted-level-1);\n",
       "  border: var(--sklearn-color-unfitted-level-1) 1pt solid;\n",
       "}\n",
       "\n",
       "#sk-container-id-1 a.estimator_doc_link.fitted {\n",
       "  /* fitted */\n",
       "  border: var(--sklearn-color-fitted-level-1) 1pt solid;\n",
       "  color: var(--sklearn-color-fitted-level-1);\n",
       "}\n",
       "\n",
       "/* On hover */\n",
       "#sk-container-id-1 a.estimator_doc_link:hover {\n",
       "  /* unfitted */\n",
       "  background-color: var(--sklearn-color-unfitted-level-3);\n",
       "  color: var(--sklearn-color-background);\n",
       "  text-decoration: none;\n",
       "}\n",
       "\n",
       "#sk-container-id-1 a.estimator_doc_link.fitted:hover {\n",
       "  /* fitted */\n",
       "  background-color: var(--sklearn-color-fitted-level-3);\n",
       "}\n",
       "</style><div id=\"sk-container-id-1\" class=\"sk-top-container\"><div class=\"sk-text-repr-fallback\"><pre>DecisionTreeClassifier(max_depth=5, min_samples_leaf=50, min_samples_split=100,\n",
       "                       random_state=0)</pre><b>In a Jupyter environment, please rerun this cell to show the HTML representation or trust the notebook. <br />On GitHub, the HTML representation is unable to render, please try loading this page with nbviewer.org.</b></div><div class=\"sk-container\" hidden><div class=\"sk-item\"><div class=\"sk-estimator fitted sk-toggleable\"><input class=\"sk-toggleable__control sk-hidden--visually\" id=\"sk-estimator-id-1\" type=\"checkbox\" checked><label for=\"sk-estimator-id-1\" class=\"sk-toggleable__label fitted sk-toggleable__label-arrow fitted\">&nbsp;&nbsp;DecisionTreeClassifier<a class=\"sk-estimator-doc-link fitted\" rel=\"noreferrer\" target=\"_blank\" href=\"https://scikit-learn.org/1.4/modules/generated/sklearn.tree.DecisionTreeClassifier.html\">?<span>Documentation for DecisionTreeClassifier</span></a><span class=\"sk-estimator-doc-link fitted\">i<span>Fitted</span></span></label><div class=\"sk-toggleable__content fitted\"><pre>DecisionTreeClassifier(max_depth=5, min_samples_leaf=50, min_samples_split=100,\n",
       "                       random_state=0)</pre></div> </div></div></div></div>"
      ],
      "text/plain": [
       "DecisionTreeClassifier(max_depth=5, min_samples_leaf=50, min_samples_split=100,\n",
       "                       random_state=0)"
      ]
     },
     "execution_count": 36,
     "metadata": {},
     "output_type": "execute_result"
    }
   ],
   "source": [
    "# Re-init\n",
    "classifier = DecisionTreeClassifier(random_state=0, \n",
    "                                   criterion=best_criteria,\n",
    "                                   max_depth=best_max_depth,\n",
    "                                   min_samples_split=best_min_samples_split,\n",
    "                                   min_samples_leaf=best_min_samples_leaf)\n",
    "classifier.fit(X_train, y_train)"
   ]
  },
  {
   "cell_type": "code",
   "execution_count": 37,
   "id": "fcf92b30",
   "metadata": {},
   "outputs": [],
   "source": [
    "# Imports\n",
    "from sklearn.tree import export_graphviz\n",
    "\n",
    "# Copy Results to Viewer like https://dreampuf.github.io/GraphvizOnline\n",
    "feature_names = X_train.columns.tolist()\n",
    "#export_graphviz(classifier, feature_names=feature_names, out_file='decision_tree_disincludeIDs.dot')"
   ]
  },
  {
   "cell_type": "code",
   "execution_count": 38,
   "id": "7bfc4a45",
   "metadata": {},
   "outputs": [
    {
     "name": "stdout",
     "output_type": "stream",
     "text": [
      "        speed  outreach_ratio  mean_acceleration  distance_traveled\n",
      "577  5.685658        0.091999           0.359992        2120.843568\n",
      "633  1.284351        0.277433           0.199595         904.329060\n",
      "357  1.357269        0.204141           0.130170        4665.668347\n",
      "165  4.808747        0.101014           0.418331        8253.542556\n",
      "611  3.796143        0.029767           0.380977        3060.875314\n",
      "..        ...             ...                ...                ...\n",
      "71   4.469454        0.203392           0.302483        2615.042270\n",
      "106  6.848159        0.132124           0.575422        9637.132413\n",
      "270  3.656903        0.747736           0.223323        1204.035349\n",
      "435  5.095371        0.219034           0.498550        5763.261859\n",
      "102  3.889388        0.408020           0.327125        2084.076719\n",
      "\n",
      "[587 rows x 4 columns]\n"
     ]
    }
   ],
   "source": [
    "# Print X_train for Reference\n",
    "print(X_train)"
   ]
  },
  {
   "cell_type": "code",
   "execution_count": 39,
   "id": "41acf02a",
   "metadata": {},
   "outputs": [
    {
     "data": {
      "text/plain": [
       "[Text(0.6538461538461539, 0.9166666666666666, 'mean_acceleration <= 0.384\\ngini = 0.46\\nsamples = 587\\nvalue = [376.0, 211.0]'),\n",
       " Text(0.46153846153846156, 0.75, 'distance_traveled <= 5393.645\\ngini = 0.378\\nsamples = 466\\nvalue = [348, 118]'),\n",
       " Text(0.3076923076923077, 0.5833333333333334, 'mean_acceleration <= 0.316\\ngini = 0.239\\nsamples = 260\\nvalue = [224, 36]'),\n",
       " Text(0.23076923076923078, 0.4166666666666667, 'distance_traveled <= 4332.171\\ngini = 0.167\\nsamples = 196\\nvalue = [178, 18]'),\n",
       " Text(0.15384615384615385, 0.25, 'outreach_ratio <= 0.254\\ngini = 0.118\\nsamples = 143\\nvalue = [134, 9]'),\n",
       " Text(0.07692307692307693, 0.08333333333333333, 'gini = 0.071\\nsamples = 81\\nvalue = [78, 3]'),\n",
       " Text(0.23076923076923078, 0.08333333333333333, 'gini = 0.175\\nsamples = 62\\nvalue = [56, 6]'),\n",
       " Text(0.3076923076923077, 0.25, 'gini = 0.282\\nsamples = 53\\nvalue = [44, 9]'),\n",
       " Text(0.38461538461538464, 0.4166666666666667, 'gini = 0.404\\nsamples = 64\\nvalue = [46, 18]'),\n",
       " Text(0.6153846153846154, 0.5833333333333334, 'speed <= 3.241\\ngini = 0.479\\nsamples = 206\\nvalue = [124.0, 82.0]'),\n",
       " Text(0.5384615384615384, 0.4166666666666667, 'speed <= 2.489\\ngini = 0.405\\nsamples = 149\\nvalue = [107, 42]'),\n",
       " Text(0.46153846153846156, 0.25, 'gini = 0.344\\nsamples = 86\\nvalue = [67, 19]'),\n",
       " Text(0.6153846153846154, 0.25, 'gini = 0.464\\nsamples = 63\\nvalue = [40, 23]'),\n",
       " Text(0.6923076923076923, 0.4166666666666667, 'gini = 0.419\\nsamples = 57\\nvalue = [17, 40]'),\n",
       " Text(0.8461538461538461, 0.75, 'distance_traveled <= 6081.939\\ngini = 0.356\\nsamples = 121\\nvalue = [28, 93]'),\n",
       " Text(0.7692307692307693, 0.5833333333333334, 'gini = 0.457\\nsamples = 68\\nvalue = [24, 44]'),\n",
       " Text(0.9230769230769231, 0.5833333333333334, 'gini = 0.14\\nsamples = 53\\nvalue = [4, 49]')]"
      ]
     },
     "execution_count": 39,
     "metadata": {},
     "output_type": "execute_result"
    },
    {
     "data": {
      "image/png": "[encoded data removed]",
      "text/plain": [
       "<Figure size 640x480 with 1 Axes>"
      ]
     },
     "metadata": {},
     "output_type": "display_data"
    }
   ],
   "source": [
    "# Imports\n",
    "from sklearn.tree import plot_tree\n",
    "\n",
    "decision_tree_clf = DecisionTreeClassifier(random_state=0, \n",
    "                                   criterion=best_criteria,\n",
    "                                   max_depth=best_max_depth,\n",
    "                                   min_samples_split=best_min_samples_split,\n",
    "                                   min_samples_leaf=best_min_samples_leaf)\n",
    "decision_tree_clf.fit(X_train, y_train)\n",
    "\n",
    "# Visualize Here\n",
    "feature_names = X_train.columns.tolist()\n",
    "plot_tree(decision_tree_clf, feature_names=feature_names)"
   ]
  },
  {
   "cell_type": "code",
   "execution_count": 40,
   "id": "22ba3130",
   "metadata": {},
   "outputs": [
    {
     "name": "stdout",
     "output_type": "stream",
     "text": [
      "The binary tree structure has 17 nodes and has the following tree structure:\n",
      "\n",
      "node=0 is a split node with value=[[0.64054514 0.35945486]]: go to node 1 if X[:, 2] <= 0.3841192424297333 else to node 14.\n",
      "\tnode=1 is a split node with value=[[0.74678112 0.25321888]]: go to node 2 if X[:, 3] <= 5393.645263671875 else to node 9.\n",
      "\t\tnode=2 is a split node with value=[[0.86153846 0.13846154]]: go to node 3 if X[:, 2] <= 0.31634092330932617 else to node 8.\n",
      "\t\t\tnode=3 is a split node with value=[[0.90816327 0.09183673]]: go to node 4 if X[:, 3] <= 4332.1708984375 else to node 7.\n",
      "\t\t\t\tnode=4 is a split node with value=[[0.93706294 0.06293706]]: go to node 5 if X[:, 1] <= 0.25399942696094513 else to node 6.\n",
      "\t\t\t\t\tnode=5 is a leaf node with value=[[0.96296296 0.03703704]].\n",
      "\t\t\t\t\tnode=6 is a leaf node with value=[[0.90322581 0.09677419]].\n",
      "\t\t\t\tnode=7 is a leaf node with value=[[0.83018868 0.16981132]].\n",
      "\t\t\tnode=8 is a leaf node with value=[[0.71875 0.28125]].\n",
      "\t\tnode=9 is a split node with value=[[0.60194175 0.39805825]]: go to node 10 if X[:, 0] <= 3.240545392036438 else to node 13.\n",
      "\t\t\tnode=10 is a split node with value=[[0.71812081 0.28187919]]: go to node 11 if X[:, 0] <= 2.488657236099243 else to node 12.\n",
      "\t\t\t\tnode=11 is a leaf node with value=[[0.77906977 0.22093023]].\n",
      "\t\t\t\tnode=12 is a leaf node with value=[[0.63492063 0.36507937]].\n",
      "\t\t\tnode=13 is a leaf node with value=[[0.29824561 0.70175439]].\n",
      "\tnode=14 is a split node with value=[[0.23140496 0.76859504]]: go to node 15 if X[:, 3] <= 6081.939453125 else to node 16.\n",
      "\t\tnode=15 is a leaf node with value=[[0.35294118 0.64705882]].\n",
      "\t\tnode=16 is a leaf node with value=[[0.0754717 0.9245283]].\n"
     ]
    }
   ],
   "source": [
    "# Explain with Words\n",
    "# Source: https://scikit-learn.org/stable/auto_examples/tree/plot_unveil_tree_structure.html#sphx-glr-auto-examples-tree-plot-unveil-tree-structure-py\n",
    "decision_tree_clf = DecisionTreeClassifier(random_state=0, \n",
    "                                   criterion=best_criteria,\n",
    "                                   max_depth=best_max_depth,\n",
    "                                   min_samples_split=best_min_samples_split,\n",
    "                                   min_samples_leaf=best_min_samples_leaf)\n",
    "decision_tree_clf.fit(X_train, y_train)\n",
    "clf = decision_tree_clf\n",
    "n_nodes = clf.tree_.node_count\n",
    "children_left = clf.tree_.children_left\n",
    "children_right = clf.tree_.children_right\n",
    "feature = clf.tree_.feature\n",
    "threshold = clf.tree_.threshold\n",
    "values = clf.tree_.value\n",
    "\n",
    "node_depth = np.zeros(shape=n_nodes, dtype=np.int64)\n",
    "is_leaves = np.zeros(shape=n_nodes, dtype=bool)\n",
    "stack = [(0, 0)]  # start with the root node id (0) and its depth (0)\n",
    "while len(stack) > 0:\n",
    "    # `pop` ensures each node is only visited once\n",
    "    node_id, depth = stack.pop()\n",
    "    node_depth[node_id] = depth\n",
    "\n",
    "    # If the left and right child of a node is not the same we have a split\n",
    "    # node\n",
    "    is_split_node = children_left[node_id] != children_right[node_id]\n",
    "    # If a split node, append left and right children and depth to `stack`\n",
    "    # so we can loop through them\n",
    "    if is_split_node:\n",
    "        stack.append((children_left[node_id], depth + 1))\n",
    "        stack.append((children_right[node_id], depth + 1))\n",
    "    else:\n",
    "        is_leaves[node_id] = True\n",
    "\n",
    "print(\n",
    "    \"The binary tree structure has {n} nodes and has \"\n",
    "    \"the following tree structure:\\n\".format(n=n_nodes)\n",
    ")\n",
    "for i in range(n_nodes):\n",
    "    if is_leaves[i]:\n",
    "        print(\n",
    "            \"{space}node={node} is a leaf node with value={value}.\".format(\n",
    "                space=node_depth[i] * \"\\t\", node=i, value=values[i]\n",
    "            )\n",
    "        )\n",
    "    else:\n",
    "        print(\n",
    "            \"{space}node={node} is a split node with value={value}: \"\n",
    "            \"go to node {left} if X[:, {feature}] <= {threshold} \"\n",
    "            \"else to node {right}.\".format(\n",
    "                space=node_depth[i] * \"\\t\",\n",
    "                node=i,\n",
    "                left=children_left[i],\n",
    "                feature=feature[i],\n",
    "                threshold=threshold[i],\n",
    "                right=children_right[i],\n",
    "                value=values[i],\n",
    "            )\n",
    "        )"
   ]
  },
  {
   "cell_type": "markdown",
   "id": "2d0d306e",
   "metadata": {},
   "source": [
    "### 9. Check DT using Rules Learned"
   ]
  },
  {
   "cell_type": "code",
   "execution_count": 41,
   "id": "e89d9175",
   "metadata": {},
   "outputs": [
    {
     "name": "stdout",
     "output_type": "stream",
     "text": [
      "Train Accuracy: 79.05%\n",
      "Test Accuracy: 80.30%\n"
     ]
    }
   ],
   "source": [
    "# Ensure the columns are numeric, coercing errors\n",
    "X_train['mean_acceleration'] = pd.to_numeric(X_train['mean_acceleration'], errors='coerce')\n",
    "X_train['distance_traveled'] = pd.to_numeric(X_train['distance_traveled'], errors='coerce')\n",
    "X_train['speed'] = pd.to_numeric(X_train['speed'], errors='coerce')\n",
    "\n",
    "X_test['mean_acceleration'] = pd.to_numeric(X_test['mean_acceleration'], errors='coerce')\n",
    "X_test['distance_traveled'] = pd.to_numeric(X_test['distance_traveled'], errors='coerce')\n",
    "X_test['speed'] = pd.to_numeric(X_test['speed'], errors='coerce')\n",
    "\n",
    "# Drop rows with NaN values (optional)\n",
    "X_train = X_train.dropna()\n",
    "X_test = X_test.dropna()\n",
    "\n",
    "# Ensure corresponding y values are also dropped\n",
    "y_train = y_train[X_train.index]\n",
    "y_test = y_test[X_test.index]\n",
    "\n",
    "# Define the prediction function\n",
    "def predict_gender_2(mean_acceleration, distance_traveled, speed):\n",
    "    if mean_acceleration > 0.38412:\n",
    "        return 'male'\n",
    "    elif distance_traveled <= 5393.64526:\n",
    "        return 'female'\n",
    "    elif mean_acceleration <= 0.38412 and distance_traveled > 5393.64526 and speed <= 3.24055:\n",
    "        return 'female'\n",
    "    else:\n",
    "        return 'male'\n",
    "\n",
    "# Apply the decision rules to the training and test sets\n",
    "y_pred_train_2 = X_train.apply(lambda row: predict_gender_2(row['mean_acceleration'], row['distance_traveled'], row['speed']), axis=1)\n",
    "y_pred_test_2 = X_test.apply(lambda row: predict_gender_2(row['mean_acceleration'], row['distance_traveled'], row['speed']), axis=1)\n",
    "\n",
    "# Map categorical predictions to numeric labels\n",
    "label_mapping_2 = {'male': 1, 'female': 0}\n",
    "y_pred_train_numeric_2 = y_pred_train_2.map(label_mapping_2)\n",
    "y_pred_test_numeric_2 = y_pred_test_2.map(label_mapping_2)\n",
    "\n",
    "# Calculate accuracy\n",
    "train_accuracy_2 = accuracy_score(y_train, y_pred_train_numeric_2)\n",
    "test_accuracy_2 = accuracy_score(y_test, y_pred_test_numeric_2)\n",
    "\n",
    "print(f\"Train Accuracy: {train_accuracy_2 * 100:.2f}%\")\n",
    "print(f\"Test Accuracy: {test_accuracy_2 * 100:.2f}%\")"
   ]
  },
  {
   "cell_type": "code",
   "execution_count": 42,
   "id": "c4efdbcb",
   "metadata": {},
   "outputs": [
    {
     "name": "stdout",
     "output_type": "stream",
     "text": [
      "(587, 4)\n",
      "(66, 4)\n"
     ]
    }
   ],
   "source": [
    "# Confirm Exclusions Applied\n",
    "print(X_train.shape)\n",
    "print(X_test.shape)"
   ]
  },
  {
   "cell_type": "markdown",
   "id": "b602456c",
   "metadata": {},
   "source": [
    "### 10. Run Metrics, Script from Another Anon Author"
   ]
  },
  {
   "cell_type": "code",
   "execution_count": 43,
   "id": "d95faae7",
   "metadata": {},
   "outputs": [],
   "source": [
    "\"\"\"\n",
    "Created on Mon Jun 17 18:01:44 2024\n",
    "\n",
    "@author: removed_for_review\n",
    "\"\"\"\n",
    "\n",
    "class Metrics:\n",
    "    \"\"\"\n",
    "    A class to calculate various metrics for binary classification.\n",
    "\n",
    "    Attributes:\n",
    "        label (array-like): Ground truth binary labels.\n",
    "        predict (array-like): Predicted binary labels.\n",
    "        tp (int): True Positives.\n",
    "        tn (int): True Negatives.\n",
    "        fp (int): False Positives.\n",
    "        fn (int): False Negatives.\n",
    "        total (int): Total number of samples.\n",
    "        pp (float): Proportion of positive samples.\n",
    "        pn (float): Proportion of negative samples.\n",
    "        tpr (float): True Positive Rate (Sensitivity).\n",
    "        tnr (float): True Negative Rate (Specificity).\n",
    "        fpr (float): False Positive Rate.\n",
    "        fnr (float): False Negative Rate.\n",
    "        acc (float): Accuracy.\n",
    "        pprecision (float): Positive Precision.\n",
    "        nprecision (float): Negative Precision.\n",
    "        precall (float): Positive Recall.\n",
    "        nrecall (float): Negative Recall.\n",
    "        pFm (float): Positive F-measure.\n",
    "        nFm (float): Negative F-measure.\n",
    "        bacc (float): Balanced Accuracy.\n",
    "        mcc (float): Matthews Correlation Coefficient.\n",
    "    \"\"\"\n",
    "    def __init__(self, label, predict):\n",
    "        \"\"\"\n",
    "        Initialize the Metrics class with ground truth labels and predictions.\n",
    "\n",
    "        Parameters:\n",
    "            label (array-like): Ground truth binary labels.\n",
    "            predict (array-like): Predicted binary labels.\n",
    "        \"\"\"\n",
    "        print('label=1 is positive, label=0 is negative')\n",
    "        self.label=label\n",
    "        self.predict=predict\n",
    "\n",
    "        self.tp = np.sum((self.label == 1) & (self.predict == 1))\n",
    "        self.tn = np.sum((self.label == 0) & (self.predict == 0))\n",
    "        self.fp = np.sum((self.label == 0) & (self.predict == 1))\n",
    "        self.fn = np.sum((self.label == 1) & (self.predict == 0))\n",
    "\n",
    "        # Rates\n",
    "        self.total=self.tp+self.tn+self.fp+self.fn\n",
    "        self.pp=(self.tp+self.fn)/self.total\n",
    "        self.pn=(self.tn+self.fp)/self.total\n",
    "        self.tpr=self.tp/(self.tp+self.fn)\n",
    "        self.tnr=self.tn/(self.tn+self.fp)\n",
    "        self.fpr=self.fp/(self.tn+self.fp)\n",
    "        self.fnr=self.fn/(self.tp+self.fn)\n",
    "\n",
    "        # General Metrics\n",
    "        self.acc=(self.tp+self.tn)/self.total\n",
    "        self.pprecision=self.tp/(self.tp+self.fp)\n",
    "        self.nprecision=self.tn/(self.tn+self.fn)\n",
    "        self.precall=self.tpr\n",
    "        self.nrecall=self.tnr\n",
    "        self.pFm=2*(self.tp)/(2*self.tp+self.tn+self.fp)\n",
    "        self.nFm=2*(self.tn)/(2*self.tn+self.tp+self.fn)\n",
    "        \n",
    "        # For Unbalanced Datasets\n",
    "        self.bacc=0.5*(self.tpr+self.tnr)\n",
    "        self.mcc=(self.tp*self.tn-self.fp*self.fn)/np.sqrt((self.tp+self.fp)*(self.tp+self.fn)*(self.tn+self.fp)*(self.tn+self.fn))"
   ]
  },
  {
   "cell_type": "code",
   "execution_count": 44,
   "id": "588c4bf8",
   "metadata": {},
   "outputs": [
    {
     "name": "stdout",
     "output_type": "stream",
     "text": [
      "label=1 is positive, label=0 is negative\n",
      "True Positives: 19\n",
      "True Negatives: 34\n",
      "False Positives: 8\n",
      "False Negatives: 5\n",
      "Accuracy: 0.803030303030303\n",
      "Positive Precision: 0.7037037037037037\n",
      "Negative Precision: 0.8717948717948718\n",
      "Positive Recall: 0.7916666666666666\n",
      "Negative Recall: 0.8095238095238095\n",
      "Balanced Accuracy: 0.8005952380952381\n",
      "Matthews Correlation Coefficient: 0.5882042694939653\n"
     ]
    }
   ],
   "source": [
    "label = y_test\n",
    "predict = y_pred\n",
    "metrics = Metrics(label, predict)\n",
    "\n",
    "print(\"True Positives:\", metrics.tp)\n",
    "print(\"True Negatives:\", metrics.tn)\n",
    "print(\"False Positives:\", metrics.fp)\n",
    "print(\"False Negatives:\", metrics.fn)\n",
    "print(\"Accuracy:\", metrics.acc)\n",
    "print(\"Positive Precision:\", metrics.pprecision)\n",
    "print(\"Negative Precision:\", metrics.nprecision)\n",
    "print(\"Positive Recall:\", metrics.precall)\n",
    "print(\"Negative Recall:\", metrics.nrecall)\n",
    "print(\"Balanced Accuracy:\", metrics.bacc)\n",
    "print(\"Matthews Correlation Coefficient:\", metrics.mcc)"
   ]
  },
  {
   "cell_type": "markdown",
   "id": "7fcd3f5d",
   "metadata": {},
   "source": [
    "Sources listed in their associated cells. Some generative ai was used to assist in writing functions. Temporal feature creation was based on https://cran.r-project.org/web/packages/celltrackR/vignettes/clustering.html, as cited in supplemental work."
   ]
  }
 ],
 "metadata": {
  "kernelspec": {
   "display_name": "Python 3 (ipykernel)",
   "language": "python",
   "name": "python3"
  },
  "language_info": {
   "codemirror_mode": {
    "name": "ipython",
    "version": 3
   },
   "file_extension": ".py",
   "mimetype": "text/x-python",
   "name": "python",
   "nbconvert_exporter": "python",
   "pygments_lexer": "ipython3",
   "version": "3.11.5"
  }
 },
 "nbformat": 4,
 "nbformat_minor": 5
}
