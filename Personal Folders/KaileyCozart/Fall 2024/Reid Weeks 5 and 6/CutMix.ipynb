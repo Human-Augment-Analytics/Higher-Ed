{
 "cells": [
  {
   "cell_type": "markdown",
   "id": "03e6ff5e",
   "metadata": {},
   "source": [
    "# Data Augmentation Practice"
   ]
  },
  {
   "cell_type": "markdown",
   "id": "00352620",
   "metadata": {},
   "source": [
    "### Read in Sample Images"
   ]
  },
  {
   "cell_type": "code",
   "execution_count": 1,
   "id": "cf0b20aa",
   "metadata": {},
   "outputs": [],
   "source": [
    "# Imports\n",
    "import torch\n",
    "import numpy as np\n",
    "from PIL import Image\n",
    "from torchvision import transforms\n",
    "\n",
    "# Load Image\n",
    "sample_img_png = Image.open(\"Inputs/mr_marmot_32x32.jpg\")\n",
    "sample_img_png_2 = Image.open(\"Inputs/mr_chipmunk_32x32.jpg\")\n",
    "\n",
    "# This Image is 32x32, But Might Need to Add Resize Code Here\n",
    "\n",
    "# Convert Image to Tensor for MixUp and CutMix\n",
    "### Define Function to Convert Image to Tensor\n",
    "convert_img_to_tensor = transforms.Compose([transforms.ToTensor()])\n",
    "\n",
    "### Call Function, Output of a 32x32 is (3, 32, 32).\n",
    "sample_img_tensor = convert_img_to_tensor(sample_img_png)\n",
    "sample_img_tensor_2 = convert_img_to_tensor(sample_img_png_2)\n",
    "batch_images = torch.stack([sample_img_tensor, sample_img_tensor_2]) \n",
    "\n",
    "# Create a Batch of Images\n",
    "batch_images = torch.stack([sample_img_tensor, sample_img_tensor_2]) \n",
    "\n",
    "# Reduce Saturation using Min-Max Normalization, Normalizing to [0, 1]\n",
    "min_val = torch.min(batch_images)\n",
    "max_val = torch.max(batch_images)\n",
    "batch_images = (batch_images - min_val) / (max_val - min_val + 1e-7)  # Adding epsilon to prevent division by zero\n",
    "\n",
    "# Define Labels\n",
    "labels = torch.tensor([0, 1])"
   ]
  },
  {
   "cell_type": "markdown",
   "id": "b2007851",
   "metadata": {},
   "source": [
    "### Implementing CutMix"
   ]
  },
  {
   "cell_type": "markdown",
   "id": "5b82b089",
   "metadata": {},
   "source": [
    "Cut a portion of one image and paste it onto another."
   ]
  },
  {
   "cell_type": "code",
   "execution_count": 2,
   "id": "9d39c923",
   "metadata": {},
   "outputs": [],
   "source": [
    "\"\"\"\n",
    "Create Random Bounding Box\n",
    "\"\"\"\n",
    "def rand_bbox(size, mixup_lambda):\n",
    "    W = size[2]\n",
    "    H = size[3]\n",
    "    cut_rat = np.sqrt(1. - mixup_lambda)\n",
    "    cut_w = int(W * cut_rat)\n",
    "    cut_h = int(H * cut_rat)\n",
    "\n",
    "    cx = np.random.randint(W)\n",
    "    cy = np.random.randint(H)\n",
    "\n",
    "    bbx1 = np.clip(cx - cut_w // 2, 0, W)\n",
    "    bby1 = np.clip(cy - cut_h // 2, 0, H)\n",
    "    bbx2 = np.clip(cx + cut_w // 2, 0, W)\n",
    "    bby2 = np.clip(cy + cut_h // 2, 0, H)\n",
    "\n",
    "    return bbx1, bby1, bbx2, bby2"
   ]
  },
  {
   "cell_type": "code",
   "execution_count": 3,
   "id": "d2a83de4",
   "metadata": {},
   "outputs": [],
   "source": [
    "\"\"\"\n",
    "Create CutMix Function\n",
    "    x = Tensor Inputs\n",
    "    y = Labels\n",
    "    Higher Alpha = More Mixing\n",
    "\"\"\"\n",
    "def apply_cutmix(x, y, alpha):\n",
    "    if alpha > 0:\n",
    "        # Sample from Beta distribution to get random shape parameters.\n",
    "        mixup_lambda = np.random.beta(alpha, alpha)\n",
    "    else:\n",
    "        # Don't Mix.\n",
    "        mixup_lambda = 1 \n",
    "        \n",
    "    # Note that 4D Tensor is Typically x.size(batch_size, channels, height, width).\n",
    "    batch_size = x.size(0)\n",
    "    \n",
    "    # Randomly Shuffles Index Matches using Built-in Torch Function\n",
    "    index = torch.randperm(batch_size)  \n",
    "    \n",
    "    # Generate the Bounding Box\n",
    "    bbx1, bby1, bbx2, bby2 = rand_bbox(x.size(), mixup_lambda)\n",
    "    \n",
    "    # Cut and Paste\n",
    "    x[:, :, bbx1:bbx2, bby1:bby2] = x[index, :, bbx1:bbx2, bby1:bby2]\n",
    "    \n",
    "    # Labels for Both Original and Mixed Data\n",
    "    y_orig, y_mixed = y, y[index]\n",
    "\n",
    "    # Return Images, Labels, and Lambda\n",
    "    return x, y_orig, y_mixed, mixup_lambda"
   ]
  },
  {
   "cell_type": "markdown",
   "id": "13241941",
   "metadata": {},
   "source": [
    "### Output CutMix Example Result"
   ]
  },
  {
   "cell_type": "code",
   "execution_count": 4,
   "id": "e8fe06e3",
   "metadata": {},
   "outputs": [],
   "source": [
    "# Call Apply Cutmix\n",
    "mixed_img_tensor, y_orig, y_mixed, mixup_lambda = apply_cutmix(batch_images, labels, alpha=0.6)\n",
    "\n",
    "# Convert Returned Tensor to Image\n",
    "mixed_img_single = mixed_img_tensor[0]\n",
    "convert_tensor_to_img = transforms.ToPILImage()\n",
    "mixed_img = convert_tensor_to_img(mixed_img_single)"
   ]
  },
  {
   "cell_type": "code",
   "execution_count": 5,
   "id": "a8aafa39",
   "metadata": {},
   "outputs": [
    {
     "data": {
      "image/png": "[encoded data removed]",
      "text/plain": [
       "<Figure size 900x300 with 3 Axes>"
      ]
     },
     "metadata": {},
     "output_type": "display_data"
    }
   ],
   "source": [
    "# Imports\n",
    "import matplotlib.pyplot as plt\n",
    "\n",
    "# Compare Original Images to Mixed Image\n",
    "plt.figure(figsize=(9, 3))\n",
    "\n",
    "### First Original Image\n",
    "plt.subplot(1, 3, 1)\n",
    "plt.title(\"Original Image 1\")\n",
    "plt.imshow(sample_img_png)\n",
    "\n",
    "### Second Original Image\n",
    "plt.subplot(1, 3, 2)\n",
    "plt.title(\"Original Image 2\")\n",
    "plt.imshow(sample_img_png_2)\n",
    "\n",
    "### Mixed Image\n",
    "plt.subplot(1, 3, 3)\n",
    "plt.title(f\"Mixed Image (λ={mixup_lambda:.2f})\")\n",
    "plt.imshow(mixed_img)\n",
    "plt.show()"
   ]
  },
  {
   "cell_type": "markdown",
   "id": "4f301739",
   "metadata": {},
   "source": [
    "Written by Kailey Quesada with the help of generative AI. It appears to have pulled from the following repository: https://github.com/clovaai/CutMix-PyTorch/blob/master/train.py."
   ]
  }
 ],
 "metadata": {
  "kernelspec": {
   "display_name": "Python 3 (ipykernel)",
   "language": "python",
   "name": "python3"
  },
  "language_info": {
   "codemirror_mode": {
    "name": "ipython",
    "version": 3
   },
   "file_extension": ".py",
   "mimetype": "text/x-python",
   "name": "python",
   "nbconvert_exporter": "python",
   "pygments_lexer": "ipython3",
   "version": "3.11.5"
  }
 },
 "nbformat": 4,
 "nbformat_minor": 5
}
